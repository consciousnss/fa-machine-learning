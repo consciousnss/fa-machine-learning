{
 "cells": [
  {
   "cell_type": "markdown",
   "metadata": {
    "id": "DY6KfR5twAZ2"
   },
   "source": [
    "## Семинар 4\n",
    "\n",
    "# Тема: Линейная регрессия с m признаками"
   ]
  },
  {
   "cell_type": "markdown",
   "metadata": {},
   "source": [
    "Линейная регрессия – это модель линейной зависимости между признаками и целевой переменной.\n",
    "\n",
    "$X \\in{\\mathbb R}^{\\displaystyle n \\times m}$, $\\vec y \\in {\\mathbb R}^{1}$\n",
    "\n",
    "$X=\\begin{pmatrix}\n",
    "  x_{1 1} & x_{1 2}& \\dots & x_{1 m}\\\\\n",
    "   \\vdots &  \\vdots & \\dots &  \\vdots\\\\\n",
    "   x_{n 1} & x_{n 2}& \\dots & x_{n m}\n",
    "\\end{pmatrix}$ - матрица признаков, $\\quad \\vec{y}=\\begin{pmatrix}\n",
    "  y_1\\\\\n",
    "   \\vdots \\\\\n",
    "  y_n\n",
    "\\end{pmatrix}$ - вектор-столбец целевой переменной\n",
    "\n",
    "Модель: $\\hat{y} = w_0 + w_1 x_1+ w_2 x_2 + \\dots + w_m x_m$ - предсказанные значения (гиперплоскость)\n",
    "\n",
    "\n",
    "$\\left\\{\n",
    "\\begin{array}{ccc}\n",
    "\\hat{y}_1 = w_0 + w_1 x_{1 1}+ w_2 x_{1 2}+\\dots + w_m x_{1 m}\\\\\n",
    "\\hat{y}_2 = w_0 + w_1 x_{2 1}+ w_2 x_{2 2}+\\dots + w_m x_{2 m}\\\\\n",
    " \\ldots \\\\\n",
    "\\hat{y}_n = w_0 + w_1 x_{n 1}+ w_2 x_{n 2}+\\dots + w_m x_{n m}\\\\\n",
    "\\end{array}\n",
    "\\right.\n",
    "\\qquad \\Rightarrow \\qquad   \\hat{y}_i = w_0 + w_1 x_{i 1}+ w_2 x_{i 2}+\\dots + w_m x_{i m}, \\quad i= 1,\\dots , n $\n",
    "\n",
    "Ошибка MSE (mean squared error):\n",
    "$L =  \\frac{1}{n}\\sum_{i=1}^{n} (\\hat{y}_i - {y}_i)^2$\n",
    "\n",
    "Функция ошибки:\n",
    "$L(w_0, w_1, w_2,\\dots , w_m) =  \\frac{1}{n}\\sum_{i=1}^{n} ( w_0 + w_1 x_{i 1}+ w_2 x_{i 2}+\\dots + w_m x_{i m} - {y}_i)^2 \\quad \\longrightarrow_{w_0, w_1, w_2,\\dots , w_m} \\quad min$\n",
    "\n",
    "Найдём частные производные:\n",
    "\n",
    "$ \\frac{\\partial }{\\partial w_0}L(w_0,w_1, w_2,\\dots, w_m) =\\frac{2}{n}\\sum_{i=1}^{n} ( w_0 + w_1 x_{i 1}+ w_2 x_{i 2}+\\dots + w_m x_{i m} - {y}_i)$\n",
    "\n",
    "$\\frac{\\partial }{\\partial w_1}L(w_0,w_1, w_2,\\dots , w_m) =\\frac{2}{n}\\sum_{i=1}^{n} ( w_0 + w_1 x_{i 1}+ w_2 x_{i 2}+\\dots + w_m x_{i m} - {y}_i){x}_{i 1}$\n",
    "\n",
    "$\\frac{\\partial }{\\partial w_2}L(w_0,w_1, w_2,\\dots , w_m) =\\frac{2}{n}\\sum_{i=1}^{n} ( w_0 + w_1 x_{i 1}+ w_2 x_{i 2}+\\dots + w_m x_{i m} - {y}_i){x}_{i 2}$\n",
    "\n",
    "$\\dots$\n",
    "\n",
    "$\\frac{\\partial }{\\partial w_m}L(w_0,w_1, w_2,\\dots , w_m) =\\frac{2}{n}\\sum_{i=1}^{n} ( w_0 + w_1 x_{i 1}+ w_2 x_{i 2}+\\dots + w_m x_{i m} - {y}_i){x}_{i m}$\n",
    "\n",
    "**Метод градиентного спуска в случае линейной регрессии**\n",
    "\n",
    "$\\left\\{\n",
    "\\begin{array}{ccc}\n",
    "w_{0}^{j+1} = w_{0}^{j} - \\alpha \\frac{1}{n}\\sum_{i=1}^{n} (w_0^{j} + w_1^{j} {x}_{i 1} + w_2^{j} x_{i 2}+\\dots + w_m x_{i m} - {y}_i)\\\\\n",
    "w_{1}^{j+1} = w_{1}^{j} - \\alpha \\frac{1}{n}\\sum_{i=1}^{n} (w_0^{j} + w_1^{j} {x}_{i 1} + w_2^{j} x_{i 2}+\\dots + w_m x_{i m} - {y}_i){x}_{i 1}\\\\\n",
    "\\dots \\\\\n",
    "w_{m}^{j+1} = w_{m}^{j} - \\alpha \\frac{1}{n}\\sum_{i=1}^{n} (w_0^{j} + w_1^{j} {x}_{i 1} + w_2^{j} x_{i 2}+\\dots + w_m x_{i m} - {y}_i){x}_{i m}\\\n",
    "\\end{array}\n",
    "\\right.\n",
    ", \\quad j= 1,\\dots , k-1$"
   ]
  },
  {
   "cell_type": "markdown",
   "metadata": {
    "id": "JE3-i5DkwAZ9"
   },
   "source": [
    "### Матричный вид:\n",
    "\n",
    "Формулы очень громоздкие, запишем их в матричном виде:\n",
    "\n",
    "$\\tilde{X}=\\begin{pmatrix}\n",
    "1 &  x_{1 1} & x_{1 2}& \\dots & x_{1 m}\\\\\n",
    "   \\vdots &  \\vdots & \\dots &  \\vdots\\\\\n",
    "1 &  x_{n 1} & x_{n 2}& \\dots & x_{n m}\n",
    "\\end{pmatrix}$ - матрица признаков с добавленным столбцом из едениц,\n",
    "\n",
    "$\\quad \\vec{y}=\\begin{pmatrix}\n",
    "  y_1\\\\\n",
    "   \\vdots \\\\\n",
    "  y_n\n",
    "\\end{pmatrix}$ - вектор-столбец целевой переменной,\n",
    "\n",
    "$\\quad \\vec{w}=\\begin{pmatrix}\n",
    "w_0\\\\\n",
    "w_1\\\\\n",
    "\\vdots \\\\\n",
    "w_m\n",
    "\\end{pmatrix}$ - вектор-столбец параметров гиперплоскости,\n",
    "\n",
    "$\\vec{\\hat{y}} = \\tilde{X}\\vec{w}$ - вектор-столбец предсказанных значений\n",
    "\n",
    "Функция ошибки MSE: $L = \\frac{1}{n}(\\tilde{X}\\vec{w}- \\vec{y})^{T}(\\tilde{X}\\vec{w}- \\vec{y})$\n",
    "\n",
    "Найдём частные производные:\n",
    "\n",
    "$\\begin{pmatrix}\n",
    "  \\frac{\\partial L}{\\partial w_0}\\\\\n",
    "  \\frac{\\partial L}{\\partial w_1}\\\\\n",
    "   \\vdots \\\\\n",
    " \\frac{\\partial L}{\\partial w_m}\n",
    "\\end{pmatrix}=\\frac{2}{n}\\tilde{X}^T(\\tilde{X}\\vec{w}- \\vec{y})$\n",
    "\n",
    "**Метод градиентного спуска в случае линейной регрессии:**\n",
    "\n",
    "$\\vec{w}^{j+1} = \\vec{w}^{j} - \\alpha \\frac{1}{n}\\tilde{X}^T(\\tilde{X}\\vec{w}^{j+1}- \\vec{y}), \\quad j= 1,\\dots , k$\n",
    "\n",
    "Градиентный спуск может быть усовершенствован до стохастического градиентного спуска, при котором вычисления производятся не на всех данных, а на наборах объектов, выбранных случайным образом из всех данных, что уменьшает требования по памяти."
   ]
  },
  {
   "cell_type": "markdown",
   "metadata": {
    "id": "ACeps3L6vUXM"
   },
   "source": [
    "## Аналитическое решение\n",
    "\n",
    "Найти вектор оптимальных весов $w$ можно аналитически.\n",
    "Нужно найти такой вектор весов $w$, чтобы  выполнялось матричное уравнение:\n",
    "\n",
    "$\\vec{{y}} = \\tilde{X}\\vec{w}$.\n",
    "\n",
    "Домножим слева обе части на $\\tilde{X}^T$:\n",
    "\n",
    "$\\tilde{X}^T\\vec{{y}} = \\tilde{X}^T\\tilde{X}\\vec{w}$.\n",
    "\n",
    "Матрица $\\tilde{X}^T\\tilde{X}$ - квадратная, тогда можно найти решение (вектор $\\vec{w}$) в виде:\n",
    "\n",
    "$\\vec{w} = {(\\tilde{X}^T\\tilde{X})}^{-1}\\tilde{X}^T\\vec{{y}}$.\n",
    "\n",
    "У этого метода есть недостаток.\n",
    "Нахождение матрицы ${(\\tilde{X}^T\\tilde{X})}^{-1}$ - операция вычислительно сложная в случае большого размера матрицы и нестабильная в случае малого определителя матрицы $\\tilde{X}^T\\tilde{X}$.\n",
    "\n",
    "На практике лучше находить вектор весов $\\vec w$ решением матричного уравнения\n",
    "$\\tilde{X}^T\\tilde{X}\\vec{w}= \\tilde{X}^T\\vec{{y}}$. Оно называется нормальным. Это может быть сделано с помощью функции [numpy.linalg.solve](http://docs.scipy.org/doc/numpy-1.10.1/reference/generated/numpy.linalg.solve.html).\n",
    "\n",
    "Для небольшого датасета быстрее будет получаться аналитическое решение, но для больших матриц $\\tilde{X}$ быстрее работает градиентный спуск, особенно его стохастическая версия."
   ]
  },
  {
   "cell_type": "markdown",
   "metadata": {
    "id": "VtKkv70TwAZ_"
   },
   "source": [
    "Импортируем необходимые библиотеки:"
   ]
  },
  {
   "cell_type": "code",
   "metadata": {
    "id": "Yg-3Xb1uwAZ_",
    "ExecuteTime": {
     "end_time": "2024-10-09T12:49:35.112893Z",
     "start_time": "2024-10-09T12:49:32.207689Z"
    }
   },
   "source": [
    "import numpy as np\n",
    "import pandas as pd\n",
    "import matplotlib.pyplot as plt\n",
    "import seaborn as sns\n",
    "\n",
    "from sklearn.datasets import make_regression\n",
    "import time\n",
    "from sklearn.linear_model import LinearRegression\n",
    "from sklearn.datasets import load_diabetes"
   ],
   "outputs": [],
   "execution_count": 2
  },
  {
   "cell_type": "markdown",
   "metadata": {},
   "source": [
    "### Обучение модели линейной регрессии на sklearn"
   ]
  },
  {
   "cell_type": "markdown",
   "metadata": {},
   "source": [
    "Генерируем данные:"
   ]
  },
  {
   "cell_type": "code",
   "metadata": {
    "ExecuteTime": {
     "end_time": "2024-10-09T12:49:35.150350Z",
     "start_time": "2024-10-09T12:49:35.128539Z"
    }
   },
   "source": [
    "X, y = make_regression(n_samples=1000, # число строк\n",
    "                          n_features=5,    # число признаков\n",
    "                          n_informative=5, # целевая переменная зависит от всех признаков\n",
    "                          noise = 5,\n",
    "                          bias = 2,\n",
    "                          random_state=42)"
   ],
   "outputs": [],
   "execution_count": 3
  },
  {
   "cell_type": "markdown",
   "metadata": {},
   "source": [
    "Создаём модель (объект класса) линейной регрессии:"
   ]
  },
  {
   "cell_type": "code",
   "metadata": {
    "id": "Y56H_RcgwAaX",
    "ExecuteTime": {
     "end_time": "2024-10-09T12:49:35.243064Z",
     "start_time": "2024-10-09T12:49:35.233934Z"
    }
   },
   "source": [
    "model = LinearRegression()"
   ],
   "outputs": [],
   "execution_count": 4
  },
  {
   "cell_type": "markdown",
   "metadata": {},
   "source": [
    "Обучаем модель:"
   ]
  },
  {
   "cell_type": "code",
   "metadata": {
    "colab": {
     "base_uri": "https://localhost:8080/",
     "height": 75
    },
    "id": "iRMGN_qYwAaX",
    "outputId": "037e5c56-12d5-4456-d0cd-259c7645135b",
    "ExecuteTime": {
     "end_time": "2024-10-09T12:49:35.353811Z",
     "start_time": "2024-10-09T12:49:35.316948Z"
    }
   },
   "source": [
    "model.fit(X, y)"
   ],
   "outputs": [
    {
     "data": {
      "text/plain": [
       "LinearRegression()"
      ],
      "text/html": [
       "<style>#sk-container-id-1 {\n",
       "  /* Definition of color scheme common for light and dark mode */\n",
       "  --sklearn-color-text: black;\n",
       "  --sklearn-color-line: gray;\n",
       "  /* Definition of color scheme for unfitted estimators */\n",
       "  --sklearn-color-unfitted-level-0: #fff5e6;\n",
       "  --sklearn-color-unfitted-level-1: #f6e4d2;\n",
       "  --sklearn-color-unfitted-level-2: #ffe0b3;\n",
       "  --sklearn-color-unfitted-level-3: chocolate;\n",
       "  /* Definition of color scheme for fitted estimators */\n",
       "  --sklearn-color-fitted-level-0: #f0f8ff;\n",
       "  --sklearn-color-fitted-level-1: #d4ebff;\n",
       "  --sklearn-color-fitted-level-2: #b3dbfd;\n",
       "  --sklearn-color-fitted-level-3: cornflowerblue;\n",
       "\n",
       "  /* Specific color for light theme */\n",
       "  --sklearn-color-text-on-default-background: var(--sg-text-color, var(--theme-code-foreground, var(--jp-content-font-color1, black)));\n",
       "  --sklearn-color-background: var(--sg-background-color, var(--theme-background, var(--jp-layout-color0, white)));\n",
       "  --sklearn-color-border-box: var(--sg-text-color, var(--theme-code-foreground, var(--jp-content-font-color1, black)));\n",
       "  --sklearn-color-icon: #696969;\n",
       "\n",
       "  @media (prefers-color-scheme: dark) {\n",
       "    /* Redefinition of color scheme for dark theme */\n",
       "    --sklearn-color-text-on-default-background: var(--sg-text-color, var(--theme-code-foreground, var(--jp-content-font-color1, white)));\n",
       "    --sklearn-color-background: var(--sg-background-color, var(--theme-background, var(--jp-layout-color0, #111)));\n",
       "    --sklearn-color-border-box: var(--sg-text-color, var(--theme-code-foreground, var(--jp-content-font-color1, white)));\n",
       "    --sklearn-color-icon: #878787;\n",
       "  }\n",
       "}\n",
       "\n",
       "#sk-container-id-1 {\n",
       "  color: var(--sklearn-color-text);\n",
       "}\n",
       "\n",
       "#sk-container-id-1 pre {\n",
       "  padding: 0;\n",
       "}\n",
       "\n",
       "#sk-container-id-1 input.sk-hidden--visually {\n",
       "  border: 0;\n",
       "  clip: rect(1px 1px 1px 1px);\n",
       "  clip: rect(1px, 1px, 1px, 1px);\n",
       "  height: 1px;\n",
       "  margin: -1px;\n",
       "  overflow: hidden;\n",
       "  padding: 0;\n",
       "  position: absolute;\n",
       "  width: 1px;\n",
       "}\n",
       "\n",
       "#sk-container-id-1 div.sk-dashed-wrapped {\n",
       "  border: 1px dashed var(--sklearn-color-line);\n",
       "  margin: 0 0.4em 0.5em 0.4em;\n",
       "  box-sizing: border-box;\n",
       "  padding-bottom: 0.4em;\n",
       "  background-color: var(--sklearn-color-background);\n",
       "}\n",
       "\n",
       "#sk-container-id-1 div.sk-container {\n",
       "  /* jupyter's `normalize.less` sets `[hidden] { display: none; }`\n",
       "     but bootstrap.min.css set `[hidden] { display: none !important; }`\n",
       "     so we also need the `!important` here to be able to override the\n",
       "     default hidden behavior on the sphinx rendered scikit-learn.org.\n",
       "     See: https://github.com/scikit-learn/scikit-learn/issues/21755 */\n",
       "  display: inline-block !important;\n",
       "  position: relative;\n",
       "}\n",
       "\n",
       "#sk-container-id-1 div.sk-text-repr-fallback {\n",
       "  display: none;\n",
       "}\n",
       "\n",
       "div.sk-parallel-item,\n",
       "div.sk-serial,\n",
       "div.sk-item {\n",
       "  /* draw centered vertical line to link estimators */\n",
       "  background-image: linear-gradient(var(--sklearn-color-text-on-default-background), var(--sklearn-color-text-on-default-background));\n",
       "  background-size: 2px 100%;\n",
       "  background-repeat: no-repeat;\n",
       "  background-position: center center;\n",
       "}\n",
       "\n",
       "/* Parallel-specific style estimator block */\n",
       "\n",
       "#sk-container-id-1 div.sk-parallel-item::after {\n",
       "  content: \"\";\n",
       "  width: 100%;\n",
       "  border-bottom: 2px solid var(--sklearn-color-text-on-default-background);\n",
       "  flex-grow: 1;\n",
       "}\n",
       "\n",
       "#sk-container-id-1 div.sk-parallel {\n",
       "  display: flex;\n",
       "  align-items: stretch;\n",
       "  justify-content: center;\n",
       "  background-color: var(--sklearn-color-background);\n",
       "  position: relative;\n",
       "}\n",
       "\n",
       "#sk-container-id-1 div.sk-parallel-item {\n",
       "  display: flex;\n",
       "  flex-direction: column;\n",
       "}\n",
       "\n",
       "#sk-container-id-1 div.sk-parallel-item:first-child::after {\n",
       "  align-self: flex-end;\n",
       "  width: 50%;\n",
       "}\n",
       "\n",
       "#sk-container-id-1 div.sk-parallel-item:last-child::after {\n",
       "  align-self: flex-start;\n",
       "  width: 50%;\n",
       "}\n",
       "\n",
       "#sk-container-id-1 div.sk-parallel-item:only-child::after {\n",
       "  width: 0;\n",
       "}\n",
       "\n",
       "/* Serial-specific style estimator block */\n",
       "\n",
       "#sk-container-id-1 div.sk-serial {\n",
       "  display: flex;\n",
       "  flex-direction: column;\n",
       "  align-items: center;\n",
       "  background-color: var(--sklearn-color-background);\n",
       "  padding-right: 1em;\n",
       "  padding-left: 1em;\n",
       "}\n",
       "\n",
       "\n",
       "/* Toggleable style: style used for estimator/Pipeline/ColumnTransformer box that is\n",
       "clickable and can be expanded/collapsed.\n",
       "- Pipeline and ColumnTransformer use this feature and define the default style\n",
       "- Estimators will overwrite some part of the style using the `sk-estimator` class\n",
       "*/\n",
       "\n",
       "/* Pipeline and ColumnTransformer style (default) */\n",
       "\n",
       "#sk-container-id-1 div.sk-toggleable {\n",
       "  /* Default theme specific background. It is overwritten whether we have a\n",
       "  specific estimator or a Pipeline/ColumnTransformer */\n",
       "  background-color: var(--sklearn-color-background);\n",
       "}\n",
       "\n",
       "/* Toggleable label */\n",
       "#sk-container-id-1 label.sk-toggleable__label {\n",
       "  cursor: pointer;\n",
       "  display: block;\n",
       "  width: 100%;\n",
       "  margin-bottom: 0;\n",
       "  padding: 0.5em;\n",
       "  box-sizing: border-box;\n",
       "  text-align: center;\n",
       "}\n",
       "\n",
       "#sk-container-id-1 label.sk-toggleable__label-arrow:before {\n",
       "  /* Arrow on the left of the label */\n",
       "  content: \"▸\";\n",
       "  float: left;\n",
       "  margin-right: 0.25em;\n",
       "  color: var(--sklearn-color-icon);\n",
       "}\n",
       "\n",
       "#sk-container-id-1 label.sk-toggleable__label-arrow:hover:before {\n",
       "  color: var(--sklearn-color-text);\n",
       "}\n",
       "\n",
       "/* Toggleable content - dropdown */\n",
       "\n",
       "#sk-container-id-1 div.sk-toggleable__content {\n",
       "  max-height: 0;\n",
       "  max-width: 0;\n",
       "  overflow: hidden;\n",
       "  text-align: left;\n",
       "  /* unfitted */\n",
       "  background-color: var(--sklearn-color-unfitted-level-0);\n",
       "}\n",
       "\n",
       "#sk-container-id-1 div.sk-toggleable__content.fitted {\n",
       "  /* fitted */\n",
       "  background-color: var(--sklearn-color-fitted-level-0);\n",
       "}\n",
       "\n",
       "#sk-container-id-1 div.sk-toggleable__content pre {\n",
       "  margin: 0.2em;\n",
       "  border-radius: 0.25em;\n",
       "  color: var(--sklearn-color-text);\n",
       "  /* unfitted */\n",
       "  background-color: var(--sklearn-color-unfitted-level-0);\n",
       "}\n",
       "\n",
       "#sk-container-id-1 div.sk-toggleable__content.fitted pre {\n",
       "  /* unfitted */\n",
       "  background-color: var(--sklearn-color-fitted-level-0);\n",
       "}\n",
       "\n",
       "#sk-container-id-1 input.sk-toggleable__control:checked~div.sk-toggleable__content {\n",
       "  /* Expand drop-down */\n",
       "  max-height: 200px;\n",
       "  max-width: 100%;\n",
       "  overflow: auto;\n",
       "}\n",
       "\n",
       "#sk-container-id-1 input.sk-toggleable__control:checked~label.sk-toggleable__label-arrow:before {\n",
       "  content: \"▾\";\n",
       "}\n",
       "\n",
       "/* Pipeline/ColumnTransformer-specific style */\n",
       "\n",
       "#sk-container-id-1 div.sk-label input.sk-toggleable__control:checked~label.sk-toggleable__label {\n",
       "  color: var(--sklearn-color-text);\n",
       "  background-color: var(--sklearn-color-unfitted-level-2);\n",
       "}\n",
       "\n",
       "#sk-container-id-1 div.sk-label.fitted input.sk-toggleable__control:checked~label.sk-toggleable__label {\n",
       "  background-color: var(--sklearn-color-fitted-level-2);\n",
       "}\n",
       "\n",
       "/* Estimator-specific style */\n",
       "\n",
       "/* Colorize estimator box */\n",
       "#sk-container-id-1 div.sk-estimator input.sk-toggleable__control:checked~label.sk-toggleable__label {\n",
       "  /* unfitted */\n",
       "  background-color: var(--sklearn-color-unfitted-level-2);\n",
       "}\n",
       "\n",
       "#sk-container-id-1 div.sk-estimator.fitted input.sk-toggleable__control:checked~label.sk-toggleable__label {\n",
       "  /* fitted */\n",
       "  background-color: var(--sklearn-color-fitted-level-2);\n",
       "}\n",
       "\n",
       "#sk-container-id-1 div.sk-label label.sk-toggleable__label,\n",
       "#sk-container-id-1 div.sk-label label {\n",
       "  /* The background is the default theme color */\n",
       "  color: var(--sklearn-color-text-on-default-background);\n",
       "}\n",
       "\n",
       "/* On hover, darken the color of the background */\n",
       "#sk-container-id-1 div.sk-label:hover label.sk-toggleable__label {\n",
       "  color: var(--sklearn-color-text);\n",
       "  background-color: var(--sklearn-color-unfitted-level-2);\n",
       "}\n",
       "\n",
       "/* Label box, darken color on hover, fitted */\n",
       "#sk-container-id-1 div.sk-label.fitted:hover label.sk-toggleable__label.fitted {\n",
       "  color: var(--sklearn-color-text);\n",
       "  background-color: var(--sklearn-color-fitted-level-2);\n",
       "}\n",
       "\n",
       "/* Estimator label */\n",
       "\n",
       "#sk-container-id-1 div.sk-label label {\n",
       "  font-family: monospace;\n",
       "  font-weight: bold;\n",
       "  display: inline-block;\n",
       "  line-height: 1.2em;\n",
       "}\n",
       "\n",
       "#sk-container-id-1 div.sk-label-container {\n",
       "  text-align: center;\n",
       "}\n",
       "\n",
       "/* Estimator-specific */\n",
       "#sk-container-id-1 div.sk-estimator {\n",
       "  font-family: monospace;\n",
       "  border: 1px dotted var(--sklearn-color-border-box);\n",
       "  border-radius: 0.25em;\n",
       "  box-sizing: border-box;\n",
       "  margin-bottom: 0.5em;\n",
       "  /* unfitted */\n",
       "  background-color: var(--sklearn-color-unfitted-level-0);\n",
       "}\n",
       "\n",
       "#sk-container-id-1 div.sk-estimator.fitted {\n",
       "  /* fitted */\n",
       "  background-color: var(--sklearn-color-fitted-level-0);\n",
       "}\n",
       "\n",
       "/* on hover */\n",
       "#sk-container-id-1 div.sk-estimator:hover {\n",
       "  /* unfitted */\n",
       "  background-color: var(--sklearn-color-unfitted-level-2);\n",
       "}\n",
       "\n",
       "#sk-container-id-1 div.sk-estimator.fitted:hover {\n",
       "  /* fitted */\n",
       "  background-color: var(--sklearn-color-fitted-level-2);\n",
       "}\n",
       "\n",
       "/* Specification for estimator info (e.g. \"i\" and \"?\") */\n",
       "\n",
       "/* Common style for \"i\" and \"?\" */\n",
       "\n",
       ".sk-estimator-doc-link,\n",
       "a:link.sk-estimator-doc-link,\n",
       "a:visited.sk-estimator-doc-link {\n",
       "  float: right;\n",
       "  font-size: smaller;\n",
       "  line-height: 1em;\n",
       "  font-family: monospace;\n",
       "  background-color: var(--sklearn-color-background);\n",
       "  border-radius: 1em;\n",
       "  height: 1em;\n",
       "  width: 1em;\n",
       "  text-decoration: none !important;\n",
       "  margin-left: 1ex;\n",
       "  /* unfitted */\n",
       "  border: var(--sklearn-color-unfitted-level-1) 1pt solid;\n",
       "  color: var(--sklearn-color-unfitted-level-1);\n",
       "}\n",
       "\n",
       ".sk-estimator-doc-link.fitted,\n",
       "a:link.sk-estimator-doc-link.fitted,\n",
       "a:visited.sk-estimator-doc-link.fitted {\n",
       "  /* fitted */\n",
       "  border: var(--sklearn-color-fitted-level-1) 1pt solid;\n",
       "  color: var(--sklearn-color-fitted-level-1);\n",
       "}\n",
       "\n",
       "/* On hover */\n",
       "div.sk-estimator:hover .sk-estimator-doc-link:hover,\n",
       ".sk-estimator-doc-link:hover,\n",
       "div.sk-label-container:hover .sk-estimator-doc-link:hover,\n",
       ".sk-estimator-doc-link:hover {\n",
       "  /* unfitted */\n",
       "  background-color: var(--sklearn-color-unfitted-level-3);\n",
       "  color: var(--sklearn-color-background);\n",
       "  text-decoration: none;\n",
       "}\n",
       "\n",
       "div.sk-estimator.fitted:hover .sk-estimator-doc-link.fitted:hover,\n",
       ".sk-estimator-doc-link.fitted:hover,\n",
       "div.sk-label-container:hover .sk-estimator-doc-link.fitted:hover,\n",
       ".sk-estimator-doc-link.fitted:hover {\n",
       "  /* fitted */\n",
       "  background-color: var(--sklearn-color-fitted-level-3);\n",
       "  color: var(--sklearn-color-background);\n",
       "  text-decoration: none;\n",
       "}\n",
       "\n",
       "/* Span, style for the box shown on hovering the info icon */\n",
       ".sk-estimator-doc-link span {\n",
       "  display: none;\n",
       "  z-index: 9999;\n",
       "  position: relative;\n",
       "  font-weight: normal;\n",
       "  right: .2ex;\n",
       "  padding: .5ex;\n",
       "  margin: .5ex;\n",
       "  width: min-content;\n",
       "  min-width: 20ex;\n",
       "  max-width: 50ex;\n",
       "  color: var(--sklearn-color-text);\n",
       "  box-shadow: 2pt 2pt 4pt #999;\n",
       "  /* unfitted */\n",
       "  background: var(--sklearn-color-unfitted-level-0);\n",
       "  border: .5pt solid var(--sklearn-color-unfitted-level-3);\n",
       "}\n",
       "\n",
       ".sk-estimator-doc-link.fitted span {\n",
       "  /* fitted */\n",
       "  background: var(--sklearn-color-fitted-level-0);\n",
       "  border: var(--sklearn-color-fitted-level-3);\n",
       "}\n",
       "\n",
       ".sk-estimator-doc-link:hover span {\n",
       "  display: block;\n",
       "}\n",
       "\n",
       "/* \"?\"-specific style due to the `<a>` HTML tag */\n",
       "\n",
       "#sk-container-id-1 a.estimator_doc_link {\n",
       "  float: right;\n",
       "  font-size: 1rem;\n",
       "  line-height: 1em;\n",
       "  font-family: monospace;\n",
       "  background-color: var(--sklearn-color-background);\n",
       "  border-radius: 1rem;\n",
       "  height: 1rem;\n",
       "  width: 1rem;\n",
       "  text-decoration: none;\n",
       "  /* unfitted */\n",
       "  color: var(--sklearn-color-unfitted-level-1);\n",
       "  border: var(--sklearn-color-unfitted-level-1) 1pt solid;\n",
       "}\n",
       "\n",
       "#sk-container-id-1 a.estimator_doc_link.fitted {\n",
       "  /* fitted */\n",
       "  border: var(--sklearn-color-fitted-level-1) 1pt solid;\n",
       "  color: var(--sklearn-color-fitted-level-1);\n",
       "}\n",
       "\n",
       "/* On hover */\n",
       "#sk-container-id-1 a.estimator_doc_link:hover {\n",
       "  /* unfitted */\n",
       "  background-color: var(--sklearn-color-unfitted-level-3);\n",
       "  color: var(--sklearn-color-background);\n",
       "  text-decoration: none;\n",
       "}\n",
       "\n",
       "#sk-container-id-1 a.estimator_doc_link.fitted:hover {\n",
       "  /* fitted */\n",
       "  background-color: var(--sklearn-color-fitted-level-3);\n",
       "}\n",
       "</style><div id=\"sk-container-id-1\" class=\"sk-top-container\"><div class=\"sk-text-repr-fallback\"><pre>LinearRegression()</pre><b>In a Jupyter environment, please rerun this cell to show the HTML representation or trust the notebook. <br />On GitHub, the HTML representation is unable to render, please try loading this page with nbviewer.org.</b></div><div class=\"sk-container\" hidden><div class=\"sk-item\"><div class=\"sk-estimator fitted sk-toggleable\"><input class=\"sk-toggleable__control sk-hidden--visually\" id=\"sk-estimator-id-1\" type=\"checkbox\" checked><label for=\"sk-estimator-id-1\" class=\"sk-toggleable__label fitted sk-toggleable__label-arrow fitted\">&nbsp;&nbsp;LinearRegression<a class=\"sk-estimator-doc-link fitted\" rel=\"noreferrer\" target=\"_blank\" href=\"https://scikit-learn.org/1.5/modules/generated/sklearn.linear_model.LinearRegression.html\">?<span>Documentation for LinearRegression</span></a><span class=\"sk-estimator-doc-link fitted\">i<span>Fitted</span></span></label><div class=\"sk-toggleable__content fitted\"><pre>LinearRegression()</pre></div> </div></div></div></div>"
      ]
     },
     "execution_count": 5,
     "metadata": {},
     "output_type": "execute_result"
    }
   ],
   "execution_count": 5
  },
  {
   "cell_type": "markdown",
   "metadata": {},
   "source": [
    "Выводим найденные коэффициенты линейной регрессии.\n",
    "\n",
    "Свободный коэффициент:"
   ]
  },
  {
   "cell_type": "code",
   "metadata": {
    "colab": {
     "base_uri": "https://localhost:8080/"
    },
    "id": "MIkqUYtPwAaY",
    "outputId": "f15d9117-4885-4df1-a981-f170ddc1194b",
    "ExecuteTime": {
     "end_time": "2024-10-09T12:49:35.459020Z",
     "start_time": "2024-10-09T12:49:35.441578Z"
    }
   },
   "source": [
    "model.intercept_"
   ],
   "outputs": [
    {
     "data": {
      "text/plain": [
       "np.float64(1.691426699296051)"
      ]
     },
     "execution_count": 6,
     "metadata": {},
     "output_type": "execute_result"
    }
   ],
   "execution_count": 6
  },
  {
   "cell_type": "markdown",
   "metadata": {},
   "source": [
    "Веса:"
   ]
  },
  {
   "cell_type": "code",
   "metadata": {
    "colab": {
     "base_uri": "https://localhost:8080/"
    },
    "id": "f_lOeOwrwAaY",
    "outputId": "c823742a-4203-4444-b48e-911aa4d3d073",
    "ExecuteTime": {
     "end_time": "2024-10-09T12:49:35.634979Z",
     "start_time": "2024-10-09T12:49:35.616431Z"
    }
   },
   "source": [
    "model.coef_"
   ],
   "outputs": [
    {
     "data": {
      "text/plain": [
       "array([28.34273825, 46.0063814 , 16.71776866, 24.63911531, 19.1812038 ])"
      ]
     },
     "execution_count": 7,
     "metadata": {},
     "output_type": "execute_result"
    }
   ],
   "execution_count": 7
  },
  {
   "cell_type": "markdown",
   "metadata": {
    "id": "EDblKsG4wAaA"
   },
   "source": [
    "### 1. Сгенерируйте данные и значения целевой переменной (метки) для задачи регрессии, имеющие 5 признаков и 10000 наблюдений. Причём целевая переменная должна зависеть только от 3 признаков. Запишите их в датафрейм, дав названия колонкам. Выведите первые 10 строк датафрейма, а также его описательную статистику.\n",
    "Указание: Для этого воспользуйтесь [make_regression](https://scikit-learn.org/stable/modules/generated/sklearn.datasets.make_classification.html), задав параметры: число строк n_samples=10000, число признаков n_features=5, число признаков от которых зависит целевая переменная n_informative=3, фиксируем воспроизводимость случайных данных        random_state=0. Дайте названия колонкам датафрейма, например, признакам - x1, x2, ..., а целевой переменной - y. Описательная статистика выводится при помощи метода pandas [describe](https://pandas.pydata.org/docs/reference/api/pandas.DataFrame.describe.html)."
   ]
  },
  {
   "cell_type": "code",
   "metadata": {
    "ExecuteTime": {
     "end_time": "2024-10-09T12:49:35.894330Z",
     "start_time": "2024-10-09T12:49:35.869950Z"
    }
   },
   "source": [
    "X, y = make_regression(n_samples=10000, # число строк\n",
    "                          n_features=5,    # число признаков\n",
    "                          n_informative=3, # целевая переменная зависит от всех признаков\n",
    "                          random_state=42)"
   ],
   "outputs": [],
   "execution_count": 8
  },
  {
   "cell_type": "code",
   "metadata": {
    "ExecuteTime": {
     "end_time": "2024-10-09T12:49:36.055767Z",
     "start_time": "2024-10-09T12:49:36.042845Z"
    }
   },
   "source": [
    "X[:5]"
   ],
   "outputs": [
    {
     "data": {
      "text/plain": [
       "array([[-0.76185354,  0.8715765 ,  1.09439478,  0.183368  ,  0.02913489],\n",
       "       [-0.4309962 , -1.25135618, -0.54719179, -1.10687029,  1.33450613],\n",
       "       [-0.4478858 ,  1.97822297, -1.3211183 ,  0.85332424, -1.47937352],\n",
       "       [ 0.02050173,  0.75204638,  1.33321056,  0.65336838, -1.07119486],\n",
       "       [ 1.29914982,  0.33323053, -0.24733596,  0.33271933, -1.33314801]])"
      ]
     },
     "execution_count": 9,
     "metadata": {},
     "output_type": "execute_result"
    }
   ],
   "execution_count": 9
  },
  {
   "cell_type": "code",
   "metadata": {
    "ExecuteTime": {
     "end_time": "2024-10-09T12:49:36.251057Z",
     "start_time": "2024-10-09T12:49:36.208139Z"
    }
   },
   "source": [
    "df = pd.DataFrame(X, columns=[f'x{i+1}' for i in range(X.shape[1])])\n",
    "df"
   ],
   "outputs": [
    {
     "data": {
      "text/plain": [
       "            x1        x2        x3        x4        x5\n",
       "0    -0.761854  0.871577  1.094395  0.183368  0.029135\n",
       "1    -0.430996 -1.251356 -0.547192 -1.106870  1.334506\n",
       "2    -0.447886  1.978223 -1.321118  0.853324 -1.479374\n",
       "3     0.020502  0.752046  1.333211  0.653368 -1.071195\n",
       "4     1.299150  0.333231 -0.247336  0.332719 -1.333148\n",
       "...        ...       ...       ...       ...       ...\n",
       "9995 -0.108076  0.681314  0.390398  0.924574 -0.853174\n",
       "9996 -0.323143 -0.237544 -1.079891  0.334889 -0.378978\n",
       "9997  0.591341  0.830118  0.889318  0.345944 -0.130071\n",
       "9998 -0.458137 -1.026625 -0.533452 -0.377531  1.257613\n",
       "9999 -0.654220 -1.176382  1.775847  1.297774 -1.108053\n",
       "\n",
       "[10000 rows x 5 columns]"
      ],
      "text/html": [
       "<div>\n",
       "<style scoped>\n",
       "    .dataframe tbody tr th:only-of-type {\n",
       "        vertical-align: middle;\n",
       "    }\n",
       "\n",
       "    .dataframe tbody tr th {\n",
       "        vertical-align: top;\n",
       "    }\n",
       "\n",
       "    .dataframe thead th {\n",
       "        text-align: right;\n",
       "    }\n",
       "</style>\n",
       "<table border=\"1\" class=\"dataframe\">\n",
       "  <thead>\n",
       "    <tr style=\"text-align: right;\">\n",
       "      <th></th>\n",
       "      <th>x1</th>\n",
       "      <th>x2</th>\n",
       "      <th>x3</th>\n",
       "      <th>x4</th>\n",
       "      <th>x5</th>\n",
       "    </tr>\n",
       "  </thead>\n",
       "  <tbody>\n",
       "    <tr>\n",
       "      <th>0</th>\n",
       "      <td>-0.761854</td>\n",
       "      <td>0.871577</td>\n",
       "      <td>1.094395</td>\n",
       "      <td>0.183368</td>\n",
       "      <td>0.029135</td>\n",
       "    </tr>\n",
       "    <tr>\n",
       "      <th>1</th>\n",
       "      <td>-0.430996</td>\n",
       "      <td>-1.251356</td>\n",
       "      <td>-0.547192</td>\n",
       "      <td>-1.106870</td>\n",
       "      <td>1.334506</td>\n",
       "    </tr>\n",
       "    <tr>\n",
       "      <th>2</th>\n",
       "      <td>-0.447886</td>\n",
       "      <td>1.978223</td>\n",
       "      <td>-1.321118</td>\n",
       "      <td>0.853324</td>\n",
       "      <td>-1.479374</td>\n",
       "    </tr>\n",
       "    <tr>\n",
       "      <th>3</th>\n",
       "      <td>0.020502</td>\n",
       "      <td>0.752046</td>\n",
       "      <td>1.333211</td>\n",
       "      <td>0.653368</td>\n",
       "      <td>-1.071195</td>\n",
       "    </tr>\n",
       "    <tr>\n",
       "      <th>4</th>\n",
       "      <td>1.299150</td>\n",
       "      <td>0.333231</td>\n",
       "      <td>-0.247336</td>\n",
       "      <td>0.332719</td>\n",
       "      <td>-1.333148</td>\n",
       "    </tr>\n",
       "    <tr>\n",
       "      <th>...</th>\n",
       "      <td>...</td>\n",
       "      <td>...</td>\n",
       "      <td>...</td>\n",
       "      <td>...</td>\n",
       "      <td>...</td>\n",
       "    </tr>\n",
       "    <tr>\n",
       "      <th>9995</th>\n",
       "      <td>-0.108076</td>\n",
       "      <td>0.681314</td>\n",
       "      <td>0.390398</td>\n",
       "      <td>0.924574</td>\n",
       "      <td>-0.853174</td>\n",
       "    </tr>\n",
       "    <tr>\n",
       "      <th>9996</th>\n",
       "      <td>-0.323143</td>\n",
       "      <td>-0.237544</td>\n",
       "      <td>-1.079891</td>\n",
       "      <td>0.334889</td>\n",
       "      <td>-0.378978</td>\n",
       "    </tr>\n",
       "    <tr>\n",
       "      <th>9997</th>\n",
       "      <td>0.591341</td>\n",
       "      <td>0.830118</td>\n",
       "      <td>0.889318</td>\n",
       "      <td>0.345944</td>\n",
       "      <td>-0.130071</td>\n",
       "    </tr>\n",
       "    <tr>\n",
       "      <th>9998</th>\n",
       "      <td>-0.458137</td>\n",
       "      <td>-1.026625</td>\n",
       "      <td>-0.533452</td>\n",
       "      <td>-0.377531</td>\n",
       "      <td>1.257613</td>\n",
       "    </tr>\n",
       "    <tr>\n",
       "      <th>9999</th>\n",
       "      <td>-0.654220</td>\n",
       "      <td>-1.176382</td>\n",
       "      <td>1.775847</td>\n",
       "      <td>1.297774</td>\n",
       "      <td>-1.108053</td>\n",
       "    </tr>\n",
       "  </tbody>\n",
       "</table>\n",
       "<p>10000 rows × 5 columns</p>\n",
       "</div>"
      ]
     },
     "execution_count": 10,
     "metadata": {},
     "output_type": "execute_result"
    }
   ],
   "execution_count": 10
  },
  {
   "cell_type": "code",
   "metadata": {
    "ExecuteTime": {
     "end_time": "2024-10-09T12:49:36.791250Z",
     "start_time": "2024-10-09T12:49:36.725740Z"
    }
   },
   "source": [
    "df.describe()"
   ],
   "outputs": [
    {
     "data": {
      "text/plain": [
       "                 x1            x2            x3            x4            x5\n",
       "count  10000.000000  10000.000000  10000.000000  10000.000000  10000.000000\n",
       "mean      -0.001002     -0.004993     -0.010528      0.000002      0.014416\n",
       "std        0.989240      0.994265      1.005219      1.014868      0.997083\n",
       "min       -3.856375     -3.631539     -3.635200     -4.295391     -4.465604\n",
       "25%       -0.664076     -0.675572     -0.704792     -0.696539     -0.654058\n",
       "50%       -0.000210      0.006501     -0.019121      0.012872      0.006485\n",
       "75%        0.679485      0.662879      0.676844      0.683884      0.683468\n",
       "max        3.852731      4.479084      3.691625      3.926238      3.942331"
      ],
      "text/html": [
       "<div>\n",
       "<style scoped>\n",
       "    .dataframe tbody tr th:only-of-type {\n",
       "        vertical-align: middle;\n",
       "    }\n",
       "\n",
       "    .dataframe tbody tr th {\n",
       "        vertical-align: top;\n",
       "    }\n",
       "\n",
       "    .dataframe thead th {\n",
       "        text-align: right;\n",
       "    }\n",
       "</style>\n",
       "<table border=\"1\" class=\"dataframe\">\n",
       "  <thead>\n",
       "    <tr style=\"text-align: right;\">\n",
       "      <th></th>\n",
       "      <th>x1</th>\n",
       "      <th>x2</th>\n",
       "      <th>x3</th>\n",
       "      <th>x4</th>\n",
       "      <th>x5</th>\n",
       "    </tr>\n",
       "  </thead>\n",
       "  <tbody>\n",
       "    <tr>\n",
       "      <th>count</th>\n",
       "      <td>10000.000000</td>\n",
       "      <td>10000.000000</td>\n",
       "      <td>10000.000000</td>\n",
       "      <td>10000.000000</td>\n",
       "      <td>10000.000000</td>\n",
       "    </tr>\n",
       "    <tr>\n",
       "      <th>mean</th>\n",
       "      <td>-0.001002</td>\n",
       "      <td>-0.004993</td>\n",
       "      <td>-0.010528</td>\n",
       "      <td>0.000002</td>\n",
       "      <td>0.014416</td>\n",
       "    </tr>\n",
       "    <tr>\n",
       "      <th>std</th>\n",
       "      <td>0.989240</td>\n",
       "      <td>0.994265</td>\n",
       "      <td>1.005219</td>\n",
       "      <td>1.014868</td>\n",
       "      <td>0.997083</td>\n",
       "    </tr>\n",
       "    <tr>\n",
       "      <th>min</th>\n",
       "      <td>-3.856375</td>\n",
       "      <td>-3.631539</td>\n",
       "      <td>-3.635200</td>\n",
       "      <td>-4.295391</td>\n",
       "      <td>-4.465604</td>\n",
       "    </tr>\n",
       "    <tr>\n",
       "      <th>25%</th>\n",
       "      <td>-0.664076</td>\n",
       "      <td>-0.675572</td>\n",
       "      <td>-0.704792</td>\n",
       "      <td>-0.696539</td>\n",
       "      <td>-0.654058</td>\n",
       "    </tr>\n",
       "    <tr>\n",
       "      <th>50%</th>\n",
       "      <td>-0.000210</td>\n",
       "      <td>0.006501</td>\n",
       "      <td>-0.019121</td>\n",
       "      <td>0.012872</td>\n",
       "      <td>0.006485</td>\n",
       "    </tr>\n",
       "    <tr>\n",
       "      <th>75%</th>\n",
       "      <td>0.679485</td>\n",
       "      <td>0.662879</td>\n",
       "      <td>0.676844</td>\n",
       "      <td>0.683884</td>\n",
       "      <td>0.683468</td>\n",
       "    </tr>\n",
       "    <tr>\n",
       "      <th>max</th>\n",
       "      <td>3.852731</td>\n",
       "      <td>4.479084</td>\n",
       "      <td>3.691625</td>\n",
       "      <td>3.926238</td>\n",
       "      <td>3.942331</td>\n",
       "    </tr>\n",
       "  </tbody>\n",
       "</table>\n",
       "</div>"
      ]
     },
     "execution_count": 11,
     "metadata": {},
     "output_type": "execute_result"
    }
   ],
   "execution_count": 11
  },
  {
   "cell_type": "markdown",
   "metadata": {},
   "source": [
    "### 2. Убелитесь в том, что в сгенерированных данных целевая переменная действительно зависит от трёх переменных. \n",
    "Указание: Для этого вычислите матрицу корреляции, воспользовавшись методом [corr](https://pandas.pydata.org/docs/reference/api/pandas.DataFrame.corr.html) библиотеки pandas. Для наглядности изобразите её на тепловой карте [heatmap](https://seaborn.pydata.org/generated/seaborn.heatmap.html) библиотеки seaborn. "
   ]
  },
  {
   "cell_type": "code",
   "metadata": {
    "ExecuteTime": {
     "end_time": "2024-10-09T12:49:37.533385Z",
     "start_time": "2024-10-09T12:49:37.488245Z"
    }
   },
   "source": [
    "df.corr()"
   ],
   "outputs": [
    {
     "data": {
      "text/plain": [
       "          x1        x2        x3        x4        x5\n",
       "x1  1.000000 -0.002876  0.000074  0.000603  0.004908\n",
       "x2 -0.002876  1.000000  0.003873  0.012809 -0.002124\n",
       "x3  0.000074  0.003873  1.000000  0.007831 -0.011626\n",
       "x4  0.000603  0.012809  0.007831  1.000000  0.009227\n",
       "x5  0.004908 -0.002124 -0.011626  0.009227  1.000000"
      ],
      "text/html": [
       "<div>\n",
       "<style scoped>\n",
       "    .dataframe tbody tr th:only-of-type {\n",
       "        vertical-align: middle;\n",
       "    }\n",
       "\n",
       "    .dataframe tbody tr th {\n",
       "        vertical-align: top;\n",
       "    }\n",
       "\n",
       "    .dataframe thead th {\n",
       "        text-align: right;\n",
       "    }\n",
       "</style>\n",
       "<table border=\"1\" class=\"dataframe\">\n",
       "  <thead>\n",
       "    <tr style=\"text-align: right;\">\n",
       "      <th></th>\n",
       "      <th>x1</th>\n",
       "      <th>x2</th>\n",
       "      <th>x3</th>\n",
       "      <th>x4</th>\n",
       "      <th>x5</th>\n",
       "    </tr>\n",
       "  </thead>\n",
       "  <tbody>\n",
       "    <tr>\n",
       "      <th>x1</th>\n",
       "      <td>1.000000</td>\n",
       "      <td>-0.002876</td>\n",
       "      <td>0.000074</td>\n",
       "      <td>0.000603</td>\n",
       "      <td>0.004908</td>\n",
       "    </tr>\n",
       "    <tr>\n",
       "      <th>x2</th>\n",
       "      <td>-0.002876</td>\n",
       "      <td>1.000000</td>\n",
       "      <td>0.003873</td>\n",
       "      <td>0.012809</td>\n",
       "      <td>-0.002124</td>\n",
       "    </tr>\n",
       "    <tr>\n",
       "      <th>x3</th>\n",
       "      <td>0.000074</td>\n",
       "      <td>0.003873</td>\n",
       "      <td>1.000000</td>\n",
       "      <td>0.007831</td>\n",
       "      <td>-0.011626</td>\n",
       "    </tr>\n",
       "    <tr>\n",
       "      <th>x4</th>\n",
       "      <td>0.000603</td>\n",
       "      <td>0.012809</td>\n",
       "      <td>0.007831</td>\n",
       "      <td>1.000000</td>\n",
       "      <td>0.009227</td>\n",
       "    </tr>\n",
       "    <tr>\n",
       "      <th>x5</th>\n",
       "      <td>0.004908</td>\n",
       "      <td>-0.002124</td>\n",
       "      <td>-0.011626</td>\n",
       "      <td>0.009227</td>\n",
       "      <td>1.000000</td>\n",
       "    </tr>\n",
       "  </tbody>\n",
       "</table>\n",
       "</div>"
      ]
     },
     "execution_count": 12,
     "metadata": {},
     "output_type": "execute_result"
    }
   ],
   "execution_count": 12
  },
  {
   "cell_type": "code",
   "metadata": {
    "ExecuteTime": {
     "end_time": "2024-10-09T12:49:38.599617Z",
     "start_time": "2024-10-09T12:49:37.978162Z"
    }
   },
   "source": [
    "plt.figure(figsize=(6, 4))\n",
    "sns.heatmap(df.corr(), annot=True, fmt='.2f')\n",
    "plt.title('Матрица корреляции')\n",
    "\n",
    "plt.show()"
   ],
   "outputs": [
    {
     "data": {
      "text/plain": [
       "<Figure size 600x400 with 2 Axes>"
      ],
      "image/png": "[encoded data removed]"
     },
     "metadata": {},
     "output_type": "display_data"
    }
   ],
   "execution_count": 13
  },
  {
   "cell_type": "markdown",
   "metadata": {},
   "source": [
    "### 3. Напишите функцию X_, которая принимает матрицу X (двумерный numpy-массив) и присоединяет столбец единиц к X слева. Примените функцию к сгенерированным выше данным X.\n",
    "Указание: Можно воспользоваться методом concatenate, либо hstack."
   ]
  },
  {
   "cell_type": "code",
   "metadata": {
    "ExecuteTime": {
     "end_time": "2024-10-09T12:49:39.389660Z",
     "start_time": "2024-10-09T12:49:39.368887Z"
    }
   },
   "source": [
    "def X_(X):\n",
    "    X_ones = np.ones((X.shape[0], 1))\n",
    "    return np.hstack([X_ones, X])"
   ],
   "outputs": [],
   "execution_count": 14
  },
  {
   "cell_type": "code",
   "metadata": {
    "ExecuteTime": {
     "end_time": "2024-10-09T12:49:39.554635Z",
     "start_time": "2024-10-09T12:49:39.538457Z"
    }
   },
   "source": [
    "X_(X)"
   ],
   "outputs": [
    {
     "data": {
      "text/plain": [
       "array([[ 1.        , -0.76185354,  0.8715765 ,  1.09439478,  0.183368  ,\n",
       "         0.02913489],\n",
       "       [ 1.        , -0.4309962 , -1.25135618, -0.54719179, -1.10687029,\n",
       "         1.33450613],\n",
       "       [ 1.        , -0.4478858 ,  1.97822297, -1.3211183 ,  0.85332424,\n",
       "        -1.47937352],\n",
       "       ...,\n",
       "       [ 1.        ,  0.59134132,  0.83011766,  0.88931791,  0.34594367,\n",
       "        -0.13007084],\n",
       "       [ 1.        , -0.45813699, -1.02662548, -0.53345245, -0.37753115,\n",
       "         1.25761311],\n",
       "       [ 1.        , -0.65422026, -1.17638185,  1.77584689,  1.29777381,\n",
       "        -1.10805333]])"
      ]
     },
     "execution_count": 15,
     "metadata": {},
     "output_type": "execute_result"
    }
   ],
   "execution_count": 15
  },
  {
   "cell_type": "code",
   "metadata": {
    "ExecuteTime": {
     "end_time": "2024-10-09T12:49:40.057857Z",
     "start_time": "2024-10-09T12:49:40.029427Z"
    }
   },
   "source": [
    "pd.DataFrame(X_(X))"
   ],
   "outputs": [
    {
     "data": {
      "text/plain": [
       "        0         1         2         3         4         5\n",
       "0     1.0 -0.761854  0.871577  1.094395  0.183368  0.029135\n",
       "1     1.0 -0.430996 -1.251356 -0.547192 -1.106870  1.334506\n",
       "2     1.0 -0.447886  1.978223 -1.321118  0.853324 -1.479374\n",
       "3     1.0  0.020502  0.752046  1.333211  0.653368 -1.071195\n",
       "4     1.0  1.299150  0.333231 -0.247336  0.332719 -1.333148\n",
       "...   ...       ...       ...       ...       ...       ...\n",
       "9995  1.0 -0.108076  0.681314  0.390398  0.924574 -0.853174\n",
       "9996  1.0 -0.323143 -0.237544 -1.079891  0.334889 -0.378978\n",
       "9997  1.0  0.591341  0.830118  0.889318  0.345944 -0.130071\n",
       "9998  1.0 -0.458137 -1.026625 -0.533452 -0.377531  1.257613\n",
       "9999  1.0 -0.654220 -1.176382  1.775847  1.297774 -1.108053\n",
       "\n",
       "[10000 rows x 6 columns]"
      ],
      "text/html": [
       "<div>\n",
       "<style scoped>\n",
       "    .dataframe tbody tr th:only-of-type {\n",
       "        vertical-align: middle;\n",
       "    }\n",
       "\n",
       "    .dataframe tbody tr th {\n",
       "        vertical-align: top;\n",
       "    }\n",
       "\n",
       "    .dataframe thead th {\n",
       "        text-align: right;\n",
       "    }\n",
       "</style>\n",
       "<table border=\"1\" class=\"dataframe\">\n",
       "  <thead>\n",
       "    <tr style=\"text-align: right;\">\n",
       "      <th></th>\n",
       "      <th>0</th>\n",
       "      <th>1</th>\n",
       "      <th>2</th>\n",
       "      <th>3</th>\n",
       "      <th>4</th>\n",
       "      <th>5</th>\n",
       "    </tr>\n",
       "  </thead>\n",
       "  <tbody>\n",
       "    <tr>\n",
       "      <th>0</th>\n",
       "      <td>1.0</td>\n",
       "      <td>-0.761854</td>\n",
       "      <td>0.871577</td>\n",
       "      <td>1.094395</td>\n",
       "      <td>0.183368</td>\n",
       "      <td>0.029135</td>\n",
       "    </tr>\n",
       "    <tr>\n",
       "      <th>1</th>\n",
       "      <td>1.0</td>\n",
       "      <td>-0.430996</td>\n",
       "      <td>-1.251356</td>\n",
       "      <td>-0.547192</td>\n",
       "      <td>-1.106870</td>\n",
       "      <td>1.334506</td>\n",
       "    </tr>\n",
       "    <tr>\n",
       "      <th>2</th>\n",
       "      <td>1.0</td>\n",
       "      <td>-0.447886</td>\n",
       "      <td>1.978223</td>\n",
       "      <td>-1.321118</td>\n",
       "      <td>0.853324</td>\n",
       "      <td>-1.479374</td>\n",
       "    </tr>\n",
       "    <tr>\n",
       "      <th>3</th>\n",
       "      <td>1.0</td>\n",
       "      <td>0.020502</td>\n",
       "      <td>0.752046</td>\n",
       "      <td>1.333211</td>\n",
       "      <td>0.653368</td>\n",
       "      <td>-1.071195</td>\n",
       "    </tr>\n",
       "    <tr>\n",
       "      <th>4</th>\n",
       "      <td>1.0</td>\n",
       "      <td>1.299150</td>\n",
       "      <td>0.333231</td>\n",
       "      <td>-0.247336</td>\n",
       "      <td>0.332719</td>\n",
       "      <td>-1.333148</td>\n",
       "    </tr>\n",
       "    <tr>\n",
       "      <th>...</th>\n",
       "      <td>...</td>\n",
       "      <td>...</td>\n",
       "      <td>...</td>\n",
       "      <td>...</td>\n",
       "      <td>...</td>\n",
       "      <td>...</td>\n",
       "    </tr>\n",
       "    <tr>\n",
       "      <th>9995</th>\n",
       "      <td>1.0</td>\n",
       "      <td>-0.108076</td>\n",
       "      <td>0.681314</td>\n",
       "      <td>0.390398</td>\n",
       "      <td>0.924574</td>\n",
       "      <td>-0.853174</td>\n",
       "    </tr>\n",
       "    <tr>\n",
       "      <th>9996</th>\n",
       "      <td>1.0</td>\n",
       "      <td>-0.323143</td>\n",
       "      <td>-0.237544</td>\n",
       "      <td>-1.079891</td>\n",
       "      <td>0.334889</td>\n",
       "      <td>-0.378978</td>\n",
       "    </tr>\n",
       "    <tr>\n",
       "      <th>9997</th>\n",
       "      <td>1.0</td>\n",
       "      <td>0.591341</td>\n",
       "      <td>0.830118</td>\n",
       "      <td>0.889318</td>\n",
       "      <td>0.345944</td>\n",
       "      <td>-0.130071</td>\n",
       "    </tr>\n",
       "    <tr>\n",
       "      <th>9998</th>\n",
       "      <td>1.0</td>\n",
       "      <td>-0.458137</td>\n",
       "      <td>-1.026625</td>\n",
       "      <td>-0.533452</td>\n",
       "      <td>-0.377531</td>\n",
       "      <td>1.257613</td>\n",
       "    </tr>\n",
       "    <tr>\n",
       "      <th>9999</th>\n",
       "      <td>1.0</td>\n",
       "      <td>-0.654220</td>\n",
       "      <td>-1.176382</td>\n",
       "      <td>1.775847</td>\n",
       "      <td>1.297774</td>\n",
       "      <td>-1.108053</td>\n",
       "    </tr>\n",
       "  </tbody>\n",
       "</table>\n",
       "<p>10000 rows × 6 columns</p>\n",
       "</div>"
      ]
     },
     "execution_count": 16,
     "metadata": {},
     "output_type": "execute_result"
    }
   ],
   "execution_count": 16
  },
  {
   "cell_type": "markdown",
   "metadata": {},
   "source": [
    "### 4. Напишите функцию, вычисляющую предсказание значения целевой переменной, как линейную функцию признака $\\vec{\\hat{y}} =\\tilde{X}\\vec{w}$, где $\\tilde{X} $ - матрица признаков с присоединённым слева столбцом единиц. Назовите её predict. Вычислите её значения на сгенерированных данных X в случайной точке $w$."
   ]
  },
  {
   "cell_type": "code",
   "metadata": {
    "ExecuteTime": {
     "end_time": "2024-10-09T12:49:40.604150Z",
     "start_time": "2024-10-09T12:49:40.592220Z"
    }
   },
   "source": [
    "def predict(X, w):\n",
    "    return np.dot(X_(X), w)\n"
   ],
   "outputs": [],
   "execution_count": 17
  },
  {
   "cell_type": "code",
   "metadata": {
    "ExecuteTime": {
     "end_time": "2024-10-09T12:49:41.070356Z",
     "start_time": "2024-10-09T12:49:41.053063Z"
    }
   },
   "source": [
    "predict(X, np.random.random(X.shape[1]+1))"
   ],
   "outputs": [
    {
     "data": {
      "text/plain": [
       "array([ 1.40212098, -0.31871408,  0.53748809, ...,  1.37512628,\n",
       "       -0.13684129,  0.06718536])"
      ]
     },
     "execution_count": 18,
     "metadata": {},
     "output_type": "execute_result"
    }
   ],
   "execution_count": 18
  },
  {
   "cell_type": "markdown",
   "metadata": {},
   "source": [
    "### 5. Напишите функцию ошибки (loss) линейной регрессии с множеством признаков в матричном виде. Примените функцию к сгенерированным выше данным X, y, а в качестве $w$ возьмите столбец случайных чисел.\n",
    "Указание: $L = \\frac{1}{n}(\\tilde{X}\\vec{w}- \\vec{y})^{T}(\\tilde{X}\\vec{w}- \\vec{y})$, здесь $\\tilde{X}$ - это матрица X c присоединённым к ней столбцом единиц слева, а n - число строк матрицы X. Число элементов в $w$ должно соответствовать количеству столбцов в $\\tilde{X}$."
   ]
  },
  {
   "cell_type": "code",
   "metadata": {
    "ExecuteTime": {
     "end_time": "2024-10-09T12:49:41.327867Z",
     "start_time": "2024-10-09T12:49:41.316950Z"
    }
   },
   "source": [
    "def loss(X, y, w):\n",
    "    return (1/X.shape[0]) * np.dot((predict(X, w) - y).T, predict(X, w) - y) "
   ],
   "outputs": [],
   "execution_count": 19
  },
  {
   "cell_type": "code",
   "metadata": {
    "ExecuteTime": {
     "end_time": "2024-10-09T12:49:41.803499Z",
     "start_time": "2024-10-09T12:49:41.781032Z"
    }
   },
   "source": [
    "loss(X, y, np.random.random(X.shape[1]+1))"
   ],
   "outputs": [
    {
     "data": {
      "text/plain": [
       "np.float64(9678.516671255402)"
      ]
     },
     "execution_count": 20,
     "metadata": {},
     "output_type": "execute_result"
    }
   ],
   "execution_count": 20
  },
  {
   "cell_type": "markdown",
   "metadata": {
    "id": "dejU_eixwAaE"
   },
   "source": [
    "### 6. Напишите функцию, которая вычисляет градиент функции ошибки (loss) с множеством признаков в матричном виде. Примените функцию к сгенерированным выше данным X, y, а в качестве $w$ возьмите столбец случайных чисел.\n",
    "\n",
    "Указание: $\\overrightarrow{{grad} (L)}  = \\frac{2}{n}\\tilde{X}^T(\\tilde{X}\\vec w- \\vec y)$, здесь $\\tilde{X}$ - это матрица X c присоединённым к ней столбцом единиц слева, а n - число строк матрицы X. Назовите созданную функцию gradient_F. Примените функцию к сгенерированным выше данным X, y, а в качестве $w$ возьмите столбец случайных чисел."
   ]
  },
  {
   "cell_type": "code",
   "metadata": {
    "ExecuteTime": {
     "end_time": "2024-10-09T12:49:41.941470Z",
     "start_time": "2024-10-09T12:49:41.933959Z"
    }
   },
   "source": [
    "def gradient_f(X, y, w):\n",
    "    return (2/X.shape[0])*X_(X).transpose()@(predict(X, w) - y)"
   ],
   "outputs": [],
   "execution_count": 21
  },
  {
   "cell_type": "code",
   "metadata": {
    "ExecuteTime": {
     "end_time": "2024-10-09T12:49:42.104566Z",
     "start_time": "2024-10-09T12:49:42.086134Z"
    }
   },
   "source": [
    "gradient_f(X, y, np.random.random(X.shape[1]+1))"
   ],
   "outputs": [
    {
     "data": {
      "text/plain": [
       "array([   1.68935061,    1.07576359,    0.73478498, -182.95379823,\n",
       "         -1.0514623 ,  -71.95918498])"
      ]
     },
     "execution_count": 22,
     "metadata": {},
     "output_type": "execute_result"
    }
   ],
   "execution_count": 22
  },
  {
   "cell_type": "markdown",
   "metadata": {
    "id": "cfvz4uwJwAaF"
   },
   "source": [
    "### 7. Создайте класс Linear_Regression_GD, реализующий модель линейной регрессии для данных имеющих произвольное количество признаков (столбцов). Создайте экземпляр класса, обучите модель и выведите получившиеся коэффициенты гиперплоскости (смещение и веса).\n",
    "Указание: Необходимо создать класс, реализующий метод градиентного спуска для функции ошибки L.\n",
    "Воспользуйтесь для этого классом GradientDiscent, написанный в предыдущих ноутбуках, подставив туда методы X_ и gradient_L. В методе fit задайте стартовое значение массивом нулей нужной длины. В функции GD параметры a и b можно заменить на X, y для наглядности."
   ]
  },
  {
   "cell_type": "raw",
   "metadata": {},
   "source": [
    "class GradientDiscent():\n",
    "    def __init__(self, max_iter):\n",
    "        self.w = None\n",
    "        self.max_iter_ = max_iter\n",
    "    \n",
    "    def gradient_F(self, X, y):\n",
    "        \n",
    "        return ........\n",
    "        \n",
    "    def GD(self, a, b, w_start, learning_rate=0.2):\n",
    "        self.w = w_start\n",
    "\n",
    "        for _ in range(self.max_iter_):\n",
    "            self.w = self.w - learning_rate *self.gradient_F(a, b)\n",
    "        assert (-1e+06 < self.w).all() and (self.w < 1e+06).all(), \"Расходимость: слишком большой learning_rate, либо неудачно выбрана начальная точка, либо минимум не достигается\"\n",
    "        assert (-1e-04 < self.gradient_F(a, b)).all() and (self.gradient_F(a, b) < 1e-04).all(), \"Недостаточно шагов градиентного спуска\"\n",
    "        \n",
    "    def fit(self, a, b):\n",
    "        w_start = np.zeros(2)\n",
    "        self.GD(a, b, w_start)    "
   ]
  },
  {
   "cell_type": "code",
   "metadata": {
    "ExecuteTime": {
     "end_time": "2024-10-09T12:49:42.235018Z",
     "start_time": "2024-10-09T12:49:42.214758Z"
    }
   },
   "source": [
    "class Linear_Regression_GD():\n",
    "    def __init__(self, max_iter):\n",
    "        self.w = None\n",
    "        self.max_iter_ = max_iter\n",
    "\n",
    "    def X_(self, X):\n",
    "        X_ones = np.ones((X.shape[0], 1))\n",
    "        return np.hstack([X_ones, X])\n",
    "    \n",
    "    def predict(self, X):\n",
    "        return np.dot(X_(X), self.w)\n",
    "    \n",
    "    def gradient_F(self, X, y):\n",
    "        return (2/X.shape[0])*X_(X).transpose()@(self.predict(X) - y)\n",
    "        \n",
    "    def GD(self, a, b, w_start, learning_rate=0.2):\n",
    "        self.w = w_start\n",
    "\n",
    "        for _ in range(self.max_iter_):\n",
    "            self.w = self.w - learning_rate *self.gradient_F(a, b)\n",
    "        assert (-1e+06 < self.w).all() and (self.w < 1e+06).all(), \"Расходимость: слишком большой learning_rate, либо неудачно выбрана начальная точка, либо минимум не достигается\"\n",
    "        assert (-1e-04 < self.gradient_F(a, b)).all() and (self.gradient_F(a, b) < 1e-04).all(), \"Недостаточно шагов градиентного спуска\"\n",
    "        \n",
    "    def fit(self, a, b):\n",
    "        w_start = np.zeros(a.shape[1]+1)\n",
    "        self.GD(a, b, w_start)    "
   ],
   "outputs": [],
   "execution_count": 23
  },
  {
   "cell_type": "code",
   "metadata": {
    "ExecuteTime": {
     "end_time": "2024-10-09T12:49:42.549650Z",
     "start_time": "2024-10-09T12:49:42.455832Z"
    }
   },
   "source": [
    "lr = Linear_Regression_GD(100)\n",
    "lr.fit(X, y)"
   ],
   "outputs": [],
   "execution_count": 24
  },
  {
   "cell_type": "code",
   "metadata": {
    "ExecuteTime": {
     "end_time": "2024-10-09T12:49:42.599112Z",
     "start_time": "2024-10-09T12:49:42.574672Z"
    }
   },
   "source": [
    "lr.w"
   ],
   "outputs": [
    {
     "data": {
      "text/plain": [
       "array([6.26257004e-16, 8.61866871e-16, 3.69462055e-16, 9.14049270e+01,\n",
       "       2.77050537e-01, 3.82522637e+01])"
      ]
     },
     "execution_count": 25,
     "metadata": {},
     "output_type": "execute_result"
    }
   ],
   "execution_count": 25
  },
  {
   "cell_type": "markdown",
   "metadata": {
    "id": "0QgIo9yp4r_y"
   },
   "source": [
    "### 8. Напечатайте уравнение гиперплоскости, полученной в результате применения модели линейной регрессии к данным X, y.\n",
    "Указание: Используйте print. Уравнение гиперплоскости должно иметь вид $y = w_0 + w_1 x_1+ w_2 x_2 + \\dots + w_m x_m$. Выводите коэффициенты гиперплоскости с точностью два знака после запятой. Учтите то, что эти коэффициенты могут быть и отрицательными. "
   ]
  },
  {
   "cell_type": "code",
   "metadata": {
    "ExecuteTime": {
     "end_time": "2024-10-09T12:49:42.696819Z",
     "start_time": "2024-10-09T12:49:42.684613Z"
    }
   },
   "source": [
    "s = f'y = {lr.w[0]:.2f}'\n",
    "\n",
    "for i in range(1, 6):\n",
    "    if lr.w[i] < 0:\n",
    "        s += f'{lr.w[i]:.2f} * x{i}'\n",
    "    else:\n",
    "        s += f' + {lr.w[i]:.2f} * x{i}'\n",
    "\n",
    "s"
   ],
   "outputs": [
    {
     "data": {
      "text/plain": [
       "'y = 0.00 + 0.00 * x1 + 0.00 * x2 + 91.40 * x3 + 0.28 * x4 + 38.25 * x5'"
      ]
     },
     "execution_count": 26,
     "metadata": {},
     "output_type": "execute_result"
    }
   ],
   "execution_count": 26
  },
  {
   "cell_type": "markdown",
   "metadata": {
    "id": "hfwuIMDG_0-H"
   },
   "source": [
    "### 9. Создайте новое наблюдение, например, взяв среднее значение по каждому столбцу X. Сделайте предсказание на нём.\n",
    "Указание: Обртите внимание, что метод predict принимает только двумерные numpy-массивы."
   ]
  },
  {
   "cell_type": "code",
   "metadata": {
    "ExecuteTime": {
     "end_time": "2024-10-09T12:49:42.886928Z",
     "start_time": "2024-10-09T12:49:42.869752Z"
    }
   },
   "source": [
    "X"
   ],
   "outputs": [
    {
     "data": {
      "text/plain": [
       "array([[-0.76185354,  0.8715765 ,  1.09439478,  0.183368  ,  0.02913489],\n",
       "       [-0.4309962 , -1.25135618, -0.54719179, -1.10687029,  1.33450613],\n",
       "       [-0.4478858 ,  1.97822297, -1.3211183 ,  0.85332424, -1.47937352],\n",
       "       ...,\n",
       "       [ 0.59134132,  0.83011766,  0.88931791,  0.34594367, -0.13007084],\n",
       "       [-0.45813699, -1.02662548, -0.53345245, -0.37753115,  1.25761311],\n",
       "       [-0.65422026, -1.17638185,  1.77584689,  1.29777381, -1.10805333]])"
      ]
     },
     "execution_count": 27,
     "metadata": {},
     "output_type": "execute_result"
    }
   ],
   "execution_count": 27
  },
  {
   "cell_type": "code",
   "metadata": {
    "ExecuteTime": {
     "end_time": "2024-10-09T12:49:43.079819Z",
     "start_time": "2024-10-09T12:49:43.063591Z"
    }
   },
   "source": [
    "observation = np.array([X.mean(axis=0)])\n",
    "observation"
   ],
   "outputs": [
    {
     "data": {
      "text/plain": [
       "array([[-1.00192666e-03, -4.99308375e-03, -1.05279923e-02,\n",
       "         2.28467531e-06,  1.44162251e-02]])"
      ]
     },
     "execution_count": 28,
     "metadata": {},
     "output_type": "execute_result"
    }
   ],
   "execution_count": 28
  },
  {
   "cell_type": "code",
   "metadata": {
    "ExecuteTime": {
     "end_time": "2024-10-09T12:49:43.319682Z",
     "start_time": "2024-10-09T12:49:43.305369Z"
    }
   },
   "source": [
    "y_pred_observation = lr.predict(observation)\n",
    "y_pred_observation"
   ],
   "outputs": [
    {
     "data": {
      "text/plain": [
       "array([-0.41085649])"
      ]
     },
     "execution_count": 29,
     "metadata": {},
     "output_type": "execute_result"
    }
   ],
   "execution_count": 29
  },
  {
   "cell_type": "markdown",
   "metadata": {
    "id": "Uf7zZP4FcU1x"
   },
   "source": [
    "### 10. Создайте класс Linear_Regression_analytical, реализующий модель линейной регрессии, где оптимальное значение находится аналитически. Создайте экземпляр класса, обучите модель и выведите получившиеся коэффициенты гиперплоскости (смещение и веса). Сравните с результатами, полученными методом градиентного спуска.\n",
    "\n",
    "Указание: За основу возьмите класс Linear_Regression, только удалите в нём атрибут max_iter_ методы gradient_F и GD, а в методе fit возвращайте выражение: $(\\tilde{X}^T \\tilde{X})^{-1}\\tilde{X}\\vec y$"
   ]
  },
  {
   "cell_type": "code",
   "metadata": {
    "ExecuteTime": {
     "end_time": "2024-10-09T12:49:43.734120Z",
     "start_time": "2024-10-09T12:49:43.718956Z"
    }
   },
   "source": [
    "class Linear_Regression_Analitical():\n",
    "    def __init__(self):\n",
    "        self.w = None\n",
    "\n",
    "    def X_(self, X):\n",
    "        X_ones = np.ones((X.shape[0], 1))\n",
    "        return np.hstack([X_ones, X])\n",
    "\n",
    "    def predict(self, X):\n",
    "        return np.dot(X_(X), self.w)\n",
    "  \n",
    "    def fit(self, X, y):\n",
    "        self.w = np.linalg.inv(self.X_(X).T @ self.X_(X)) @ (self.X_(X).T @ y)\n"
   ],
   "outputs": [],
   "execution_count": 30
  },
  {
   "metadata": {
    "ExecuteTime": {
     "end_time": "2024-10-09T12:49:43.974582Z",
     "start_time": "2024-10-09T12:49:43.953277Z"
    }
   },
   "cell_type": "code",
   "source": [
    "lr_analitical = Linear_Regression_Analitical()\n",
    "lr_analitical.fit(X, y)\n",
    "lr_analitical.w"
   ],
   "outputs": [
    {
     "data": {
      "text/plain": [
       "array([ 2.88657986e-15,  9.99200722e-16, -3.02535774e-15,  9.14049270e+01,\n",
       "        2.77050537e-01,  3.82522637e+01])"
      ]
     },
     "execution_count": 31,
     "metadata": {},
     "output_type": "execute_result"
    }
   ],
   "execution_count": 31
  },
  {
   "metadata": {},
   "cell_type": "code",
   "outputs": [],
   "execution_count": null,
   "source": ""
  },
  {
   "cell_type": "markdown",
   "metadata": {
    "id": "QjU8kQMS4-mi"
   },
   "source": [
    "### 11. Создайте класс Linear_Regression_equation, реализующий модель линейной регрессии через решение нормального уравнения. Создайте экземпляр класса, обучите модель и выведите получившиеся коэффициенты гиперплоскости. Сравните с результатами, полученными аналитическим методом.\n",
    "\n",
    "Указание: За основу возьмите класс Linear_Regression_analitical, только в методе fit реализуйте решение матричного уравнения $\\tilde{X}^T\\tilde{X}\\vec w = \\tilde{X}^T\\vec y$. Это может быть сделано с помощью [numpy.linalg.solve](http://docs.scipy.org/doc/numpy-1.10.1/reference/generated/numpy.linalg.solve.html) решающего уравнение вида $А\\vec w = \\vec b$."
   ]
  },
  {
   "cell_type": "code",
   "metadata": {
    "ExecuteTime": {
     "end_time": "2024-10-09T12:57:44.243345Z",
     "start_time": "2024-10-09T12:57:44.225947Z"
    }
   },
   "source": [
    "class Linear_Regression_equation:\n",
    "    def __init__(self):\n",
    "        self.w = None\n",
    "\n",
    "    def X_(self, X):\n",
    "        X_ones = np.ones((X.shape[0], 1))\n",
    "        return np.hstack([X_ones, X])\n",
    "\n",
    "    def fit(self, X, y):\n",
    "        X_tilde = self.X_(X)\n",
    "        \n",
    "        self.w = np.linalg.solve(X_tilde.T @ X_tilde,  X_tilde.T @ y)\n"
   ],
   "outputs": [],
   "execution_count": 34
  },
  {
   "metadata": {
    "ExecuteTime": {
     "end_time": "2024-10-09T12:57:45.195328Z",
     "start_time": "2024-10-09T12:57:45.172488Z"
    }
   },
   "cell_type": "code",
   "source": [
    "lr_e = Linear_Regression_equation()\n",
    "lr_e.fit(X, y)\n",
    "lr_e.w"
   ],
   "outputs": [
    {
     "data": {
      "text/plain": [
       "array([ 2.89642828e-15,  9.74573822e-16, -2.99037959e-15,  9.14049270e+01,\n",
       "        2.77050537e-01,  3.82522637e+01])"
      ]
     },
     "execution_count": 35,
     "metadata": {},
     "output_type": "execute_result"
    }
   ],
   "execution_count": 35
  },
  {
   "cell_type": "markdown",
   "metadata": {},
   "source": [
    "### 12. Замерьте время обучения моделей линейной регрессии, реализованных методом градиентного спуска, аналитическим методом и решением нормального уравнения на сгенерированных данных. Какая из них работает быстрее для данного набора данных?\n",
    "Указание: Для замера времени используйте %timeit.\n",
    "\n",
    "µs - это микросекунда (1 µs = 0,000001 sec), ms - это миллисекунда (1 ms = 0.001 sec)."
   ]
  },
  {
   "cell_type": "code",
   "metadata": {
    "ExecuteTime": {
     "end_time": "2024-10-09T12:49:44.593832Z",
     "start_time": "2024-10-09T12:49:44.587300Z"
    }
   },
   "source": [],
   "outputs": [],
   "execution_count": null
  },
  {
   "cell_type": "markdown",
   "metadata": {
    "id": "n2yvqUwkGuno"
   },
   "source": [
    "### 13. Реализуйте в классе Linear_Regression_GD оптимизацию не методом градиентного спуска, а методом стохастического градиентного спуска. Назовите полученный класс Linear_Regression_SGD. Вычислите коэффициенты гиперплоскости w и убедитесь, что они получились примерно теми же.\n",
    "Указание: Изменения произведите в методе gradient_F таким образом, чтобы градиент вычислялся не на всех значениях X и y, а на случайно выбранных наблюдениях в количестве size=600. Перемешать индексы случайным образом и выбрать из них нужное количество можно при помощи [np.random.choice](https://numpy.org/doc/stable/reference/random/generated/numpy.random.choice.html). Не забудьте зафиксировать np.random.seed(42)."
   ]
  },
  {
   "cell_type": "code",
   "metadata": {
    "ExecuteTime": {
     "end_time": "2024-10-09T12:49:44.859101Z",
     "start_time": "2024-10-09T12:49:44.851204Z"
    }
   },
   "source": [],
   "outputs": [],
   "execution_count": null
  },
  {
   "cell_type": "markdown",
   "metadata": {
    "id": "CxXDo2xxkYhn"
   },
   "source": [
    "# 14. Сравните время обучения моделей линейной регрессии, реализованных методом градиентного спуска и стохастического градиентного спуска с одинаковым количеством итераций градиентного спуска.\n",
    "Указание: Возьмите max_iter = 1000."
   ]
  },
  {
   "cell_type": "code",
   "metadata": {
    "ExecuteTime": {
     "end_time": "2024-10-09T12:49:44.954849Z",
     "start_time": "2024-10-09T12:49:44.942453Z"
    }
   },
   "source": [],
   "outputs": [],
   "execution_count": null
  },
  {
   "cell_type": "markdown",
   "metadata": {
    "id": "rYi_Aoa-wAaX"
   },
   "source": [
    "### 15. Создайте класс модели линейной регрессии из библиотеки sklearn. Обучите модель на сгенерированных данных и убедитесь, что коэффициенты гиперплоскости и предсказанное значение будут примерно теми же, что и у модели градиентного спуска, написанной своими руками.\n",
    "\n",
    " Указание: Воспользуйтесь классом [LinearRegression](https://scikit-learn.org/stable/modules/generated/sklearn.linear_model.LinearRegression.html). Оптимальное коэффициенты гиперплоскости выводятся так: смещение выводится при помощи атрибута intrecept_, а оптимальные веса при помощи атрибута coef_. "
   ]
  },
  {
   "cell_type": "code",
   "metadata": {
    "ExecuteTime": {
     "end_time": "2024-10-09T12:49:45.175415Z",
     "start_time": "2024-10-09T12:49:45.166931Z"
    }
   },
   "source": [],
   "outputs": [],
   "execution_count": null
  },
  {
   "cell_type": "markdown",
   "metadata": {},
   "source": [
    "### 16. Сделайте предсказание на новом наблюдении. Убедитесь, значение будет примерно теми же, что и у модели градиентного спуска, написанной своими руками."
   ]
  },
  {
   "cell_type": "code",
   "metadata": {
    "ExecuteTime": {
     "end_time": "2024-10-09T12:49:45.389181Z",
     "start_time": "2024-10-09T12:49:45.379684Z"
    }
   },
   "source": [],
   "outputs": [],
   "execution_count": null
  },
  {
   "cell_type": "markdown",
   "metadata": {},
   "source": [
    "### 17. Напечатайте название каждого признака, а рядом найденный вес, ему соответствующий. Сделайте вывод какой признак наиболее сильно влияет на целевую переменную? А какой наименее значим?"
   ]
  },
  {
   "cell_type": "code",
   "metadata": {
    "ExecuteTime": {
     "end_time": "2024-10-09T12:49:45.561852Z",
     "start_time": "2024-10-09T12:49:45.544780Z"
    }
   },
   "source": [],
   "outputs": [],
   "execution_count": null
  },
  {
   "cell_type": "markdown",
   "metadata": {},
   "source": [
    "### 18. Визуализируйте значимость признаков на графике.\n",
    "Указание: Используйте для построения графика [bar](https://matplotlib.org/stable/api/_as_gen/matplotlib.pyplot.bar.html)."
   ]
  },
  {
   "cell_type": "code",
   "metadata": {
    "ExecuteTime": {
     "end_time": "2024-10-09T12:49:45.674059Z",
     "start_time": "2024-10-09T12:49:45.668653Z"
    }
   },
   "source": [],
   "outputs": [],
   "execution_count": null
  }
 ],
 "metadata": {
  "colab": {
   "provenance": []
  },
  "kernelspec": {
   "display_name": "Python 3 (ipykernel)",
   "language": "python",
   "name": "python3"
  },
  "language_info": {
   "codemirror_mode": {
    "name": "ipython",
    "version": 3
   },
   "file_extension": ".py",
   "mimetype": "text/x-python",
   "name": "python",
   "nbconvert_exporter": "python",
   "pygments_lexer": "ipython3",
   "version": "3.12.5"
  }
 },
 "nbformat": 4,
 "nbformat_minor": 4
}
