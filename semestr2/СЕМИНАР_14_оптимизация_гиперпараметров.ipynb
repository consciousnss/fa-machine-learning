{
 "cells": [
  {
   "cell_type": "markdown",
   "id": "ccd63530",
   "metadata": {},
   "source": [
    "## Семинар 1\n",
    "# Оптимизация гиперпараметров"
   ]
  },
  {
   "cell_type": "markdown",
   "id": "6fc7397d",
   "metadata": {},
   "source": [
    "Гиперпараметр (англ. hyperparameter) — параметр, который не настраивается во время обучения модели. Пример гиперпараметра — шаг градиентного спуска, он задается перед обучением. Пример параметров — веса градиентного спуска, они изменяются и настраиваются во время обучения."
   ]
  },
  {
   "cell_type": "markdown",
   "id": "641066c3",
   "metadata": {},
   "source": [
    "Попытаемся улучшить обобщающую способность модели, настроив ее гиперпараметры.\n",
    "Задача оптимизации гиперпараметров заключается в подборе таких гиперпараметров, при которых заданная модель алгоритма будет наиболее эффективна.\n",
    "Наиболее часто используемый метод – это решетчатый поиск (grid search), который перебирает все возможные комбинации интересующих гиперпараметров."
   ]
  },
  {
   "cell_type": "code",
   "execution_count": 1,
   "id": "b37713ac-b7c2-4bb9-bcc4-7dc6b65a63bf",
   "metadata": {},
   "outputs": [],
   "source": [
    "import pandas as pd\n",
    "import numpy as np\n",
    "import matplotlib.pyplot as plt\n",
    "from sklearn.model_selection import train_test_split, cross_val_score\n",
    "from sklearn import datasets\n",
    "from sklearn.datasets import make_classification\n",
    "from sklearn import metrics\n",
    "from sklearn.linear_model import LogisticRegression\n",
    "from sklearn.model_selection import GridSearchCV, RandomizedSearchCV"
   ]
  },
  {
   "cell_type": "markdown",
   "id": "cc8865f9-cbd4-4d62-a21d-0db1b6d44454",
   "metadata": {},
   "source": [
    "# Задания для выполнения:"
   ]
  },
  {
   "cell_type": "markdown",
   "id": "30177233-794f-4e4b-8554-d146914403d8",
   "metadata": {},
   "source": [
    "### 1. Сгенерируйте данные для задачи бинарной классификации с 4 признаками и 10000 наблюдениями. Целевая переменная должна зависеть от 2 признаков. Выведите признаки в виде датафрейма, дав названия колонкам. Выведите число объектов в каждом классе.\n",
    "Указание: Для этого воспользуйтесь [make_classification](https://scikit-learn.org/stable/modules/generated/sklearn.datasets.make_classification.html), задав параметры: число строк n_samples=10000, число признаков n_features=4, число признаков от которых зависит целевая переменная n_informative=2, число избыточных признаков (т.е. признаков, являющихся линейными комбинациями признаков от которых зависит целевая переменная) n_redundant=2, фиксируем воспроизводимость случайных данных random_state=42."
   ]
  },
  {
   "cell_type": "code",
   "execution_count": 2,
   "id": "e51c4c9e-b665-43eb-b9d4-a028a0c7fc2b",
   "metadata": {},
   "outputs": [],
   "source": [
    "X,y = make_classification (n_samples=10000,\n",
    "                          n_features=4,\n",
    "                          n_informative=2,\n",
    "                          n_redundant=2,\n",
    "                          random_state=42)"
   ]
  },
  {
   "cell_type": "code",
   "execution_count": 3,
   "id": "48259384",
   "metadata": {},
   "outputs": [
    {
     "data": {
      "text/html": [
       "<div>\n",
       "<style scoped>\n",
       "    .dataframe tbody tr th:only-of-type {\n",
       "        vertical-align: middle;\n",
       "    }\n",
       "\n",
       "    .dataframe tbody tr th {\n",
       "        vertical-align: top;\n",
       "    }\n",
       "\n",
       "    .dataframe thead th {\n",
       "        text-align: right;\n",
       "    }\n",
       "</style>\n",
       "<table border=\"1\" class=\"dataframe\">\n",
       "  <thead>\n",
       "    <tr style=\"text-align: right;\">\n",
       "      <th></th>\n",
       "      <th>X1</th>\n",
       "      <th>X2</th>\n",
       "      <th>X3</th>\n",
       "      <th>X4</th>\n",
       "    </tr>\n",
       "  </thead>\n",
       "  <tbody>\n",
       "    <tr>\n",
       "      <th>0</th>\n",
       "      <td>1.522650</td>\n",
       "      <td>-0.934560</td>\n",
       "      <td>-0.465022</td>\n",
       "      <td>0.058874</td>\n",
       "    </tr>\n",
       "    <tr>\n",
       "      <th>1</th>\n",
       "      <td>1.048103</td>\n",
       "      <td>-0.746806</td>\n",
       "      <td>0.436853</td>\n",
       "      <td>0.859628</td>\n",
       "    </tr>\n",
       "    <tr>\n",
       "      <th>2</th>\n",
       "      <td>1.024216</td>\n",
       "      <td>-0.449412</td>\n",
       "      <td>-1.623434</td>\n",
       "      <td>-1.378656</td>\n",
       "    </tr>\n",
       "    <tr>\n",
       "      <th>3</th>\n",
       "      <td>-0.434667</td>\n",
       "      <td>0.281754</td>\n",
       "      <td>0.023299</td>\n",
       "      <td>-0.135243</td>\n",
       "    </tr>\n",
       "    <tr>\n",
       "      <th>4</th>\n",
       "      <td>1.421165</td>\n",
       "      <td>-0.731574</td>\n",
       "      <td>-1.462926</td>\n",
       "      <td>-1.058435</td>\n",
       "    </tr>\n",
       "  </tbody>\n",
       "</table>\n",
       "</div>"
      ],
      "text/plain": [
       "         X1        X2        X3        X4\n",
       "0  1.522650 -0.934560 -0.465022  0.058874\n",
       "1  1.048103 -0.746806  0.436853  0.859628\n",
       "2  1.024216 -0.449412 -1.623434 -1.378656\n",
       "3 -0.434667  0.281754  0.023299 -0.135243\n",
       "4  1.421165 -0.731574 -1.462926 -1.058435"
      ]
     },
     "execution_count": 3,
     "metadata": {},
     "output_type": "execute_result"
    }
   ],
   "source": [
    "df = pd.DataFrame(data=X, columns=['X'+str(i) for i in range(1, X.shape[1]+1)])\n",
    "df.head(5)"
   ]
  },
  {
   "cell_type": "code",
   "execution_count": 4,
   "id": "e00c446f",
   "metadata": {},
   "outputs": [
    {
     "data": {
      "text/plain": [
       "0    5000\n",
       "1    5000\n",
       "dtype: int64"
      ]
     },
     "execution_count": 4,
     "metadata": {},
     "output_type": "execute_result"
    }
   ],
   "source": [
    "pd.Series(y).value_counts()"
   ]
  },
  {
   "cell_type": "markdown",
   "id": "7626e848-3ced-42b0-885f-d83d4f8e0027",
   "metadata": {},
   "source": [
    "### 2. Разделите данные на обучающую и тестовую части. В тестовую часть отправьте 20% объектов и зафиксируйте способ перемешивания данных random_state=42. Выведите размеры обучающей и тестовой частей."
   ]
  },
  {
   "cell_type": "code",
   "execution_count": 5,
   "id": "7271e8f5-a3ee-426b-9659-1155d7dd412a",
   "metadata": {},
   "outputs": [],
   "source": [
    "X_train, X_test, y_train, y_test = train_test_split(X, y, test_size = 0.2, random_state=42)"
   ]
  },
  {
   "cell_type": "code",
   "execution_count": 6,
   "id": "c798a0af",
   "metadata": {},
   "outputs": [
    {
     "data": {
      "text/plain": [
       "(8000, 2000)"
      ]
     },
     "execution_count": 6,
     "metadata": {},
     "output_type": "execute_result"
    }
   ],
   "source": [
    "X_train.shape[0], X_test.shape[0]"
   ]
  },
  {
   "cell_type": "markdown",
   "id": "cd34046f-84ee-4892-8f02-bd185cbc6694",
   "metadata": {},
   "source": [
    "### 3. Постройте модель логистической регрессии с гиперпараметрами, установленными по умолчанию. Для этого создайте класс LogisticRegression c дефолтными гиперпараметрами и обучите модель на обучающих данных. Сделайте предсказание на тестовых данных. Вычислите метрику accuracy на тестовых данных."
   ]
  },
  {
   "cell_type": "code",
   "execution_count": 7,
   "id": "36895d4b-61ae-4468-a415-366a7aa2e388",
   "metadata": {},
   "outputs": [
    {
     "data": {
      "text/html": [
       "<style>#sk-container-id-1 {color: black;}#sk-container-id-1 pre{padding: 0;}#sk-container-id-1 div.sk-toggleable {background-color: white;}#sk-container-id-1 label.sk-toggleable__label {cursor: pointer;display: block;width: 100%;margin-bottom: 0;padding: 0.3em;box-sizing: border-box;text-align: center;}#sk-container-id-1 label.sk-toggleable__label-arrow:before {content: \"▸\";float: left;margin-right: 0.25em;color: #696969;}#sk-container-id-1 label.sk-toggleable__label-arrow:hover:before {color: black;}#sk-container-id-1 div.sk-estimator:hover label.sk-toggleable__label-arrow:before {color: black;}#sk-container-id-1 div.sk-toggleable__content {max-height: 0;max-width: 0;overflow: hidden;text-align: left;background-color: #f0f8ff;}#sk-container-id-1 div.sk-toggleable__content pre {margin: 0.2em;color: black;border-radius: 0.25em;background-color: #f0f8ff;}#sk-container-id-1 input.sk-toggleable__control:checked~div.sk-toggleable__content {max-height: 200px;max-width: 100%;overflow: auto;}#sk-container-id-1 input.sk-toggleable__control:checked~label.sk-toggleable__label-arrow:before {content: \"▾\";}#sk-container-id-1 div.sk-estimator input.sk-toggleable__control:checked~label.sk-toggleable__label {background-color: #d4ebff;}#sk-container-id-1 div.sk-label input.sk-toggleable__control:checked~label.sk-toggleable__label {background-color: #d4ebff;}#sk-container-id-1 input.sk-hidden--visually {border: 0;clip: rect(1px 1px 1px 1px);clip: rect(1px, 1px, 1px, 1px);height: 1px;margin: -1px;overflow: hidden;padding: 0;position: absolute;width: 1px;}#sk-container-id-1 div.sk-estimator {font-family: monospace;background-color: #f0f8ff;border: 1px dotted black;border-radius: 0.25em;box-sizing: border-box;margin-bottom: 0.5em;}#sk-container-id-1 div.sk-estimator:hover {background-color: #d4ebff;}#sk-container-id-1 div.sk-parallel-item::after {content: \"\";width: 100%;border-bottom: 1px solid gray;flex-grow: 1;}#sk-container-id-1 div.sk-label:hover label.sk-toggleable__label {background-color: #d4ebff;}#sk-container-id-1 div.sk-serial::before {content: \"\";position: absolute;border-left: 1px solid gray;box-sizing: border-box;top: 0;bottom: 0;left: 50%;z-index: 0;}#sk-container-id-1 div.sk-serial {display: flex;flex-direction: column;align-items: center;background-color: white;padding-right: 0.2em;padding-left: 0.2em;position: relative;}#sk-container-id-1 div.sk-item {position: relative;z-index: 1;}#sk-container-id-1 div.sk-parallel {display: flex;align-items: stretch;justify-content: center;background-color: white;position: relative;}#sk-container-id-1 div.sk-item::before, #sk-container-id-1 div.sk-parallel-item::before {content: \"\";position: absolute;border-left: 1px solid gray;box-sizing: border-box;top: 0;bottom: 0;left: 50%;z-index: -1;}#sk-container-id-1 div.sk-parallel-item {display: flex;flex-direction: column;z-index: 1;position: relative;background-color: white;}#sk-container-id-1 div.sk-parallel-item:first-child::after {align-self: flex-end;width: 50%;}#sk-container-id-1 div.sk-parallel-item:last-child::after {align-self: flex-start;width: 50%;}#sk-container-id-1 div.sk-parallel-item:only-child::after {width: 0;}#sk-container-id-1 div.sk-dashed-wrapped {border: 1px dashed gray;margin: 0 0.4em 0.5em 0.4em;box-sizing: border-box;padding-bottom: 0.4em;background-color: white;}#sk-container-id-1 div.sk-label label {font-family: monospace;font-weight: bold;display: inline-block;line-height: 1.2em;}#sk-container-id-1 div.sk-label-container {text-align: center;}#sk-container-id-1 div.sk-container {/* jupyter's `normalize.less` sets `[hidden] { display: none; }` but bootstrap.min.css set `[hidden] { display: none !important; }` so we also need the `!important` here to be able to override the default hidden behavior on the sphinx rendered scikit-learn.org. See: https://github.com/scikit-learn/scikit-learn/issues/21755 */display: inline-block !important;position: relative;}#sk-container-id-1 div.sk-text-repr-fallback {display: none;}</style><div id=\"sk-container-id-1\" class=\"sk-top-container\"><div class=\"sk-text-repr-fallback\"><pre>LogisticRegression()</pre><b>In a Jupyter environment, please rerun this cell to show the HTML representation or trust the notebook. <br />On GitHub, the HTML representation is unable to render, please try loading this page with nbviewer.org.</b></div><div class=\"sk-container\" hidden><div class=\"sk-item\"><div class=\"sk-estimator sk-toggleable\"><input class=\"sk-toggleable__control sk-hidden--visually\" id=\"sk-estimator-id-1\" type=\"checkbox\" checked><label for=\"sk-estimator-id-1\" class=\"sk-toggleable__label sk-toggleable__label-arrow\">LogisticRegression</label><div class=\"sk-toggleable__content\"><pre>LogisticRegression()</pre></div></div></div></div></div>"
      ],
      "text/plain": [
       "LogisticRegression()"
      ]
     },
     "execution_count": 7,
     "metadata": {},
     "output_type": "execute_result"
    }
   ],
   "source": [
    "default_model = LogisticRegression()\n",
    "default_model.fit(X_train, y_train)"
   ]
  },
  {
   "cell_type": "code",
   "execution_count": 8,
   "id": "f5cd3aec",
   "metadata": {},
   "outputs": [
    {
     "data": {
      "text/plain": [
       "{'C': 1.0,\n",
       " 'class_weight': None,\n",
       " 'dual': False,\n",
       " 'fit_intercept': True,\n",
       " 'intercept_scaling': 1,\n",
       " 'l1_ratio': None,\n",
       " 'max_iter': 100,\n",
       " 'multi_class': 'auto',\n",
       " 'n_jobs': None,\n",
       " 'penalty': 'l2',\n",
       " 'random_state': None,\n",
       " 'solver': 'lbfgs',\n",
       " 'tol': 0.0001,\n",
       " 'verbose': 0,\n",
       " 'warm_start': False}"
      ]
     },
     "execution_count": 8,
     "metadata": {},
     "output_type": "execute_result"
    }
   ],
   "source": [
    "default_model.get_params()"
   ]
  },
  {
   "cell_type": "code",
   "execution_count": 9,
   "id": "01a3bb99",
   "metadata": {},
   "outputs": [],
   "source": [
    "y_test_pred = default_model.predict(X_test)"
   ]
  },
  {
   "cell_type": "code",
   "execution_count": 10,
   "id": "2a471770",
   "metadata": {},
   "outputs": [
    {
     "data": {
      "text/plain": [
       "0.8935"
      ]
     },
     "execution_count": 10,
     "metadata": {},
     "output_type": "execute_result"
    }
   ],
   "source": [
    "default_accuracy = metrics.accuracy_score(y_test, y_test_pred)\n",
    "default_accuracy"
   ]
  },
  {
   "cell_type": "markdown",
   "id": "3ee86faf",
   "metadata": {},
   "source": [
    "### 4. Напишите функцию, принимающую матрицу признаков и вектор целей и осуществляющую решетчатый поиск лучших гиперпараметров модели LogisticRegression по метрике accuracy с использованием hold-out разбиения, среди двух гиперпараметров, значения которых указанны ниже. Подберите лучшие гиперпараметры на обучающих данных. Обучите модель с лучшими гиперпараметрами на обучающих данных и вычислите метрику accuracy на тестовых данных."
   ]
  },
  {
   "cell_type": "markdown",
   "id": "5f66b43a",
   "metadata": {},
   "source": [
    "Создадим диапазон вариантов для гиперпараметров в виде словаря:"
   ]
  },
  {
   "cell_type": "code",
   "execution_count": 11,
   "id": "2d91bf14",
   "metadata": {},
   "outputs": [],
   "source": [
    "param_grid = {'C': np.logspace(-3,2,9), \n",
    "              'solver': ['lbfgs','liblinear','saga']}"
   ]
  },
  {
   "cell_type": "code",
   "execution_count": 12,
   "id": "7285b755-276b-412e-92fb-36fcb17d6ed3",
   "metadata": {},
   "outputs": [],
   "source": [
    "def Grid(X_train, y_train):\n",
    "    X_trainval, X_testval, y_trainval, y_testval = train_test_split(X_train, y_train, test_size = 0.2, random_state=42)\n",
    "    best_score, score = 0, 0\n",
    "    for C in param_grid['C']:\n",
    "        for solver in param_grid['solver']:\n",
    "            model = LogisticRegression(C=C, solver=solver)\n",
    "            model.fit(X_trainval, y_trainval)\n",
    "            score = model.score(X_testval, y_testval)\n",
    "            if score > best_score:\n",
    "                best_score = score\n",
    "                best_parameters = {'C':C, 'solver':solver}\n",
    "    return best_parameters"
   ]
  },
  {
   "cell_type": "code",
   "execution_count": 13,
   "id": "f291e790",
   "metadata": {},
   "outputs": [
    {
     "data": {
      "text/plain": [
       "{'C': 0.004216965034285823, 'solver': 'lbfgs'}"
      ]
     },
     "execution_count": 13,
     "metadata": {},
     "output_type": "execute_result"
    }
   ],
   "source": [
    "best_parameters = Grid(X_train, y_train)\n",
    "best_parameters"
   ]
  },
  {
   "cell_type": "code",
   "execution_count": 14,
   "id": "8c7814ae",
   "metadata": {},
   "outputs": [
    {
     "data": {
      "text/plain": [
       "0.894"
      ]
     },
     "execution_count": 14,
     "metadata": {},
     "output_type": "execute_result"
    }
   ],
   "source": [
    "best_model = LogisticRegression(**best_parameters)\n",
    "best_model.fit(X_train, y_train)\n",
    "best_model.score(X_test, y_test)"
   ]
  },
  {
   "cell_type": "markdown",
   "id": "d6f56ded-8e1e-48b8-a844-50a1f0e7a73e",
   "metadata": {},
   "source": [
    "### 5. Напишите функцию, принимающую матрицу признаков и вектор целей и осуществляющую решетчатый поиск лучших гиперпараметров модели LogisticRegression по метрике accuracy с использованием перекрёстной проверки, для тех же гиперпараметров, что и в предыдущем задании. Подберите лучшие гиперпараметры на обучающих данных. Обучите модель с лучшими гиперпараметрами на обучающих данных и вычислите метрику accuracy на тестовых данных."
   ]
  },
  {
   "cell_type": "code",
   "execution_count": 15,
   "id": "66182d72-c6ce-4b5e-abf1-b1983147d93f",
   "metadata": {},
   "outputs": [],
   "source": [
    "def GridCV(X_train, y_train):\n",
    "    best_score, score = 0, 0\n",
    "    for C in param_grid['C']:\n",
    "        for solver in param_grid['solver']:\n",
    "            model = LogisticRegression(C=C, solver=solver)\n",
    "            score = np.mean(cross_val_score(model, X_train, y_train, cv=5, scoring='accuracy'))\n",
    "            if score > best_score:\n",
    "                best_score = score\n",
    "                best_parameters = {'C':C, 'solver':solver}\n",
    "    return best_parameters"
   ]
  },
  {
   "cell_type": "code",
   "execution_count": 16,
   "id": "67066669",
   "metadata": {},
   "outputs": [
    {
     "data": {
      "text/plain": [
       "{'C': 0.01778279410038923, 'solver': 'lbfgs'}"
      ]
     },
     "execution_count": 16,
     "metadata": {},
     "output_type": "execute_result"
    }
   ],
   "source": [
    "best_parameters = GridCV(X_train, y_train)\n",
    "best_parameters"
   ]
  },
  {
   "cell_type": "code",
   "execution_count": 17,
   "id": "376637b1",
   "metadata": {},
   "outputs": [
    {
     "data": {
      "text/plain": [
       "0.894"
      ]
     },
     "execution_count": 17,
     "metadata": {},
     "output_type": "execute_result"
    }
   ],
   "source": [
    "best_model = LogisticRegression(**best_parameters)\n",
    "best_model.fit(X_train, y_train)\n",
    "best_model.score(X_test, y_test)"
   ]
  },
  {
   "cell_type": "markdown",
   "id": "de25adcc-6962-47aa-b9aa-08ad40556aeb",
   "metadata": {},
   "source": [
    "### 6. Осуществите решетчатый поиск на обучающих данных лучших гиперпараметров модели LogisticRegression по метрике accuracy с использованием перекрёстной проверки, для тех же гиперпараметров, что и в предыдущем задании, используя класс GridSearchCV из библиотеки sklearn. Убедитесь, что результаты будут теми же, что и в предыдущем задании.\n",
    "Указание: Для выведения наилучших гиперпараметров модели, используйте атрибут best_params_. Наилучшая модель выводится при помощи атрибута best_estimator_."
   ]
  },
  {
   "cell_type": "code",
   "execution_count": 18,
   "id": "759ad539-c9a7-40a2-95aa-24a61e6a67d0",
   "metadata": {},
   "outputs": [],
   "source": [
    "gs = GridSearchCV(\n",
    "        estimator = LogisticRegression(),\n",
    "        param_grid = param_grid,\n",
    "        scoring = 'accuracy',\n",
    "        cv = 5)"
   ]
  },
  {
   "cell_type": "code",
   "execution_count": 19,
   "id": "9b00a9c6",
   "metadata": {},
   "outputs": [
    {
     "data": {
      "text/html": [
       "<style>#sk-container-id-2 {color: black;}#sk-container-id-2 pre{padding: 0;}#sk-container-id-2 div.sk-toggleable {background-color: white;}#sk-container-id-2 label.sk-toggleable__label {cursor: pointer;display: block;width: 100%;margin-bottom: 0;padding: 0.3em;box-sizing: border-box;text-align: center;}#sk-container-id-2 label.sk-toggleable__label-arrow:before {content: \"▸\";float: left;margin-right: 0.25em;color: #696969;}#sk-container-id-2 label.sk-toggleable__label-arrow:hover:before {color: black;}#sk-container-id-2 div.sk-estimator:hover label.sk-toggleable__label-arrow:before {color: black;}#sk-container-id-2 div.sk-toggleable__content {max-height: 0;max-width: 0;overflow: hidden;text-align: left;background-color: #f0f8ff;}#sk-container-id-2 div.sk-toggleable__content pre {margin: 0.2em;color: black;border-radius: 0.25em;background-color: #f0f8ff;}#sk-container-id-2 input.sk-toggleable__control:checked~div.sk-toggleable__content {max-height: 200px;max-width: 100%;overflow: auto;}#sk-container-id-2 input.sk-toggleable__control:checked~label.sk-toggleable__label-arrow:before {content: \"▾\";}#sk-container-id-2 div.sk-estimator input.sk-toggleable__control:checked~label.sk-toggleable__label {background-color: #d4ebff;}#sk-container-id-2 div.sk-label input.sk-toggleable__control:checked~label.sk-toggleable__label {background-color: #d4ebff;}#sk-container-id-2 input.sk-hidden--visually {border: 0;clip: rect(1px 1px 1px 1px);clip: rect(1px, 1px, 1px, 1px);height: 1px;margin: -1px;overflow: hidden;padding: 0;position: absolute;width: 1px;}#sk-container-id-2 div.sk-estimator {font-family: monospace;background-color: #f0f8ff;border: 1px dotted black;border-radius: 0.25em;box-sizing: border-box;margin-bottom: 0.5em;}#sk-container-id-2 div.sk-estimator:hover {background-color: #d4ebff;}#sk-container-id-2 div.sk-parallel-item::after {content: \"\";width: 100%;border-bottom: 1px solid gray;flex-grow: 1;}#sk-container-id-2 div.sk-label:hover label.sk-toggleable__label {background-color: #d4ebff;}#sk-container-id-2 div.sk-serial::before {content: \"\";position: absolute;border-left: 1px solid gray;box-sizing: border-box;top: 0;bottom: 0;left: 50%;z-index: 0;}#sk-container-id-2 div.sk-serial {display: flex;flex-direction: column;align-items: center;background-color: white;padding-right: 0.2em;padding-left: 0.2em;position: relative;}#sk-container-id-2 div.sk-item {position: relative;z-index: 1;}#sk-container-id-2 div.sk-parallel {display: flex;align-items: stretch;justify-content: center;background-color: white;position: relative;}#sk-container-id-2 div.sk-item::before, #sk-container-id-2 div.sk-parallel-item::before {content: \"\";position: absolute;border-left: 1px solid gray;box-sizing: border-box;top: 0;bottom: 0;left: 50%;z-index: -1;}#sk-container-id-2 div.sk-parallel-item {display: flex;flex-direction: column;z-index: 1;position: relative;background-color: white;}#sk-container-id-2 div.sk-parallel-item:first-child::after {align-self: flex-end;width: 50%;}#sk-container-id-2 div.sk-parallel-item:last-child::after {align-self: flex-start;width: 50%;}#sk-container-id-2 div.sk-parallel-item:only-child::after {width: 0;}#sk-container-id-2 div.sk-dashed-wrapped {border: 1px dashed gray;margin: 0 0.4em 0.5em 0.4em;box-sizing: border-box;padding-bottom: 0.4em;background-color: white;}#sk-container-id-2 div.sk-label label {font-family: monospace;font-weight: bold;display: inline-block;line-height: 1.2em;}#sk-container-id-2 div.sk-label-container {text-align: center;}#sk-container-id-2 div.sk-container {/* jupyter's `normalize.less` sets `[hidden] { display: none; }` but bootstrap.min.css set `[hidden] { display: none !important; }` so we also need the `!important` here to be able to override the default hidden behavior on the sphinx rendered scikit-learn.org. See: https://github.com/scikit-learn/scikit-learn/issues/21755 */display: inline-block !important;position: relative;}#sk-container-id-2 div.sk-text-repr-fallback {display: none;}</style><div id=\"sk-container-id-2\" class=\"sk-top-container\"><div class=\"sk-text-repr-fallback\"><pre>GridSearchCV(cv=5, estimator=LogisticRegression(),\n",
       "             param_grid={&#x27;C&#x27;: array([1.00000000e-03, 4.21696503e-03, 1.77827941e-02, 7.49894209e-02,\n",
       "       3.16227766e-01, 1.33352143e+00, 5.62341325e+00, 2.37137371e+01,\n",
       "       1.00000000e+02]),\n",
       "                         &#x27;solver&#x27;: [&#x27;lbfgs&#x27;, &#x27;liblinear&#x27;, &#x27;saga&#x27;]},\n",
       "             scoring=&#x27;accuracy&#x27;)</pre><b>In a Jupyter environment, please rerun this cell to show the HTML representation or trust the notebook. <br />On GitHub, the HTML representation is unable to render, please try loading this page with nbviewer.org.</b></div><div class=\"sk-container\" hidden><div class=\"sk-item sk-dashed-wrapped\"><div class=\"sk-label-container\"><div class=\"sk-label sk-toggleable\"><input class=\"sk-toggleable__control sk-hidden--visually\" id=\"sk-estimator-id-2\" type=\"checkbox\" ><label for=\"sk-estimator-id-2\" class=\"sk-toggleable__label sk-toggleable__label-arrow\">GridSearchCV</label><div class=\"sk-toggleable__content\"><pre>GridSearchCV(cv=5, estimator=LogisticRegression(),\n",
       "             param_grid={&#x27;C&#x27;: array([1.00000000e-03, 4.21696503e-03, 1.77827941e-02, 7.49894209e-02,\n",
       "       3.16227766e-01, 1.33352143e+00, 5.62341325e+00, 2.37137371e+01,\n",
       "       1.00000000e+02]),\n",
       "                         &#x27;solver&#x27;: [&#x27;lbfgs&#x27;, &#x27;liblinear&#x27;, &#x27;saga&#x27;]},\n",
       "             scoring=&#x27;accuracy&#x27;)</pre></div></div></div><div class=\"sk-parallel\"><div class=\"sk-parallel-item\"><div class=\"sk-item\"><div class=\"sk-label-container\"><div class=\"sk-label sk-toggleable\"><input class=\"sk-toggleable__control sk-hidden--visually\" id=\"sk-estimator-id-3\" type=\"checkbox\" ><label for=\"sk-estimator-id-3\" class=\"sk-toggleable__label sk-toggleable__label-arrow\">estimator: LogisticRegression</label><div class=\"sk-toggleable__content\"><pre>LogisticRegression()</pre></div></div></div><div class=\"sk-serial\"><div class=\"sk-item\"><div class=\"sk-estimator sk-toggleable\"><input class=\"sk-toggleable__control sk-hidden--visually\" id=\"sk-estimator-id-4\" type=\"checkbox\" ><label for=\"sk-estimator-id-4\" class=\"sk-toggleable__label sk-toggleable__label-arrow\">LogisticRegression</label><div class=\"sk-toggleable__content\"><pre>LogisticRegression()</pre></div></div></div></div></div></div></div></div></div></div>"
      ],
      "text/plain": [
       "GridSearchCV(cv=5, estimator=LogisticRegression(),\n",
       "             param_grid={'C': array([1.00000000e-03, 4.21696503e-03, 1.77827941e-02, 7.49894209e-02,\n",
       "       3.16227766e-01, 1.33352143e+00, 5.62341325e+00, 2.37137371e+01,\n",
       "       1.00000000e+02]),\n",
       "                         'solver': ['lbfgs', 'liblinear', 'saga']},\n",
       "             scoring='accuracy')"
      ]
     },
     "execution_count": 19,
     "metadata": {},
     "output_type": "execute_result"
    }
   ],
   "source": [
    "gs.fit(X_train, y_train)"
   ]
  },
  {
   "cell_type": "code",
   "execution_count": 20,
   "id": "5ff6960f",
   "metadata": {},
   "outputs": [
    {
     "data": {
      "text/plain": [
       "{'C': 0.01778279410038923, 'solver': 'lbfgs'}"
      ]
     },
     "execution_count": 20,
     "metadata": {},
     "output_type": "execute_result"
    }
   ],
   "source": [
    "gs.best_params_"
   ]
  },
  {
   "cell_type": "code",
   "execution_count": 21,
   "id": "dd362cfd",
   "metadata": {},
   "outputs": [
    {
     "data": {
      "text/plain": [
       "0.894"
      ]
     },
     "execution_count": 21,
     "metadata": {},
     "output_type": "execute_result"
    }
   ],
   "source": [
    "best_model_skl = LogisticRegression(**gs.best_params_)\n",
    "best_model_skl.fit(X_train, y_train)\n",
    "best_model_skl.score(X_test, y_test)"
   ]
  },
  {
   "cell_type": "markdown",
   "id": "b2acc227",
   "metadata": {},
   "source": [
    "или"
   ]
  },
  {
   "cell_type": "code",
   "execution_count": 22,
   "id": "207174cb",
   "metadata": {},
   "outputs": [
    {
     "data": {
      "text/plain": [
       "0.894"
      ]
     },
     "execution_count": 22,
     "metadata": {},
     "output_type": "execute_result"
    }
   ],
   "source": [
    "best_model_skl = gs.best_estimator_\n",
    "best_model_skl.fit(X_train, y_train)\n",
    "best_model_skl.score(X_test, y_test)"
   ]
  },
  {
   "cell_type": "markdown",
   "id": "3fd90da2",
   "metadata": {},
   "source": [
    "### 7. Выведите результаты решетчатого поиска с использованием класса GridSearchCV, осуществлённого в предыдущем пункте, в виде словаря и в виде датафрейма. Оставьте в датафрейме только два столбца со значениями гиперпараметров и со значениями вычисляемой метрики. Выведите самое большое значение среди средних значений метрики accuracy перекрестной проверки.\n",
    "Указание: Для выведения результатов решетчатого поиска в виде словаря используйте атрибут cv_results_. Для выведения самого большого значения среди средних значений метрики accuracy используйте атрибут best_score_."
   ]
  },
  {
   "cell_type": "code",
   "execution_count": 23,
   "id": "46a5adf4-646a-489a-9acc-75f3bac1422f",
   "metadata": {},
   "outputs": [
    {
     "data": {
      "text/plain": [
       "{'mean_fit_time': array([0.00490365, 0.00364184, 0.00708084, 0.00441885, 0.00381794,\n",
       "        0.00654259, 0.00384827, 0.00381274, 0.00683351, 0.00380988,\n",
       "        0.00397811, 0.00823212, 0.00508132, 0.00507307, 0.00637078,\n",
       "        0.00390267, 0.00412102, 0.00695353, 0.00386124, 0.00425777,\n",
       "        0.00671444, 0.00393195, 0.00421038, 0.00668693, 0.00384855,\n",
       "        0.00423737, 0.00721354]),\n",
       " 'std_fit_time': array([4.30391819e-04, 2.37651210e-04, 6.49035165e-04, 5.02638389e-04,\n",
       "        1.96768377e-04, 6.97887511e-04, 1.86448414e-04, 2.16075137e-04,\n",
       "        7.05072735e-04, 3.94872994e-05, 2.25747553e-04, 7.44291651e-04,\n",
       "        9.00574514e-04, 3.77881910e-04, 3.59724448e-04, 1.73274186e-04,\n",
       "        2.61459141e-04, 3.13299264e-04, 1.04182470e-04, 2.71341192e-04,\n",
       "        3.86290623e-04, 1.87601543e-04, 1.91226956e-04, 6.49895863e-04,\n",
       "        1.47126249e-04, 2.05739259e-04, 1.29698471e-03]),\n",
       " 'mean_score_time': array([0.0007514 , 0.0006299 , 0.00053978, 0.0006568 , 0.00054364,\n",
       "        0.00050683, 0.00052643, 0.00054832, 0.00055399, 0.00052347,\n",
       "        0.0006042 , 0.00075159, 0.00080266, 0.00080609, 0.00051923,\n",
       "        0.00052733, 0.00052476, 0.00054679, 0.00051203, 0.00052562,\n",
       "        0.00050025, 0.00052114, 0.00053   , 0.00049143, 0.00050712,\n",
       "        0.00052414, 0.00049725]),\n",
       " 'std_score_time': array([8.23095524e-05, 3.53265220e-05, 4.36841136e-05, 1.16974618e-04,\n",
       "        2.48021337e-05, 7.92955965e-06, 2.27651668e-05, 1.47653302e-05,\n",
       "        5.96581410e-05, 2.15158733e-06, 6.38964283e-05, 4.10123202e-05,\n",
       "        1.24066175e-04, 1.43815779e-04, 2.83841900e-05, 1.79035685e-05,\n",
       "        1.07134603e-05, 5.64718148e-05, 6.36465977e-06, 1.24093149e-05,\n",
       "        1.32586456e-05, 7.94674554e-06, 1.70391739e-05, 1.47144252e-05,\n",
       "        7.82797583e-06, 3.24198775e-05, 9.32286765e-06]),\n",
       " 'param_C': masked_array(data=[0.001, 0.001, 0.001, 0.004216965034285823,\n",
       "                    0.004216965034285823, 0.004216965034285823,\n",
       "                    0.01778279410038923, 0.01778279410038923,\n",
       "                    0.01778279410038923, 0.07498942093324558,\n",
       "                    0.07498942093324558, 0.07498942093324558,\n",
       "                    0.31622776601683794, 0.31622776601683794,\n",
       "                    0.31622776601683794, 1.333521432163324,\n",
       "                    1.333521432163324, 1.333521432163324,\n",
       "                    5.623413251903491, 5.623413251903491,\n",
       "                    5.623413251903491, 23.71373705661655,\n",
       "                    23.71373705661655, 23.71373705661655, 100.0, 100.0,\n",
       "                    100.0],\n",
       "              mask=[False, False, False, False, False, False, False, False,\n",
       "                    False, False, False, False, False, False, False, False,\n",
       "                    False, False, False, False, False, False, False, False,\n",
       "                    False, False, False],\n",
       "        fill_value='?',\n",
       "             dtype=object),\n",
       " 'param_solver': masked_array(data=['lbfgs', 'liblinear', 'saga', 'lbfgs', 'liblinear',\n",
       "                    'saga', 'lbfgs', 'liblinear', 'saga', 'lbfgs',\n",
       "                    'liblinear', 'saga', 'lbfgs', 'liblinear', 'saga',\n",
       "                    'lbfgs', 'liblinear', 'saga', 'lbfgs', 'liblinear',\n",
       "                    'saga', 'lbfgs', 'liblinear', 'saga', 'lbfgs',\n",
       "                    'liblinear', 'saga'],\n",
       "              mask=[False, False, False, False, False, False, False, False,\n",
       "                    False, False, False, False, False, False, False, False,\n",
       "                    False, False, False, False, False, False, False, False,\n",
       "                    False, False, False],\n",
       "        fill_value='?',\n",
       "             dtype=object),\n",
       " 'params': [{'C': 0.001, 'solver': 'lbfgs'},\n",
       "  {'C': 0.001, 'solver': 'liblinear'},\n",
       "  {'C': 0.001, 'solver': 'saga'},\n",
       "  {'C': 0.004216965034285823, 'solver': 'lbfgs'},\n",
       "  {'C': 0.004216965034285823, 'solver': 'liblinear'},\n",
       "  {'C': 0.004216965034285823, 'solver': 'saga'},\n",
       "  {'C': 0.01778279410038923, 'solver': 'lbfgs'},\n",
       "  {'C': 0.01778279410038923, 'solver': 'liblinear'},\n",
       "  {'C': 0.01778279410038923, 'solver': 'saga'},\n",
       "  {'C': 0.07498942093324558, 'solver': 'lbfgs'},\n",
       "  {'C': 0.07498942093324558, 'solver': 'liblinear'},\n",
       "  {'C': 0.07498942093324558, 'solver': 'saga'},\n",
       "  {'C': 0.31622776601683794, 'solver': 'lbfgs'},\n",
       "  {'C': 0.31622776601683794, 'solver': 'liblinear'},\n",
       "  {'C': 0.31622776601683794, 'solver': 'saga'},\n",
       "  {'C': 1.333521432163324, 'solver': 'lbfgs'},\n",
       "  {'C': 1.333521432163324, 'solver': 'liblinear'},\n",
       "  {'C': 1.333521432163324, 'solver': 'saga'},\n",
       "  {'C': 5.623413251903491, 'solver': 'lbfgs'},\n",
       "  {'C': 5.623413251903491, 'solver': 'liblinear'},\n",
       "  {'C': 5.623413251903491, 'solver': 'saga'},\n",
       "  {'C': 23.71373705661655, 'solver': 'lbfgs'},\n",
       "  {'C': 23.71373705661655, 'solver': 'liblinear'},\n",
       "  {'C': 23.71373705661655, 'solver': 'saga'},\n",
       "  {'C': 100.0, 'solver': 'lbfgs'},\n",
       "  {'C': 100.0, 'solver': 'liblinear'},\n",
       "  {'C': 100.0, 'solver': 'saga'}],\n",
       " 'split0_test_score': array([0.88125 , 0.88375 , 0.88125 , 0.88625 , 0.8875  , 0.88625 ,\n",
       "        0.88625 , 0.88625 , 0.88625 , 0.884375, 0.884375, 0.884375,\n",
       "        0.884375, 0.884375, 0.884375, 0.885   , 0.885   , 0.885   ,\n",
       "        0.885625, 0.885625, 0.885625, 0.885625, 0.885625, 0.885   ,\n",
       "        0.885625, 0.885625, 0.885625]),\n",
       " 'split1_test_score': array([0.878125, 0.87875 , 0.878125, 0.881875, 0.883125, 0.881875,\n",
       "        0.886875, 0.885625, 0.886875, 0.8875  , 0.8875  , 0.8875  ,\n",
       "        0.884375, 0.884375, 0.884375, 0.88375 , 0.88375 , 0.88375 ,\n",
       "        0.88375 , 0.88375 , 0.88375 , 0.88375 , 0.88375 , 0.88375 ,\n",
       "        0.88375 , 0.88375 , 0.88375 ]),\n",
       " 'split2_test_score': array([0.886875, 0.8875  , 0.886875, 0.891875, 0.891875, 0.891875,\n",
       "        0.8875  , 0.8875  , 0.8875  , 0.885   , 0.885   , 0.885625,\n",
       "        0.885   , 0.885   , 0.885   , 0.885   , 0.885   , 0.885   ,\n",
       "        0.885   , 0.885   , 0.885   , 0.885   , 0.885   , 0.885   ,\n",
       "        0.885   , 0.885   , 0.885   ]),\n",
       " 'split3_test_score': array([0.894375, 0.891875, 0.894375, 0.9     , 0.900625, 0.9     ,\n",
       "        0.905625, 0.90625 , 0.905625, 0.9075  , 0.906875, 0.906875,\n",
       "        0.906875, 0.906875, 0.906875, 0.906875, 0.906875, 0.906875,\n",
       "        0.906875, 0.906875, 0.906875, 0.906875, 0.906875, 0.906875,\n",
       "        0.906875, 0.906875, 0.906875]),\n",
       " 'split4_test_score': array([0.895   , 0.895   , 0.895   , 0.896875, 0.89625 , 0.896875,\n",
       "        0.89625 , 0.895625, 0.89625 , 0.894375, 0.895   , 0.894375,\n",
       "        0.893125, 0.893125, 0.893125, 0.893125, 0.893125, 0.893125,\n",
       "        0.893125, 0.893125, 0.893125, 0.893125, 0.893125, 0.893125,\n",
       "        0.893125, 0.893125, 0.893125]),\n",
       " 'mean_test_score': array([0.887125, 0.887375, 0.887125, 0.891375, 0.891875, 0.891375,\n",
       "        0.8925  , 0.89225 , 0.8925  , 0.89175 , 0.89175 , 0.89175 ,\n",
       "        0.89075 , 0.89075 , 0.89075 , 0.89075 , 0.89075 , 0.89075 ,\n",
       "        0.890875, 0.890875, 0.890875, 0.890875, 0.890875, 0.89075 ,\n",
       "        0.890875, 0.890875, 0.890875]),\n",
       " 'std_test_score': array([0.00678463, 0.00576086, 0.00678463, 0.00665442, 0.00618718,\n",
       "        0.00665442, 0.00751041, 0.00787202, 0.00751041, 0.00863677,\n",
       "        0.00845392, 0.00831414, 0.0087178 , 0.0087178 , 0.0087178 ,\n",
       "        0.00872675, 0.00872675, 0.00872675, 0.00864762, 0.00864762,\n",
       "        0.00864762, 0.00864762, 0.00864762, 0.00872675, 0.00864762,\n",
       "        0.00864762, 0.00864762]),\n",
       " 'rank_test_score': array([26, 25, 26,  8,  4,  8,  1,  3,  1,  5,  5,  5, 18, 18, 18, 18, 18,\n",
       "        18, 10, 10, 10, 10, 10, 18, 10, 10, 10], dtype=int32)}"
      ]
     },
     "execution_count": 23,
     "metadata": {},
     "output_type": "execute_result"
    }
   ],
   "source": [
    "gs.cv_results_"
   ]
  },
  {
   "cell_type": "code",
   "execution_count": 24,
   "id": "dcbc36fd",
   "metadata": {},
   "outputs": [
    {
     "data": {
      "text/html": [
       "<div>\n",
       "<style scoped>\n",
       "    .dataframe tbody tr th:only-of-type {\n",
       "        vertical-align: middle;\n",
       "    }\n",
       "\n",
       "    .dataframe tbody tr th {\n",
       "        vertical-align: top;\n",
       "    }\n",
       "\n",
       "    .dataframe thead th {\n",
       "        text-align: right;\n",
       "    }\n",
       "</style>\n",
       "<table border=\"1\" class=\"dataframe\">\n",
       "  <thead>\n",
       "    <tr style=\"text-align: right;\">\n",
       "      <th></th>\n",
       "      <th>mean_fit_time</th>\n",
       "      <th>std_fit_time</th>\n",
       "      <th>mean_score_time</th>\n",
       "      <th>std_score_time</th>\n",
       "      <th>param_C</th>\n",
       "      <th>param_solver</th>\n",
       "      <th>params</th>\n",
       "      <th>split0_test_score</th>\n",
       "      <th>split1_test_score</th>\n",
       "      <th>split2_test_score</th>\n",
       "      <th>split3_test_score</th>\n",
       "      <th>split4_test_score</th>\n",
       "      <th>mean_test_score</th>\n",
       "      <th>std_test_score</th>\n",
       "      <th>rank_test_score</th>\n",
       "    </tr>\n",
       "  </thead>\n",
       "  <tbody>\n",
       "    <tr>\n",
       "      <th>0</th>\n",
       "      <td>0.004904</td>\n",
       "      <td>0.000430</td>\n",
       "      <td>0.000751</td>\n",
       "      <td>0.000082</td>\n",
       "      <td>0.001</td>\n",
       "      <td>lbfgs</td>\n",
       "      <td>{'C': 0.001, 'solver': 'lbfgs'}</td>\n",
       "      <td>0.88125</td>\n",
       "      <td>0.878125</td>\n",
       "      <td>0.886875</td>\n",
       "      <td>0.894375</td>\n",
       "      <td>0.895000</td>\n",
       "      <td>0.887125</td>\n",
       "      <td>0.006785</td>\n",
       "      <td>26</td>\n",
       "    </tr>\n",
       "    <tr>\n",
       "      <th>1</th>\n",
       "      <td>0.003642</td>\n",
       "      <td>0.000238</td>\n",
       "      <td>0.000630</td>\n",
       "      <td>0.000035</td>\n",
       "      <td>0.001</td>\n",
       "      <td>liblinear</td>\n",
       "      <td>{'C': 0.001, 'solver': 'liblinear'}</td>\n",
       "      <td>0.88375</td>\n",
       "      <td>0.878750</td>\n",
       "      <td>0.887500</td>\n",
       "      <td>0.891875</td>\n",
       "      <td>0.895000</td>\n",
       "      <td>0.887375</td>\n",
       "      <td>0.005761</td>\n",
       "      <td>25</td>\n",
       "    </tr>\n",
       "    <tr>\n",
       "      <th>2</th>\n",
       "      <td>0.007081</td>\n",
       "      <td>0.000649</td>\n",
       "      <td>0.000540</td>\n",
       "      <td>0.000044</td>\n",
       "      <td>0.001</td>\n",
       "      <td>saga</td>\n",
       "      <td>{'C': 0.001, 'solver': 'saga'}</td>\n",
       "      <td>0.88125</td>\n",
       "      <td>0.878125</td>\n",
       "      <td>0.886875</td>\n",
       "      <td>0.894375</td>\n",
       "      <td>0.895000</td>\n",
       "      <td>0.887125</td>\n",
       "      <td>0.006785</td>\n",
       "      <td>26</td>\n",
       "    </tr>\n",
       "    <tr>\n",
       "      <th>3</th>\n",
       "      <td>0.004419</td>\n",
       "      <td>0.000503</td>\n",
       "      <td>0.000657</td>\n",
       "      <td>0.000117</td>\n",
       "      <td>0.004217</td>\n",
       "      <td>lbfgs</td>\n",
       "      <td>{'C': 0.004216965034285823, 'solver': 'lbfgs'}</td>\n",
       "      <td>0.88625</td>\n",
       "      <td>0.881875</td>\n",
       "      <td>0.891875</td>\n",
       "      <td>0.900000</td>\n",
       "      <td>0.896875</td>\n",
       "      <td>0.891375</td>\n",
       "      <td>0.006654</td>\n",
       "      <td>8</td>\n",
       "    </tr>\n",
       "    <tr>\n",
       "      <th>4</th>\n",
       "      <td>0.003818</td>\n",
       "      <td>0.000197</td>\n",
       "      <td>0.000544</td>\n",
       "      <td>0.000025</td>\n",
       "      <td>0.004217</td>\n",
       "      <td>liblinear</td>\n",
       "      <td>{'C': 0.004216965034285823, 'solver': 'libline...</td>\n",
       "      <td>0.88750</td>\n",
       "      <td>0.883125</td>\n",
       "      <td>0.891875</td>\n",
       "      <td>0.900625</td>\n",
       "      <td>0.896250</td>\n",
       "      <td>0.891875</td>\n",
       "      <td>0.006187</td>\n",
       "      <td>4</td>\n",
       "    </tr>\n",
       "  </tbody>\n",
       "</table>\n",
       "</div>"
      ],
      "text/plain": [
       "   mean_fit_time  std_fit_time  mean_score_time  std_score_time   param_C  \\\n",
       "0       0.004904      0.000430         0.000751        0.000082     0.001   \n",
       "1       0.003642      0.000238         0.000630        0.000035     0.001   \n",
       "2       0.007081      0.000649         0.000540        0.000044     0.001   \n",
       "3       0.004419      0.000503         0.000657        0.000117  0.004217   \n",
       "4       0.003818      0.000197         0.000544        0.000025  0.004217   \n",
       "\n",
       "  param_solver                                             params  \\\n",
       "0        lbfgs                    {'C': 0.001, 'solver': 'lbfgs'}   \n",
       "1    liblinear                {'C': 0.001, 'solver': 'liblinear'}   \n",
       "2         saga                     {'C': 0.001, 'solver': 'saga'}   \n",
       "3        lbfgs     {'C': 0.004216965034285823, 'solver': 'lbfgs'}   \n",
       "4    liblinear  {'C': 0.004216965034285823, 'solver': 'libline...   \n",
       "\n",
       "   split0_test_score  split1_test_score  split2_test_score  split3_test_score  \\\n",
       "0            0.88125           0.878125           0.886875           0.894375   \n",
       "1            0.88375           0.878750           0.887500           0.891875   \n",
       "2            0.88125           0.878125           0.886875           0.894375   \n",
       "3            0.88625           0.881875           0.891875           0.900000   \n",
       "4            0.88750           0.883125           0.891875           0.900625   \n",
       "\n",
       "   split4_test_score  mean_test_score  std_test_score  rank_test_score  \n",
       "0           0.895000         0.887125        0.006785               26  \n",
       "1           0.895000         0.887375        0.005761               25  \n",
       "2           0.895000         0.887125        0.006785               26  \n",
       "3           0.896875         0.891375        0.006654                8  \n",
       "4           0.896250         0.891875        0.006187                4  "
      ]
     },
     "execution_count": 24,
     "metadata": {},
     "output_type": "execute_result"
    }
   ],
   "source": [
    "pd.DataFrame(gs.cv_results_).head(5)"
   ]
  },
  {
   "cell_type": "code",
   "execution_count": 25,
   "id": "b7e868b9",
   "metadata": {},
   "outputs": [
    {
     "data": {
      "text/html": [
       "<div>\n",
       "<style scoped>\n",
       "    .dataframe tbody tr th:only-of-type {\n",
       "        vertical-align: middle;\n",
       "    }\n",
       "\n",
       "    .dataframe tbody tr th {\n",
       "        vertical-align: top;\n",
       "    }\n",
       "\n",
       "    .dataframe thead th {\n",
       "        text-align: right;\n",
       "    }\n",
       "</style>\n",
       "<table border=\"1\" class=\"dataframe\">\n",
       "  <thead>\n",
       "    <tr style=\"text-align: right;\">\n",
       "      <th></th>\n",
       "      <th>params</th>\n",
       "      <th>mean_test_score</th>\n",
       "    </tr>\n",
       "  </thead>\n",
       "  <tbody>\n",
       "    <tr>\n",
       "      <th>0</th>\n",
       "      <td>{'C': 0.001, 'solver': 'lbfgs'}</td>\n",
       "      <td>0.887125</td>\n",
       "    </tr>\n",
       "    <tr>\n",
       "      <th>1</th>\n",
       "      <td>{'C': 0.001, 'solver': 'liblinear'}</td>\n",
       "      <td>0.887375</td>\n",
       "    </tr>\n",
       "    <tr>\n",
       "      <th>2</th>\n",
       "      <td>{'C': 0.001, 'solver': 'saga'}</td>\n",
       "      <td>0.887125</td>\n",
       "    </tr>\n",
       "    <tr>\n",
       "      <th>3</th>\n",
       "      <td>{'C': 0.004216965034285823, 'solver': 'lbfgs'}</td>\n",
       "      <td>0.891375</td>\n",
       "    </tr>\n",
       "    <tr>\n",
       "      <th>4</th>\n",
       "      <td>{'C': 0.004216965034285823, 'solver': 'libline...</td>\n",
       "      <td>0.891875</td>\n",
       "    </tr>\n",
       "    <tr>\n",
       "      <th>5</th>\n",
       "      <td>{'C': 0.004216965034285823, 'solver': 'saga'}</td>\n",
       "      <td>0.891375</td>\n",
       "    </tr>\n",
       "    <tr>\n",
       "      <th>6</th>\n",
       "      <td>{'C': 0.01778279410038923, 'solver': 'lbfgs'}</td>\n",
       "      <td>0.892500</td>\n",
       "    </tr>\n",
       "    <tr>\n",
       "      <th>7</th>\n",
       "      <td>{'C': 0.01778279410038923, 'solver': 'liblinear'}</td>\n",
       "      <td>0.892250</td>\n",
       "    </tr>\n",
       "    <tr>\n",
       "      <th>8</th>\n",
       "      <td>{'C': 0.01778279410038923, 'solver': 'saga'}</td>\n",
       "      <td>0.892500</td>\n",
       "    </tr>\n",
       "    <tr>\n",
       "      <th>9</th>\n",
       "      <td>{'C': 0.07498942093324558, 'solver': 'lbfgs'}</td>\n",
       "      <td>0.891750</td>\n",
       "    </tr>\n",
       "    <tr>\n",
       "      <th>10</th>\n",
       "      <td>{'C': 0.07498942093324558, 'solver': 'liblinear'}</td>\n",
       "      <td>0.891750</td>\n",
       "    </tr>\n",
       "    <tr>\n",
       "      <th>11</th>\n",
       "      <td>{'C': 0.07498942093324558, 'solver': 'saga'}</td>\n",
       "      <td>0.891750</td>\n",
       "    </tr>\n",
       "    <tr>\n",
       "      <th>12</th>\n",
       "      <td>{'C': 0.31622776601683794, 'solver': 'lbfgs'}</td>\n",
       "      <td>0.890750</td>\n",
       "    </tr>\n",
       "    <tr>\n",
       "      <th>13</th>\n",
       "      <td>{'C': 0.31622776601683794, 'solver': 'liblinear'}</td>\n",
       "      <td>0.890750</td>\n",
       "    </tr>\n",
       "    <tr>\n",
       "      <th>14</th>\n",
       "      <td>{'C': 0.31622776601683794, 'solver': 'saga'}</td>\n",
       "      <td>0.890750</td>\n",
       "    </tr>\n",
       "    <tr>\n",
       "      <th>15</th>\n",
       "      <td>{'C': 1.333521432163324, 'solver': 'lbfgs'}</td>\n",
       "      <td>0.890750</td>\n",
       "    </tr>\n",
       "    <tr>\n",
       "      <th>16</th>\n",
       "      <td>{'C': 1.333521432163324, 'solver': 'liblinear'}</td>\n",
       "      <td>0.890750</td>\n",
       "    </tr>\n",
       "    <tr>\n",
       "      <th>17</th>\n",
       "      <td>{'C': 1.333521432163324, 'solver': 'saga'}</td>\n",
       "      <td>0.890750</td>\n",
       "    </tr>\n",
       "    <tr>\n",
       "      <th>18</th>\n",
       "      <td>{'C': 5.623413251903491, 'solver': 'lbfgs'}</td>\n",
       "      <td>0.890875</td>\n",
       "    </tr>\n",
       "    <tr>\n",
       "      <th>19</th>\n",
       "      <td>{'C': 5.623413251903491, 'solver': 'liblinear'}</td>\n",
       "      <td>0.890875</td>\n",
       "    </tr>\n",
       "    <tr>\n",
       "      <th>20</th>\n",
       "      <td>{'C': 5.623413251903491, 'solver': 'saga'}</td>\n",
       "      <td>0.890875</td>\n",
       "    </tr>\n",
       "    <tr>\n",
       "      <th>21</th>\n",
       "      <td>{'C': 23.71373705661655, 'solver': 'lbfgs'}</td>\n",
       "      <td>0.890875</td>\n",
       "    </tr>\n",
       "    <tr>\n",
       "      <th>22</th>\n",
       "      <td>{'C': 23.71373705661655, 'solver': 'liblinear'}</td>\n",
       "      <td>0.890875</td>\n",
       "    </tr>\n",
       "    <tr>\n",
       "      <th>23</th>\n",
       "      <td>{'C': 23.71373705661655, 'solver': 'saga'}</td>\n",
       "      <td>0.890750</td>\n",
       "    </tr>\n",
       "    <tr>\n",
       "      <th>24</th>\n",
       "      <td>{'C': 100.0, 'solver': 'lbfgs'}</td>\n",
       "      <td>0.890875</td>\n",
       "    </tr>\n",
       "    <tr>\n",
       "      <th>25</th>\n",
       "      <td>{'C': 100.0, 'solver': 'liblinear'}</td>\n",
       "      <td>0.890875</td>\n",
       "    </tr>\n",
       "    <tr>\n",
       "      <th>26</th>\n",
       "      <td>{'C': 100.0, 'solver': 'saga'}</td>\n",
       "      <td>0.890875</td>\n",
       "    </tr>\n",
       "  </tbody>\n",
       "</table>\n",
       "</div>"
      ],
      "text/plain": [
       "                                               params  mean_test_score\n",
       "0                     {'C': 0.001, 'solver': 'lbfgs'}         0.887125\n",
       "1                 {'C': 0.001, 'solver': 'liblinear'}         0.887375\n",
       "2                      {'C': 0.001, 'solver': 'saga'}         0.887125\n",
       "3      {'C': 0.004216965034285823, 'solver': 'lbfgs'}         0.891375\n",
       "4   {'C': 0.004216965034285823, 'solver': 'libline...         0.891875\n",
       "5       {'C': 0.004216965034285823, 'solver': 'saga'}         0.891375\n",
       "6       {'C': 0.01778279410038923, 'solver': 'lbfgs'}         0.892500\n",
       "7   {'C': 0.01778279410038923, 'solver': 'liblinear'}         0.892250\n",
       "8        {'C': 0.01778279410038923, 'solver': 'saga'}         0.892500\n",
       "9       {'C': 0.07498942093324558, 'solver': 'lbfgs'}         0.891750\n",
       "10  {'C': 0.07498942093324558, 'solver': 'liblinear'}         0.891750\n",
       "11       {'C': 0.07498942093324558, 'solver': 'saga'}         0.891750\n",
       "12      {'C': 0.31622776601683794, 'solver': 'lbfgs'}         0.890750\n",
       "13  {'C': 0.31622776601683794, 'solver': 'liblinear'}         0.890750\n",
       "14       {'C': 0.31622776601683794, 'solver': 'saga'}         0.890750\n",
       "15        {'C': 1.333521432163324, 'solver': 'lbfgs'}         0.890750\n",
       "16    {'C': 1.333521432163324, 'solver': 'liblinear'}         0.890750\n",
       "17         {'C': 1.333521432163324, 'solver': 'saga'}         0.890750\n",
       "18        {'C': 5.623413251903491, 'solver': 'lbfgs'}         0.890875\n",
       "19    {'C': 5.623413251903491, 'solver': 'liblinear'}         0.890875\n",
       "20         {'C': 5.623413251903491, 'solver': 'saga'}         0.890875\n",
       "21        {'C': 23.71373705661655, 'solver': 'lbfgs'}         0.890875\n",
       "22    {'C': 23.71373705661655, 'solver': 'liblinear'}         0.890875\n",
       "23         {'C': 23.71373705661655, 'solver': 'saga'}         0.890750\n",
       "24                    {'C': 100.0, 'solver': 'lbfgs'}         0.890875\n",
       "25                {'C': 100.0, 'solver': 'liblinear'}         0.890875\n",
       "26                     {'C': 100.0, 'solver': 'saga'}         0.890875"
      ]
     },
     "execution_count": 25,
     "metadata": {},
     "output_type": "execute_result"
    }
   ],
   "source": [
    "pd.DataFrame({'params':gs.cv_results_['params'], 'mean_test_score':gs.cv_results_['mean_test_score']})"
   ]
  },
  {
   "cell_type": "code",
   "execution_count": 26,
   "id": "b27273aa",
   "metadata": {},
   "outputs": [
    {
     "data": {
      "text/plain": [
       "0.8924999999999998"
      ]
     },
     "execution_count": 26,
     "metadata": {},
     "output_type": "execute_result"
    }
   ],
   "source": [
    "gs.best_score_ # на обучающих данных"
   ]
  },
  {
   "cell_type": "markdown",
   "id": "22b01893",
   "metadata": {},
   "source": [
    "### 8. Используйте методы score и predict класса GridSearchCV, чтобы вычислить метрики качества accuracy и F1-меры на тестовых данных для модели LogisticRegression с лучшими гиперпараметрами."
   ]
  },
  {
   "cell_type": "code",
   "execution_count": 27,
   "id": "b815b1bf-fdda-4039-b528-bacc0c5eabe6",
   "metadata": {},
   "outputs": [
    {
     "data": {
      "text/plain": [
       "0.894"
      ]
     },
     "execution_count": 27,
     "metadata": {},
     "output_type": "execute_result"
    }
   ],
   "source": [
    "accuracy = gs.score(X_test, y_test)\n",
    "accuracy"
   ]
  },
  {
   "cell_type": "code",
   "execution_count": 28,
   "id": "82f6baa3",
   "metadata": {},
   "outputs": [
    {
     "data": {
      "text/plain": [
       "0.8922764227642276"
      ]
     },
     "execution_count": 28,
     "metadata": {},
     "output_type": "execute_result"
    }
   ],
   "source": [
    "y_test_pred = gs.predict(X_test)\n",
    "f1 = metrics.f1_score(y_test, y_test_pred)\n",
    "f1"
   ]
  },
  {
   "cell_type": "markdown",
   "id": "d2132a94",
   "metadata": {},
   "source": [
    "### 9. Осуществите решетчатый поиск на обучающих данных лучших гиперпараметров модели LogisticRegression по метрике accuracy с использованием перекрёстной проверки, используя класс GridSearchCV из библиотеки sklearn, среди списка словарей гиперпараметров, указанных ниже. Обучите модель с лучшими гиперпараметрами на обучающих данных и вычислите метрики accuracy и F1-меру на тестовых данных."
   ]
  },
  {
   "cell_type": "code",
   "execution_count": 29,
   "id": "bcef99a7",
   "metadata": {},
   "outputs": [],
   "source": [
    "param_grid = param_grid = [\n",
    "    {'solver': ['liblinear'],\n",
    "    'penalty': ['l1', 'l2'],\n",
    "    'C': np.logspace(-3,2,9),\n",
    "    'max_iter' : [1000]},\n",
    "    {'solver': ['saga'],\n",
    "    'penalty': ['elasticnet'],\n",
    "    'l1_ratio': [0.1, 0.3, 0.5, 0.7, 0.9],\n",
    "    'max_iter' : [1000]}]"
   ]
  },
  {
   "cell_type": "code",
   "execution_count": 30,
   "id": "d25d02d5-120a-440f-afd3-8e3540a40743",
   "metadata": {},
   "outputs": [],
   "source": [
    "gs_list = GridSearchCV(\n",
    "        estimator = LogisticRegression(),\n",
    "        param_grid = param_grid,\n",
    "        scoring = 'accuracy',\n",
    "        cv = 5)"
   ]
  },
  {
   "cell_type": "code",
   "execution_count": 31,
   "id": "8dc95410",
   "metadata": {},
   "outputs": [
    {
     "data": {
      "text/html": [
       "<style>#sk-container-id-3 {color: black;}#sk-container-id-3 pre{padding: 0;}#sk-container-id-3 div.sk-toggleable {background-color: white;}#sk-container-id-3 label.sk-toggleable__label {cursor: pointer;display: block;width: 100%;margin-bottom: 0;padding: 0.3em;box-sizing: border-box;text-align: center;}#sk-container-id-3 label.sk-toggleable__label-arrow:before {content: \"▸\";float: left;margin-right: 0.25em;color: #696969;}#sk-container-id-3 label.sk-toggleable__label-arrow:hover:before {color: black;}#sk-container-id-3 div.sk-estimator:hover label.sk-toggleable__label-arrow:before {color: black;}#sk-container-id-3 div.sk-toggleable__content {max-height: 0;max-width: 0;overflow: hidden;text-align: left;background-color: #f0f8ff;}#sk-container-id-3 div.sk-toggleable__content pre {margin: 0.2em;color: black;border-radius: 0.25em;background-color: #f0f8ff;}#sk-container-id-3 input.sk-toggleable__control:checked~div.sk-toggleable__content {max-height: 200px;max-width: 100%;overflow: auto;}#sk-container-id-3 input.sk-toggleable__control:checked~label.sk-toggleable__label-arrow:before {content: \"▾\";}#sk-container-id-3 div.sk-estimator input.sk-toggleable__control:checked~label.sk-toggleable__label {background-color: #d4ebff;}#sk-container-id-3 div.sk-label input.sk-toggleable__control:checked~label.sk-toggleable__label {background-color: #d4ebff;}#sk-container-id-3 input.sk-hidden--visually {border: 0;clip: rect(1px 1px 1px 1px);clip: rect(1px, 1px, 1px, 1px);height: 1px;margin: -1px;overflow: hidden;padding: 0;position: absolute;width: 1px;}#sk-container-id-3 div.sk-estimator {font-family: monospace;background-color: #f0f8ff;border: 1px dotted black;border-radius: 0.25em;box-sizing: border-box;margin-bottom: 0.5em;}#sk-container-id-3 div.sk-estimator:hover {background-color: #d4ebff;}#sk-container-id-3 div.sk-parallel-item::after {content: \"\";width: 100%;border-bottom: 1px solid gray;flex-grow: 1;}#sk-container-id-3 div.sk-label:hover label.sk-toggleable__label {background-color: #d4ebff;}#sk-container-id-3 div.sk-serial::before {content: \"\";position: absolute;border-left: 1px solid gray;box-sizing: border-box;top: 0;bottom: 0;left: 50%;z-index: 0;}#sk-container-id-3 div.sk-serial {display: flex;flex-direction: column;align-items: center;background-color: white;padding-right: 0.2em;padding-left: 0.2em;position: relative;}#sk-container-id-3 div.sk-item {position: relative;z-index: 1;}#sk-container-id-3 div.sk-parallel {display: flex;align-items: stretch;justify-content: center;background-color: white;position: relative;}#sk-container-id-3 div.sk-item::before, #sk-container-id-3 div.sk-parallel-item::before {content: \"\";position: absolute;border-left: 1px solid gray;box-sizing: border-box;top: 0;bottom: 0;left: 50%;z-index: -1;}#sk-container-id-3 div.sk-parallel-item {display: flex;flex-direction: column;z-index: 1;position: relative;background-color: white;}#sk-container-id-3 div.sk-parallel-item:first-child::after {align-self: flex-end;width: 50%;}#sk-container-id-3 div.sk-parallel-item:last-child::after {align-self: flex-start;width: 50%;}#sk-container-id-3 div.sk-parallel-item:only-child::after {width: 0;}#sk-container-id-3 div.sk-dashed-wrapped {border: 1px dashed gray;margin: 0 0.4em 0.5em 0.4em;box-sizing: border-box;padding-bottom: 0.4em;background-color: white;}#sk-container-id-3 div.sk-label label {font-family: monospace;font-weight: bold;display: inline-block;line-height: 1.2em;}#sk-container-id-3 div.sk-label-container {text-align: center;}#sk-container-id-3 div.sk-container {/* jupyter's `normalize.less` sets `[hidden] { display: none; }` but bootstrap.min.css set `[hidden] { display: none !important; }` so we also need the `!important` here to be able to override the default hidden behavior on the sphinx rendered scikit-learn.org. See: https://github.com/scikit-learn/scikit-learn/issues/21755 */display: inline-block !important;position: relative;}#sk-container-id-3 div.sk-text-repr-fallback {display: none;}</style><div id=\"sk-container-id-3\" class=\"sk-top-container\"><div class=\"sk-text-repr-fallback\"><pre>GridSearchCV(cv=5, estimator=LogisticRegression(),\n",
       "             param_grid=[{&#x27;C&#x27;: array([1.00000000e-03, 4.21696503e-03, 1.77827941e-02, 7.49894209e-02,\n",
       "       3.16227766e-01, 1.33352143e+00, 5.62341325e+00, 2.37137371e+01,\n",
       "       1.00000000e+02]),\n",
       "                          &#x27;max_iter&#x27;: [1000], &#x27;penalty&#x27;: [&#x27;l1&#x27;, &#x27;l2&#x27;],\n",
       "                          &#x27;solver&#x27;: [&#x27;liblinear&#x27;]},\n",
       "                         {&#x27;l1_ratio&#x27;: [0.1, 0.3, 0.5, 0.7, 0.9],\n",
       "                          &#x27;max_iter&#x27;: [1000], &#x27;penalty&#x27;: [&#x27;elasticnet&#x27;],\n",
       "                          &#x27;solver&#x27;: [&#x27;saga&#x27;]}],\n",
       "             scoring=&#x27;accuracy&#x27;)</pre><b>In a Jupyter environment, please rerun this cell to show the HTML representation or trust the notebook. <br />On GitHub, the HTML representation is unable to render, please try loading this page with nbviewer.org.</b></div><div class=\"sk-container\" hidden><div class=\"sk-item sk-dashed-wrapped\"><div class=\"sk-label-container\"><div class=\"sk-label sk-toggleable\"><input class=\"sk-toggleable__control sk-hidden--visually\" id=\"sk-estimator-id-5\" type=\"checkbox\" ><label for=\"sk-estimator-id-5\" class=\"sk-toggleable__label sk-toggleable__label-arrow\">GridSearchCV</label><div class=\"sk-toggleable__content\"><pre>GridSearchCV(cv=5, estimator=LogisticRegression(),\n",
       "             param_grid=[{&#x27;C&#x27;: array([1.00000000e-03, 4.21696503e-03, 1.77827941e-02, 7.49894209e-02,\n",
       "       3.16227766e-01, 1.33352143e+00, 5.62341325e+00, 2.37137371e+01,\n",
       "       1.00000000e+02]),\n",
       "                          &#x27;max_iter&#x27;: [1000], &#x27;penalty&#x27;: [&#x27;l1&#x27;, &#x27;l2&#x27;],\n",
       "                          &#x27;solver&#x27;: [&#x27;liblinear&#x27;]},\n",
       "                         {&#x27;l1_ratio&#x27;: [0.1, 0.3, 0.5, 0.7, 0.9],\n",
       "                          &#x27;max_iter&#x27;: [1000], &#x27;penalty&#x27;: [&#x27;elasticnet&#x27;],\n",
       "                          &#x27;solver&#x27;: [&#x27;saga&#x27;]}],\n",
       "             scoring=&#x27;accuracy&#x27;)</pre></div></div></div><div class=\"sk-parallel\"><div class=\"sk-parallel-item\"><div class=\"sk-item\"><div class=\"sk-label-container\"><div class=\"sk-label sk-toggleable\"><input class=\"sk-toggleable__control sk-hidden--visually\" id=\"sk-estimator-id-6\" type=\"checkbox\" ><label for=\"sk-estimator-id-6\" class=\"sk-toggleable__label sk-toggleable__label-arrow\">estimator: LogisticRegression</label><div class=\"sk-toggleable__content\"><pre>LogisticRegression()</pre></div></div></div><div class=\"sk-serial\"><div class=\"sk-item\"><div class=\"sk-estimator sk-toggleable\"><input class=\"sk-toggleable__control sk-hidden--visually\" id=\"sk-estimator-id-7\" type=\"checkbox\" ><label for=\"sk-estimator-id-7\" class=\"sk-toggleable__label sk-toggleable__label-arrow\">LogisticRegression</label><div class=\"sk-toggleable__content\"><pre>LogisticRegression()</pre></div></div></div></div></div></div></div></div></div></div>"
      ],
      "text/plain": [
       "GridSearchCV(cv=5, estimator=LogisticRegression(),\n",
       "             param_grid=[{'C': array([1.00000000e-03, 4.21696503e-03, 1.77827941e-02, 7.49894209e-02,\n",
       "       3.16227766e-01, 1.33352143e+00, 5.62341325e+00, 2.37137371e+01,\n",
       "       1.00000000e+02]),\n",
       "                          'max_iter': [1000], 'penalty': ['l1', 'l2'],\n",
       "                          'solver': ['liblinear']},\n",
       "                         {'l1_ratio': [0.1, 0.3, 0.5, 0.7, 0.9],\n",
       "                          'max_iter': [1000], 'penalty': ['elasticnet'],\n",
       "                          'solver': ['saga']}],\n",
       "             scoring='accuracy')"
      ]
     },
     "execution_count": 31,
     "metadata": {},
     "output_type": "execute_result"
    }
   ],
   "source": [
    "gs_list.fit(X_train, y_train)"
   ]
  },
  {
   "cell_type": "code",
   "execution_count": 32,
   "id": "18939307",
   "metadata": {},
   "outputs": [
    {
     "data": {
      "text/plain": [
       "{'C': 0.01778279410038923,\n",
       " 'max_iter': 1000,\n",
       " 'penalty': 'l1',\n",
       " 'solver': 'liblinear'}"
      ]
     },
     "execution_count": 32,
     "metadata": {},
     "output_type": "execute_result"
    }
   ],
   "source": [
    "gs_list.best_params_"
   ]
  },
  {
   "cell_type": "code",
   "execution_count": 33,
   "id": "9ec48620",
   "metadata": {},
   "outputs": [
    {
     "data": {
      "text/plain": [
       "0.894"
      ]
     },
     "execution_count": 33,
     "metadata": {},
     "output_type": "execute_result"
    }
   ],
   "source": [
    "accuracy = gs_list.score(X_test, y_test)\n",
    "accuracy"
   ]
  },
  {
   "cell_type": "code",
   "execution_count": 34,
   "id": "3ed8d5eb",
   "metadata": {},
   "outputs": [
    {
     "data": {
      "text/plain": [
       "0.8928210313447926"
      ]
     },
     "execution_count": 34,
     "metadata": {},
     "output_type": "execute_result"
    }
   ],
   "source": [
    "y_test_pred = gs_list.predict(X_test)\n",
    "f1 = metrics.f1_score(y_test, y_test_pred)\n",
    "f1"
   ]
  },
  {
   "cell_type": "markdown",
   "id": "f9cec7ed",
   "metadata": {},
   "source": [
    "### 10. Осуществите рандомизированный решетчатый поиск на обучающих данных лучших гиперпараметров модели LogisticRegression по метрике accuracy с использованием перекрёстной проверки, используя класс RandomizedSearchCV из библиотеки sklearn, для списка словарей гиперпараметров из предыдущего задания. Обучите модель с лучшими гиперпараметрами на обучающих данных и вычислите метрики accuracy и F1-меру на тестовых данных."
   ]
  },
  {
   "cell_type": "code",
   "execution_count": 35,
   "id": "352b7e72-c8ca-4aab-ba7d-b61ebbfadfe3",
   "metadata": {},
   "outputs": [],
   "source": [
    "rgs = RandomizedSearchCV(\n",
    "        estimator = LogisticRegression(),\n",
    "        param_distributions = param_grid,\n",
    "        scoring = 'accuracy',\n",
    "        cv = 5,\n",
    "        random_state = 1)"
   ]
  },
  {
   "cell_type": "code",
   "execution_count": 36,
   "id": "fb779239",
   "metadata": {},
   "outputs": [
    {
     "data": {
      "text/html": [
       "<style>#sk-container-id-4 {color: black;}#sk-container-id-4 pre{padding: 0;}#sk-container-id-4 div.sk-toggleable {background-color: white;}#sk-container-id-4 label.sk-toggleable__label {cursor: pointer;display: block;width: 100%;margin-bottom: 0;padding: 0.3em;box-sizing: border-box;text-align: center;}#sk-container-id-4 label.sk-toggleable__label-arrow:before {content: \"▸\";float: left;margin-right: 0.25em;color: #696969;}#sk-container-id-4 label.sk-toggleable__label-arrow:hover:before {color: black;}#sk-container-id-4 div.sk-estimator:hover label.sk-toggleable__label-arrow:before {color: black;}#sk-container-id-4 div.sk-toggleable__content {max-height: 0;max-width: 0;overflow: hidden;text-align: left;background-color: #f0f8ff;}#sk-container-id-4 div.sk-toggleable__content pre {margin: 0.2em;color: black;border-radius: 0.25em;background-color: #f0f8ff;}#sk-container-id-4 input.sk-toggleable__control:checked~div.sk-toggleable__content {max-height: 200px;max-width: 100%;overflow: auto;}#sk-container-id-4 input.sk-toggleable__control:checked~label.sk-toggleable__label-arrow:before {content: \"▾\";}#sk-container-id-4 div.sk-estimator input.sk-toggleable__control:checked~label.sk-toggleable__label {background-color: #d4ebff;}#sk-container-id-4 div.sk-label input.sk-toggleable__control:checked~label.sk-toggleable__label {background-color: #d4ebff;}#sk-container-id-4 input.sk-hidden--visually {border: 0;clip: rect(1px 1px 1px 1px);clip: rect(1px, 1px, 1px, 1px);height: 1px;margin: -1px;overflow: hidden;padding: 0;position: absolute;width: 1px;}#sk-container-id-4 div.sk-estimator {font-family: monospace;background-color: #f0f8ff;border: 1px dotted black;border-radius: 0.25em;box-sizing: border-box;margin-bottom: 0.5em;}#sk-container-id-4 div.sk-estimator:hover {background-color: #d4ebff;}#sk-container-id-4 div.sk-parallel-item::after {content: \"\";width: 100%;border-bottom: 1px solid gray;flex-grow: 1;}#sk-container-id-4 div.sk-label:hover label.sk-toggleable__label {background-color: #d4ebff;}#sk-container-id-4 div.sk-serial::before {content: \"\";position: absolute;border-left: 1px solid gray;box-sizing: border-box;top: 0;bottom: 0;left: 50%;z-index: 0;}#sk-container-id-4 div.sk-serial {display: flex;flex-direction: column;align-items: center;background-color: white;padding-right: 0.2em;padding-left: 0.2em;position: relative;}#sk-container-id-4 div.sk-item {position: relative;z-index: 1;}#sk-container-id-4 div.sk-parallel {display: flex;align-items: stretch;justify-content: center;background-color: white;position: relative;}#sk-container-id-4 div.sk-item::before, #sk-container-id-4 div.sk-parallel-item::before {content: \"\";position: absolute;border-left: 1px solid gray;box-sizing: border-box;top: 0;bottom: 0;left: 50%;z-index: -1;}#sk-container-id-4 div.sk-parallel-item {display: flex;flex-direction: column;z-index: 1;position: relative;background-color: white;}#sk-container-id-4 div.sk-parallel-item:first-child::after {align-self: flex-end;width: 50%;}#sk-container-id-4 div.sk-parallel-item:last-child::after {align-self: flex-start;width: 50%;}#sk-container-id-4 div.sk-parallel-item:only-child::after {width: 0;}#sk-container-id-4 div.sk-dashed-wrapped {border: 1px dashed gray;margin: 0 0.4em 0.5em 0.4em;box-sizing: border-box;padding-bottom: 0.4em;background-color: white;}#sk-container-id-4 div.sk-label label {font-family: monospace;font-weight: bold;display: inline-block;line-height: 1.2em;}#sk-container-id-4 div.sk-label-container {text-align: center;}#sk-container-id-4 div.sk-container {/* jupyter's `normalize.less` sets `[hidden] { display: none; }` but bootstrap.min.css set `[hidden] { display: none !important; }` so we also need the `!important` here to be able to override the default hidden behavior on the sphinx rendered scikit-learn.org. See: https://github.com/scikit-learn/scikit-learn/issues/21755 */display: inline-block !important;position: relative;}#sk-container-id-4 div.sk-text-repr-fallback {display: none;}</style><div id=\"sk-container-id-4\" class=\"sk-top-container\"><div class=\"sk-text-repr-fallback\"><pre>RandomizedSearchCV(cv=5, estimator=LogisticRegression(),\n",
       "                   param_distributions=[{&#x27;C&#x27;: array([1.00000000e-03, 4.21696503e-03, 1.77827941e-02, 7.49894209e-02,\n",
       "       3.16227766e-01, 1.33352143e+00, 5.62341325e+00, 2.37137371e+01,\n",
       "       1.00000000e+02]),\n",
       "                                         &#x27;max_iter&#x27;: [1000],\n",
       "                                         &#x27;penalty&#x27;: [&#x27;l1&#x27;, &#x27;l2&#x27;],\n",
       "                                         &#x27;solver&#x27;: [&#x27;liblinear&#x27;]},\n",
       "                                        {&#x27;l1_ratio&#x27;: [0.1, 0.3, 0.5, 0.7, 0.9],\n",
       "                                         &#x27;max_iter&#x27;: [1000],\n",
       "                                         &#x27;penalty&#x27;: [&#x27;elasticnet&#x27;],\n",
       "                                         &#x27;solver&#x27;: [&#x27;saga&#x27;]}],\n",
       "                   random_state=1, scoring=&#x27;accuracy&#x27;)</pre><b>In a Jupyter environment, please rerun this cell to show the HTML representation or trust the notebook. <br />On GitHub, the HTML representation is unable to render, please try loading this page with nbviewer.org.</b></div><div class=\"sk-container\" hidden><div class=\"sk-item sk-dashed-wrapped\"><div class=\"sk-label-container\"><div class=\"sk-label sk-toggleable\"><input class=\"sk-toggleable__control sk-hidden--visually\" id=\"sk-estimator-id-8\" type=\"checkbox\" ><label for=\"sk-estimator-id-8\" class=\"sk-toggleable__label sk-toggleable__label-arrow\">RandomizedSearchCV</label><div class=\"sk-toggleable__content\"><pre>RandomizedSearchCV(cv=5, estimator=LogisticRegression(),\n",
       "                   param_distributions=[{&#x27;C&#x27;: array([1.00000000e-03, 4.21696503e-03, 1.77827941e-02, 7.49894209e-02,\n",
       "       3.16227766e-01, 1.33352143e+00, 5.62341325e+00, 2.37137371e+01,\n",
       "       1.00000000e+02]),\n",
       "                                         &#x27;max_iter&#x27;: [1000],\n",
       "                                         &#x27;penalty&#x27;: [&#x27;l1&#x27;, &#x27;l2&#x27;],\n",
       "                                         &#x27;solver&#x27;: [&#x27;liblinear&#x27;]},\n",
       "                                        {&#x27;l1_ratio&#x27;: [0.1, 0.3, 0.5, 0.7, 0.9],\n",
       "                                         &#x27;max_iter&#x27;: [1000],\n",
       "                                         &#x27;penalty&#x27;: [&#x27;elasticnet&#x27;],\n",
       "                                         &#x27;solver&#x27;: [&#x27;saga&#x27;]}],\n",
       "                   random_state=1, scoring=&#x27;accuracy&#x27;)</pre></div></div></div><div class=\"sk-parallel\"><div class=\"sk-parallel-item\"><div class=\"sk-item\"><div class=\"sk-label-container\"><div class=\"sk-label sk-toggleable\"><input class=\"sk-toggleable__control sk-hidden--visually\" id=\"sk-estimator-id-9\" type=\"checkbox\" ><label for=\"sk-estimator-id-9\" class=\"sk-toggleable__label sk-toggleable__label-arrow\">estimator: LogisticRegression</label><div class=\"sk-toggleable__content\"><pre>LogisticRegression()</pre></div></div></div><div class=\"sk-serial\"><div class=\"sk-item\"><div class=\"sk-estimator sk-toggleable\"><input class=\"sk-toggleable__control sk-hidden--visually\" id=\"sk-estimator-id-10\" type=\"checkbox\" ><label for=\"sk-estimator-id-10\" class=\"sk-toggleable__label sk-toggleable__label-arrow\">LogisticRegression</label><div class=\"sk-toggleable__content\"><pre>LogisticRegression()</pre></div></div></div></div></div></div></div></div></div></div>"
      ],
      "text/plain": [
       "RandomizedSearchCV(cv=5, estimator=LogisticRegression(),\n",
       "                   param_distributions=[{'C': array([1.00000000e-03, 4.21696503e-03, 1.77827941e-02, 7.49894209e-02,\n",
       "       3.16227766e-01, 1.33352143e+00, 5.62341325e+00, 2.37137371e+01,\n",
       "       1.00000000e+02]),\n",
       "                                         'max_iter': [1000],\n",
       "                                         'penalty': ['l1', 'l2'],\n",
       "                                         'solver': ['liblinear']},\n",
       "                                        {'l1_ratio': [0.1, 0.3, 0.5, 0.7, 0.9],\n",
       "                                         'max_iter': [1000],\n",
       "                                         'penalty': ['elasticnet'],\n",
       "                                         'solver': ['saga']}],\n",
       "                   random_state=1, scoring='accuracy')"
      ]
     },
     "execution_count": 36,
     "metadata": {},
     "output_type": "execute_result"
    }
   ],
   "source": [
    "rgs.fit(X_train, y_train)"
   ]
  },
  {
   "cell_type": "code",
   "execution_count": 37,
   "id": "2f588343",
   "metadata": {},
   "outputs": [
    {
     "data": {
      "text/plain": [
       "{'C': 0.01778279410038923,\n",
       " 'max_iter': 1000,\n",
       " 'penalty': 'l1',\n",
       " 'solver': 'liblinear'}"
      ]
     },
     "execution_count": 37,
     "metadata": {},
     "output_type": "execute_result"
    }
   ],
   "source": [
    "gs_list.best_params_"
   ]
  },
  {
   "cell_type": "code",
   "execution_count": 38,
   "id": "da12ea31",
   "metadata": {},
   "outputs": [
    {
     "data": {
      "text/html": [
       "<div>\n",
       "<style scoped>\n",
       "    .dataframe tbody tr th:only-of-type {\n",
       "        vertical-align: middle;\n",
       "    }\n",
       "\n",
       "    .dataframe tbody tr th {\n",
       "        vertical-align: top;\n",
       "    }\n",
       "\n",
       "    .dataframe thead th {\n",
       "        text-align: right;\n",
       "    }\n",
       "</style>\n",
       "<table border=\"1\" class=\"dataframe\">\n",
       "  <thead>\n",
       "    <tr style=\"text-align: right;\">\n",
       "      <th></th>\n",
       "      <th>params</th>\n",
       "      <th>mean_test_score</th>\n",
       "    </tr>\n",
       "  </thead>\n",
       "  <tbody>\n",
       "    <tr>\n",
       "      <th>0</th>\n",
       "      <td>{'solver': 'saga', 'penalty': 'elasticnet', 'm...</td>\n",
       "      <td>0.890750</td>\n",
       "    </tr>\n",
       "    <tr>\n",
       "      <th>1</th>\n",
       "      <td>{'solver': 'liblinear', 'penalty': 'l2', 'max_...</td>\n",
       "      <td>0.890875</td>\n",
       "    </tr>\n",
       "    <tr>\n",
       "      <th>2</th>\n",
       "      <td>{'solver': 'liblinear', 'penalty': 'l2', 'max_...</td>\n",
       "      <td>0.891875</td>\n",
       "    </tr>\n",
       "    <tr>\n",
       "      <th>3</th>\n",
       "      <td>{'solver': 'liblinear', 'penalty': 'l2', 'max_...</td>\n",
       "      <td>0.890875</td>\n",
       "    </tr>\n",
       "    <tr>\n",
       "      <th>4</th>\n",
       "      <td>{'solver': 'saga', 'penalty': 'elasticnet', 'm...</td>\n",
       "      <td>0.890750</td>\n",
       "    </tr>\n",
       "    <tr>\n",
       "      <th>5</th>\n",
       "      <td>{'solver': 'liblinear', 'penalty': 'l1', 'max_...</td>\n",
       "      <td>0.890875</td>\n",
       "    </tr>\n",
       "    <tr>\n",
       "      <th>6</th>\n",
       "      <td>{'solver': 'liblinear', 'penalty': 'l1', 'max_...</td>\n",
       "      <td>0.890750</td>\n",
       "    </tr>\n",
       "    <tr>\n",
       "      <th>7</th>\n",
       "      <td>{'solver': 'liblinear', 'penalty': 'l1', 'max_...</td>\n",
       "      <td>0.893250</td>\n",
       "    </tr>\n",
       "    <tr>\n",
       "      <th>8</th>\n",
       "      <td>{'solver': 'liblinear', 'penalty': 'l1', 'max_...</td>\n",
       "      <td>0.888750</td>\n",
       "    </tr>\n",
       "    <tr>\n",
       "      <th>9</th>\n",
       "      <td>{'solver': 'saga', 'penalty': 'elasticnet', 'm...</td>\n",
       "      <td>0.890875</td>\n",
       "    </tr>\n",
       "  </tbody>\n",
       "</table>\n",
       "</div>"
      ],
      "text/plain": [
       "                                              params  mean_test_score\n",
       "0  {'solver': 'saga', 'penalty': 'elasticnet', 'm...         0.890750\n",
       "1  {'solver': 'liblinear', 'penalty': 'l2', 'max_...         0.890875\n",
       "2  {'solver': 'liblinear', 'penalty': 'l2', 'max_...         0.891875\n",
       "3  {'solver': 'liblinear', 'penalty': 'l2', 'max_...         0.890875\n",
       "4  {'solver': 'saga', 'penalty': 'elasticnet', 'm...         0.890750\n",
       "5  {'solver': 'liblinear', 'penalty': 'l1', 'max_...         0.890875\n",
       "6  {'solver': 'liblinear', 'penalty': 'l1', 'max_...         0.890750\n",
       "7  {'solver': 'liblinear', 'penalty': 'l1', 'max_...         0.893250\n",
       "8  {'solver': 'liblinear', 'penalty': 'l1', 'max_...         0.888750\n",
       "9  {'solver': 'saga', 'penalty': 'elasticnet', 'm...         0.890875"
      ]
     },
     "execution_count": 38,
     "metadata": {},
     "output_type": "execute_result"
    }
   ],
   "source": [
    "pd.DataFrame({'params':rgs.cv_results_['params'], 'mean_test_score':rgs.cv_results_['mean_test_score']})"
   ]
  },
  {
   "cell_type": "code",
   "execution_count": 39,
   "id": "999c325b",
   "metadata": {},
   "outputs": [
    {
     "data": {
      "text/plain": [
       "0.894"
      ]
     },
     "execution_count": 39,
     "metadata": {},
     "output_type": "execute_result"
    }
   ],
   "source": [
    "accuracy = gs_list.score(X_test, y_test)\n",
    "accuracy"
   ]
  },
  {
   "cell_type": "code",
   "execution_count": 40,
   "id": "7014ede6",
   "metadata": {},
   "outputs": [
    {
     "data": {
      "text/plain": [
       "0.8928210313447926"
      ]
     },
     "execution_count": 40,
     "metadata": {},
     "output_type": "execute_result"
    }
   ],
   "source": [
    "y_test_pred = gs_list.predict(X_test)\n",
    "f1 = metrics.f1_score(y_test, y_test_pred)\n",
    "f1"
   ]
  },
  {
   "cell_type": "markdown",
   "id": "5e3298c0-3e48-44d7-b0aa-cf673e7fd658",
   "metadata": {},
   "source": [
    "# Задания для самостоятельного выполнения:"
   ]
  },
  {
   "cell_type": "markdown",
   "id": "8ed206e0-5323-48f8-bcce-1027782ec8d9",
   "metadata": {},
   "source": [
    "### 1. Загрузите встроенный датасет `load_iris`. Обозначьте признаки за `X`, а целевую переменную за `y`. Выведите первые 5 строк в виде датафрейма. "
   ]
  },
  {
   "cell_type": "code",
   "execution_count": 41,
   "id": "a280749c-9a9b-4b9d-9a77-b95e9be4312b",
   "metadata": {},
   "outputs": [],
   "source": [
    "iris = datasets.load_iris()\n",
    "X = iris.data\n",
    "y = iris.target"
   ]
  },
  {
   "cell_type": "code",
   "execution_count": 42,
   "id": "5a6222aa",
   "metadata": {},
   "outputs": [
    {
     "data": {
      "text/html": [
       "<div>\n",
       "<style scoped>\n",
       "    .dataframe tbody tr th:only-of-type {\n",
       "        vertical-align: middle;\n",
       "    }\n",
       "\n",
       "    .dataframe tbody tr th {\n",
       "        vertical-align: top;\n",
       "    }\n",
       "\n",
       "    .dataframe thead th {\n",
       "        text-align: right;\n",
       "    }\n",
       "</style>\n",
       "<table border=\"1\" class=\"dataframe\">\n",
       "  <thead>\n",
       "    <tr style=\"text-align: right;\">\n",
       "      <th></th>\n",
       "      <th>sepal length (cm)</th>\n",
       "      <th>sepal width (cm)</th>\n",
       "      <th>petal length (cm)</th>\n",
       "      <th>petal width (cm)</th>\n",
       "    </tr>\n",
       "  </thead>\n",
       "  <tbody>\n",
       "    <tr>\n",
       "      <th>0</th>\n",
       "      <td>5.1</td>\n",
       "      <td>3.5</td>\n",
       "      <td>1.4</td>\n",
       "      <td>0.2</td>\n",
       "    </tr>\n",
       "    <tr>\n",
       "      <th>1</th>\n",
       "      <td>4.9</td>\n",
       "      <td>3.0</td>\n",
       "      <td>1.4</td>\n",
       "      <td>0.2</td>\n",
       "    </tr>\n",
       "    <tr>\n",
       "      <th>2</th>\n",
       "      <td>4.7</td>\n",
       "      <td>3.2</td>\n",
       "      <td>1.3</td>\n",
       "      <td>0.2</td>\n",
       "    </tr>\n",
       "    <tr>\n",
       "      <th>3</th>\n",
       "      <td>4.6</td>\n",
       "      <td>3.1</td>\n",
       "      <td>1.5</td>\n",
       "      <td>0.2</td>\n",
       "    </tr>\n",
       "    <tr>\n",
       "      <th>4</th>\n",
       "      <td>5.0</td>\n",
       "      <td>3.6</td>\n",
       "      <td>1.4</td>\n",
       "      <td>0.2</td>\n",
       "    </tr>\n",
       "    <tr>\n",
       "      <th>...</th>\n",
       "      <td>...</td>\n",
       "      <td>...</td>\n",
       "      <td>...</td>\n",
       "      <td>...</td>\n",
       "    </tr>\n",
       "    <tr>\n",
       "      <th>145</th>\n",
       "      <td>6.7</td>\n",
       "      <td>3.0</td>\n",
       "      <td>5.2</td>\n",
       "      <td>2.3</td>\n",
       "    </tr>\n",
       "    <tr>\n",
       "      <th>146</th>\n",
       "      <td>6.3</td>\n",
       "      <td>2.5</td>\n",
       "      <td>5.0</td>\n",
       "      <td>1.9</td>\n",
       "    </tr>\n",
       "    <tr>\n",
       "      <th>147</th>\n",
       "      <td>6.5</td>\n",
       "      <td>3.0</td>\n",
       "      <td>5.2</td>\n",
       "      <td>2.0</td>\n",
       "    </tr>\n",
       "    <tr>\n",
       "      <th>148</th>\n",
       "      <td>6.2</td>\n",
       "      <td>3.4</td>\n",
       "      <td>5.4</td>\n",
       "      <td>2.3</td>\n",
       "    </tr>\n",
       "    <tr>\n",
       "      <th>149</th>\n",
       "      <td>5.9</td>\n",
       "      <td>3.0</td>\n",
       "      <td>5.1</td>\n",
       "      <td>1.8</td>\n",
       "    </tr>\n",
       "  </tbody>\n",
       "</table>\n",
       "<p>150 rows × 4 columns</p>\n",
       "</div>"
      ],
      "text/plain": [
       "     sepal length (cm)  sepal width (cm)  petal length (cm)  petal width (cm)\n",
       "0                  5.1               3.5                1.4               0.2\n",
       "1                  4.9               3.0                1.4               0.2\n",
       "2                  4.7               3.2                1.3               0.2\n",
       "3                  4.6               3.1                1.5               0.2\n",
       "4                  5.0               3.6                1.4               0.2\n",
       "..                 ...               ...                ...               ...\n",
       "145                6.7               3.0                5.2               2.3\n",
       "146                6.3               2.5                5.0               1.9\n",
       "147                6.5               3.0                5.2               2.0\n",
       "148                6.2               3.4                5.4               2.3\n",
       "149                5.9               3.0                5.1               1.8\n",
       "\n",
       "[150 rows x 4 columns]"
      ]
     },
     "execution_count": 42,
     "metadata": {},
     "output_type": "execute_result"
    }
   ],
   "source": [
    "pd.DataFrame(data=iris.data, columns=iris.feature_names)"
   ]
  },
  {
   "cell_type": "markdown",
   "id": "a61739bd-335a-4f9c-907f-9446440af98a",
   "metadata": {},
   "source": [
    "### 2. Разделите данные на обучающую и тестовую части. В тестовую часть отправьте 15% объектов и зафиксируйте способ перемешивания данных random_state=0. Выведите размеры обучающей и тестовой частей."
   ]
  },
  {
   "cell_type": "code",
   "execution_count": 43,
   "id": "eae936a2-7818-444e-95ee-35992cc7af9e",
   "metadata": {},
   "outputs": [],
   "source": [
    "X_train, X_test, y_train, y_test = train_test_split(X, y, test_size=0.15, random_state=0)"
   ]
  },
  {
   "cell_type": "code",
   "execution_count": 44,
   "id": "d5491bd0",
   "metadata": {},
   "outputs": [
    {
     "data": {
      "text/plain": [
       "(127, 23)"
      ]
     },
     "execution_count": 44,
     "metadata": {},
     "output_type": "execute_result"
    }
   ],
   "source": [
    "X_train.shape[0], X_test.shape[0]"
   ]
  },
  {
   "cell_type": "markdown",
   "id": "1012e2cd-d51d-46ba-be7d-0b8d11383c24",
   "metadata": {},
   "source": [
    "### 3. Для датасета load_iris осуществите классификацию методом логистической регрессии, создав класс LogisticRegression(max_iter = 1000). Выведите значения гиперпараметров этой модели, установленные по умолчанию. Обучите эту модель, сделайте предсказание. Оцените качество модели, выведя значения метрик accuracy и f1-score."
   ]
  },
  {
   "cell_type": "code",
   "execution_count": 45,
   "id": "90040f46-c25d-4e89-8294-8d2d2b1f6196",
   "metadata": {},
   "outputs": [
    {
     "data": {
      "text/plain": [
       "{'C': 1.0,\n",
       " 'class_weight': None,\n",
       " 'dual': False,\n",
       " 'fit_intercept': True,\n",
       " 'intercept_scaling': 1,\n",
       " 'l1_ratio': None,\n",
       " 'max_iter': 1000,\n",
       " 'multi_class': 'auto',\n",
       " 'n_jobs': None,\n",
       " 'penalty': 'l2',\n",
       " 'random_state': None,\n",
       " 'solver': 'lbfgs',\n",
       " 'tol': 0.0001,\n",
       " 'verbose': 0,\n",
       " 'warm_start': False}"
      ]
     },
     "execution_count": 45,
     "metadata": {},
     "output_type": "execute_result"
    }
   ],
   "source": [
    "model = LogisticRegression(max_iter=1000)\n",
    "model.get_params()"
   ]
  },
  {
   "cell_type": "code",
   "execution_count": 46,
   "id": "2e181d82",
   "metadata": {},
   "outputs": [
    {
     "data": {
      "text/plain": [
       "(1.0, 1.0)"
      ]
     },
     "execution_count": 46,
     "metadata": {},
     "output_type": "execute_result"
    }
   ],
   "source": [
    "model.fit(X_train, y_train)\n",
    "y_pred = model.predict(X_test)\n",
    "accuracy = metrics.accuracy_score(y_test, y_pred)\n",
    "f1 = metrics.f1_score(y_test, y_pred, average='macro')\n",
    "accuracy, f1"
   ]
  },
  {
   "cell_type": "markdown",
   "id": "bcf7657f-bf98-4ce3-a090-68e3710e1e4c",
   "metadata": {},
   "source": [
    "### 4. Оптимизируйте гиперпараметры, используя следующие наборы гиперпараметров: param_grid = [{'solver': ['lbfgs', 'newton-cg'],'penalty': ['l2']}, {'C': np.logspace(0,4,10), 'penalty': ['l2', 'l1'], 'solver': ['liblinear']}, {'C': np.logspace(0,4,10), 'penalty': ['l2'], 'solver': ['lbfgs', 'newton-cg']},] по метрике accuracy. Реализуйте поиск лучших гиперпараметров с перекрёстной проверкой, используя класс GridSearchCV. Выведете результаты поиска в виде датафрейма, состоящего из двух колонок: в первой колонке все перебираемые сочитания гиперпараметров, а во второй соответствующие им средние значения метрики accuracy. Выведите значения лучших гиперпараметров."
   ]
  },
  {
   "cell_type": "code",
   "execution_count": 47,
   "id": "66e408a4-5b20-4a39-844e-d527f2455704",
   "metadata": {},
   "outputs": [
    {
     "data": {
      "text/html": [
       "<style>#sk-container-id-5 {color: black;}#sk-container-id-5 pre{padding: 0;}#sk-container-id-5 div.sk-toggleable {background-color: white;}#sk-container-id-5 label.sk-toggleable__label {cursor: pointer;display: block;width: 100%;margin-bottom: 0;padding: 0.3em;box-sizing: border-box;text-align: center;}#sk-container-id-5 label.sk-toggleable__label-arrow:before {content: \"▸\";float: left;margin-right: 0.25em;color: #696969;}#sk-container-id-5 label.sk-toggleable__label-arrow:hover:before {color: black;}#sk-container-id-5 div.sk-estimator:hover label.sk-toggleable__label-arrow:before {color: black;}#sk-container-id-5 div.sk-toggleable__content {max-height: 0;max-width: 0;overflow: hidden;text-align: left;background-color: #f0f8ff;}#sk-container-id-5 div.sk-toggleable__content pre {margin: 0.2em;color: black;border-radius: 0.25em;background-color: #f0f8ff;}#sk-container-id-5 input.sk-toggleable__control:checked~div.sk-toggleable__content {max-height: 200px;max-width: 100%;overflow: auto;}#sk-container-id-5 input.sk-toggleable__control:checked~label.sk-toggleable__label-arrow:before {content: \"▾\";}#sk-container-id-5 div.sk-estimator input.sk-toggleable__control:checked~label.sk-toggleable__label {background-color: #d4ebff;}#sk-container-id-5 div.sk-label input.sk-toggleable__control:checked~label.sk-toggleable__label {background-color: #d4ebff;}#sk-container-id-5 input.sk-hidden--visually {border: 0;clip: rect(1px 1px 1px 1px);clip: rect(1px, 1px, 1px, 1px);height: 1px;margin: -1px;overflow: hidden;padding: 0;position: absolute;width: 1px;}#sk-container-id-5 div.sk-estimator {font-family: monospace;background-color: #f0f8ff;border: 1px dotted black;border-radius: 0.25em;box-sizing: border-box;margin-bottom: 0.5em;}#sk-container-id-5 div.sk-estimator:hover {background-color: #d4ebff;}#sk-container-id-5 div.sk-parallel-item::after {content: \"\";width: 100%;border-bottom: 1px solid gray;flex-grow: 1;}#sk-container-id-5 div.sk-label:hover label.sk-toggleable__label {background-color: #d4ebff;}#sk-container-id-5 div.sk-serial::before {content: \"\";position: absolute;border-left: 1px solid gray;box-sizing: border-box;top: 0;bottom: 0;left: 50%;z-index: 0;}#sk-container-id-5 div.sk-serial {display: flex;flex-direction: column;align-items: center;background-color: white;padding-right: 0.2em;padding-left: 0.2em;position: relative;}#sk-container-id-5 div.sk-item {position: relative;z-index: 1;}#sk-container-id-5 div.sk-parallel {display: flex;align-items: stretch;justify-content: center;background-color: white;position: relative;}#sk-container-id-5 div.sk-item::before, #sk-container-id-5 div.sk-parallel-item::before {content: \"\";position: absolute;border-left: 1px solid gray;box-sizing: border-box;top: 0;bottom: 0;left: 50%;z-index: -1;}#sk-container-id-5 div.sk-parallel-item {display: flex;flex-direction: column;z-index: 1;position: relative;background-color: white;}#sk-container-id-5 div.sk-parallel-item:first-child::after {align-self: flex-end;width: 50%;}#sk-container-id-5 div.sk-parallel-item:last-child::after {align-self: flex-start;width: 50%;}#sk-container-id-5 div.sk-parallel-item:only-child::after {width: 0;}#sk-container-id-5 div.sk-dashed-wrapped {border: 1px dashed gray;margin: 0 0.4em 0.5em 0.4em;box-sizing: border-box;padding-bottom: 0.4em;background-color: white;}#sk-container-id-5 div.sk-label label {font-family: monospace;font-weight: bold;display: inline-block;line-height: 1.2em;}#sk-container-id-5 div.sk-label-container {text-align: center;}#sk-container-id-5 div.sk-container {/* jupyter's `normalize.less` sets `[hidden] { display: none; }` but bootstrap.min.css set `[hidden] { display: none !important; }` so we also need the `!important` here to be able to override the default hidden behavior on the sphinx rendered scikit-learn.org. See: https://github.com/scikit-learn/scikit-learn/issues/21755 */display: inline-block !important;position: relative;}#sk-container-id-5 div.sk-text-repr-fallback {display: none;}</style><div id=\"sk-container-id-5\" class=\"sk-top-container\"><div class=\"sk-text-repr-fallback\"><pre>GridSearchCV(cv=5, estimator=LogisticRegression(max_iter=1000),\n",
       "             param_grid=[{&#x27;penalty&#x27;: [&#x27;l2&#x27;], &#x27;solver&#x27;: [&#x27;lbfgs&#x27;, &#x27;newton-cg&#x27;]},\n",
       "                         {&#x27;C&#x27;: array([1.00000000e+00, 2.78255940e+00, 7.74263683e+00, 2.15443469e+01,\n",
       "       5.99484250e+01, 1.66810054e+02, 4.64158883e+02, 1.29154967e+03,\n",
       "       3.59381366e+03, 1.00000000e+04]),\n",
       "                          &#x27;penalty&#x27;: [&#x27;l2&#x27;, &#x27;l1&#x27;], &#x27;solver&#x27;: [&#x27;liblinear&#x27;]},\n",
       "                         {&#x27;C&#x27;: array([1.00000000e+00, 2.78255940e+00, 7.74263683e+00, 2.15443469e+01,\n",
       "       5.99484250e+01, 1.66810054e+02, 4.64158883e+02, 1.29154967e+03,\n",
       "       3.59381366e+03, 1.00000000e+04]),\n",
       "                          &#x27;penalty&#x27;: [&#x27;l2&#x27;],\n",
       "                          &#x27;solver&#x27;: [&#x27;lbfgs&#x27;, &#x27;newton-cg&#x27;]}],\n",
       "             scoring=&#x27;accuracy&#x27;)</pre><b>In a Jupyter environment, please rerun this cell to show the HTML representation or trust the notebook. <br />On GitHub, the HTML representation is unable to render, please try loading this page with nbviewer.org.</b></div><div class=\"sk-container\" hidden><div class=\"sk-item sk-dashed-wrapped\"><div class=\"sk-label-container\"><div class=\"sk-label sk-toggleable\"><input class=\"sk-toggleable__control sk-hidden--visually\" id=\"sk-estimator-id-11\" type=\"checkbox\" ><label for=\"sk-estimator-id-11\" class=\"sk-toggleable__label sk-toggleable__label-arrow\">GridSearchCV</label><div class=\"sk-toggleable__content\"><pre>GridSearchCV(cv=5, estimator=LogisticRegression(max_iter=1000),\n",
       "             param_grid=[{&#x27;penalty&#x27;: [&#x27;l2&#x27;], &#x27;solver&#x27;: [&#x27;lbfgs&#x27;, &#x27;newton-cg&#x27;]},\n",
       "                         {&#x27;C&#x27;: array([1.00000000e+00, 2.78255940e+00, 7.74263683e+00, 2.15443469e+01,\n",
       "       5.99484250e+01, 1.66810054e+02, 4.64158883e+02, 1.29154967e+03,\n",
       "       3.59381366e+03, 1.00000000e+04]),\n",
       "                          &#x27;penalty&#x27;: [&#x27;l2&#x27;, &#x27;l1&#x27;], &#x27;solver&#x27;: [&#x27;liblinear&#x27;]},\n",
       "                         {&#x27;C&#x27;: array([1.00000000e+00, 2.78255940e+00, 7.74263683e+00, 2.15443469e+01,\n",
       "       5.99484250e+01, 1.66810054e+02, 4.64158883e+02, 1.29154967e+03,\n",
       "       3.59381366e+03, 1.00000000e+04]),\n",
       "                          &#x27;penalty&#x27;: [&#x27;l2&#x27;],\n",
       "                          &#x27;solver&#x27;: [&#x27;lbfgs&#x27;, &#x27;newton-cg&#x27;]}],\n",
       "             scoring=&#x27;accuracy&#x27;)</pre></div></div></div><div class=\"sk-parallel\"><div class=\"sk-parallel-item\"><div class=\"sk-item\"><div class=\"sk-label-container\"><div class=\"sk-label sk-toggleable\"><input class=\"sk-toggleable__control sk-hidden--visually\" id=\"sk-estimator-id-12\" type=\"checkbox\" ><label for=\"sk-estimator-id-12\" class=\"sk-toggleable__label sk-toggleable__label-arrow\">estimator: LogisticRegression</label><div class=\"sk-toggleable__content\"><pre>LogisticRegression(max_iter=1000)</pre></div></div></div><div class=\"sk-serial\"><div class=\"sk-item\"><div class=\"sk-estimator sk-toggleable\"><input class=\"sk-toggleable__control sk-hidden--visually\" id=\"sk-estimator-id-13\" type=\"checkbox\" ><label for=\"sk-estimator-id-13\" class=\"sk-toggleable__label sk-toggleable__label-arrow\">LogisticRegression</label><div class=\"sk-toggleable__content\"><pre>LogisticRegression(max_iter=1000)</pre></div></div></div></div></div></div></div></div></div></div>"
      ],
      "text/plain": [
       "GridSearchCV(cv=5, estimator=LogisticRegression(max_iter=1000),\n",
       "             param_grid=[{'penalty': ['l2'], 'solver': ['lbfgs', 'newton-cg']},\n",
       "                         {'C': array([1.00000000e+00, 2.78255940e+00, 7.74263683e+00, 2.15443469e+01,\n",
       "       5.99484250e+01, 1.66810054e+02, 4.64158883e+02, 1.29154967e+03,\n",
       "       3.59381366e+03, 1.00000000e+04]),\n",
       "                          'penalty': ['l2', 'l1'], 'solver': ['liblinear']},\n",
       "                         {'C': array([1.00000000e+00, 2.78255940e+00, 7.74263683e+00, 2.15443469e+01,\n",
       "       5.99484250e+01, 1.66810054e+02, 4.64158883e+02, 1.29154967e+03,\n",
       "       3.59381366e+03, 1.00000000e+04]),\n",
       "                          'penalty': ['l2'],\n",
       "                          'solver': ['lbfgs', 'newton-cg']}],\n",
       "             scoring='accuracy')"
      ]
     },
     "execution_count": 47,
     "metadata": {},
     "output_type": "execute_result"
    }
   ],
   "source": [
    "param_grid = [\n",
    "    {'solver': ['lbfgs', 'newton-cg'], 'penalty': ['l2']},\n",
    "    {'C': np.logspace(0, 4, 10), 'penalty': ['l2', 'l1'], 'solver': ['liblinear']},\n",
    "    {'C': np.logspace(0, 4, 10), 'penalty': ['l2'], 'solver': ['lbfgs', 'newton-cg']}]\n",
    "\n",
    "gs = GridSearchCV(\n",
    "    estimator=LogisticRegression(max_iter=1000),\n",
    "    param_grid=param_grid,\n",
    "    scoring='accuracy',\n",
    "    cv=5)\n",
    "\n",
    "gs.fit(X_train, y_train)"
   ]
  },
  {
   "cell_type": "code",
   "execution_count": 48,
   "id": "9f589991",
   "metadata": {},
   "outputs": [
    {
     "data": {
      "text/html": [
       "<div>\n",
       "<style scoped>\n",
       "    .dataframe tbody tr th:only-of-type {\n",
       "        vertical-align: middle;\n",
       "    }\n",
       "\n",
       "    .dataframe tbody tr th {\n",
       "        vertical-align: top;\n",
       "    }\n",
       "\n",
       "    .dataframe thead th {\n",
       "        text-align: right;\n",
       "    }\n",
       "</style>\n",
       "<table border=\"1\" class=\"dataframe\">\n",
       "  <thead>\n",
       "    <tr style=\"text-align: right;\">\n",
       "      <th></th>\n",
       "      <th>params</th>\n",
       "      <th>mean_test_score</th>\n",
       "    </tr>\n",
       "  </thead>\n",
       "  <tbody>\n",
       "    <tr>\n",
       "      <th>0</th>\n",
       "      <td>{'solver': 'saga', 'penalty': 'elasticnet', 'm...</td>\n",
       "      <td>0.890750</td>\n",
       "    </tr>\n",
       "    <tr>\n",
       "      <th>1</th>\n",
       "      <td>{'solver': 'liblinear', 'penalty': 'l2', 'max_...</td>\n",
       "      <td>0.890875</td>\n",
       "    </tr>\n",
       "    <tr>\n",
       "      <th>2</th>\n",
       "      <td>{'solver': 'liblinear', 'penalty': 'l2', 'max_...</td>\n",
       "      <td>0.891875</td>\n",
       "    </tr>\n",
       "    <tr>\n",
       "      <th>3</th>\n",
       "      <td>{'solver': 'liblinear', 'penalty': 'l2', 'max_...</td>\n",
       "      <td>0.890875</td>\n",
       "    </tr>\n",
       "    <tr>\n",
       "      <th>4</th>\n",
       "      <td>{'solver': 'saga', 'penalty': 'elasticnet', 'm...</td>\n",
       "      <td>0.890750</td>\n",
       "    </tr>\n",
       "    <tr>\n",
       "      <th>5</th>\n",
       "      <td>{'solver': 'liblinear', 'penalty': 'l1', 'max_...</td>\n",
       "      <td>0.890875</td>\n",
       "    </tr>\n",
       "    <tr>\n",
       "      <th>6</th>\n",
       "      <td>{'solver': 'liblinear', 'penalty': 'l1', 'max_...</td>\n",
       "      <td>0.890750</td>\n",
       "    </tr>\n",
       "    <tr>\n",
       "      <th>7</th>\n",
       "      <td>{'solver': 'liblinear', 'penalty': 'l1', 'max_...</td>\n",
       "      <td>0.893250</td>\n",
       "    </tr>\n",
       "    <tr>\n",
       "      <th>8</th>\n",
       "      <td>{'solver': 'liblinear', 'penalty': 'l1', 'max_...</td>\n",
       "      <td>0.888750</td>\n",
       "    </tr>\n",
       "    <tr>\n",
       "      <th>9</th>\n",
       "      <td>{'solver': 'saga', 'penalty': 'elasticnet', 'm...</td>\n",
       "      <td>0.890875</td>\n",
       "    </tr>\n",
       "  </tbody>\n",
       "</table>\n",
       "</div>"
      ],
      "text/plain": [
       "                                              params  mean_test_score\n",
       "0  {'solver': 'saga', 'penalty': 'elasticnet', 'm...         0.890750\n",
       "1  {'solver': 'liblinear', 'penalty': 'l2', 'max_...         0.890875\n",
       "2  {'solver': 'liblinear', 'penalty': 'l2', 'max_...         0.891875\n",
       "3  {'solver': 'liblinear', 'penalty': 'l2', 'max_...         0.890875\n",
       "4  {'solver': 'saga', 'penalty': 'elasticnet', 'm...         0.890750\n",
       "5  {'solver': 'liblinear', 'penalty': 'l1', 'max_...         0.890875\n",
       "6  {'solver': 'liblinear', 'penalty': 'l1', 'max_...         0.890750\n",
       "7  {'solver': 'liblinear', 'penalty': 'l1', 'max_...         0.893250\n",
       "8  {'solver': 'liblinear', 'penalty': 'l1', 'max_...         0.888750\n",
       "9  {'solver': 'saga', 'penalty': 'elasticnet', 'm...         0.890875"
      ]
     },
     "execution_count": 48,
     "metadata": {},
     "output_type": "execute_result"
    }
   ],
   "source": [
    "pd.DataFrame({'params':rgs.cv_results_['params'], 'mean_test_score':rgs.cv_results_['mean_test_score']})"
   ]
  },
  {
   "cell_type": "code",
   "execution_count": 49,
   "id": "da4b19af",
   "metadata": {},
   "outputs": [
    {
     "data": {
      "text/plain": [
       "{'C': 21.544346900318832, 'penalty': 'l1', 'solver': 'liblinear'}"
      ]
     },
     "execution_count": 49,
     "metadata": {},
     "output_type": "execute_result"
    }
   ],
   "source": [
    "gs.best_params_"
   ]
  },
  {
   "cell_type": "markdown",
   "id": "8ca363ae-7680-4f8b-a3d0-f175c0e899ae",
   "metadata": {},
   "source": [
    "### 5. Выведите значение метрики accuracy на тестовых данных. Cделайте предсказание для лучшей модели и выведите метрику f1-score. Сравните полученные метрики с метриками, полученными без оптимизации гиперпараметров."
   ]
  },
  {
   "cell_type": "code",
   "execution_count": 50,
   "id": "df581871",
   "metadata": {},
   "outputs": [
    {
     "data": {
      "text/plain": [
       "(0.9565217391304348, 0.9550514597773576)"
      ]
     },
     "execution_count": 50,
     "metadata": {},
     "output_type": "execute_result"
    }
   ],
   "source": [
    "best_model = gs.best_estimator_\n",
    "y_pred = best_model.predict(X_test)\n",
    "\n",
    "accuracy = metrics.accuracy_score(y_test, y_pred)\n",
    "f1 = metrics.f1_score(y_test, y_pred, average='weighted')\n",
    "accuracy, f1"
   ]
  },
  {
   "cell_type": "markdown",
   "id": "d8681393-af1f-430f-9f2b-0c98cb46f038",
   "metadata": {},
   "source": [
    "### 6. Осуществите рандомизированный решетчатый поиск лучших гиперпараметров по метрике accuracy для той же самой сетки гиперпараметров. "
   ]
  },
  {
   "cell_type": "code",
   "execution_count": 51,
   "id": "57c6cad7-0599-4820-89dc-615f8eb15703",
   "metadata": {},
   "outputs": [
    {
     "data": {
      "text/plain": [
       "{'solver': 'liblinear', 'penalty': 'l1', 'C': 166.81005372000593}"
      ]
     },
     "execution_count": 51,
     "metadata": {},
     "output_type": "execute_result"
    }
   ],
   "source": [
    "rgs_accuracy = RandomizedSearchCV(\n",
    "    estimator=LogisticRegression(max_iter=1000),\n",
    "    param_distributions=param_grid,\n",
    "    scoring='accuracy',\n",
    "    cv=5,\n",
    "    random_state=42)\n",
    "\n",
    "rgs_accuracy.fit(X_train, y_train)\n",
    "rgs_accuracy.best_params_"
   ]
  },
  {
   "cell_type": "markdown",
   "id": "2b9156d1-c13f-4b6b-9bd3-79f5ffd64a6c",
   "metadata": {},
   "source": [
    "### 7. Осуществите решетчатый поиск лучших гиперпараметров по метрике f1 для той же самой сетки гиперпараметров. "
   ]
  },
  {
   "cell_type": "code",
   "execution_count": 52,
   "id": "3de9068c-208b-48d0-8e35-b7667ab543ef",
   "metadata": {},
   "outputs": [
    {
     "data": {
      "text/plain": [
       "{'C': 21.544346900318832, 'penalty': 'l1', 'solver': 'liblinear'}"
      ]
     },
     "execution_count": 52,
     "metadata": {},
     "output_type": "execute_result"
    }
   ],
   "source": [
    "rgs_f1 = GridSearchCV(\n",
    "    estimator=LogisticRegression(max_iter=1000),\n",
    "    param_grid=param_grid,\n",
    "    scoring='f1_weighted',\n",
    "    cv=5)\n",
    "\n",
    "rgs_f1.fit(X_train, y_train)\n",
    "rgs_f1.best_params_"
   ]
  },
  {
   "cell_type": "code",
   "execution_count": null,
   "id": "ef0d4c64",
   "metadata": {},
   "outputs": [],
   "source": []
  }
 ],
 "metadata": {
  "kernelspec": {
   "display_name": "Python 3 (ipykernel)",
   "language": "python",
   "name": "python3"
  },
  "language_info": {
   "codemirror_mode": {
    "name": "ipython",
    "version": 3
   },
   "file_extension": ".py",
   "mimetype": "text/x-python",
   "name": "python",
   "nbconvert_exporter": "python",
   "pygments_lexer": "ipython3",
   "version": "3.11.4"
  }
 },
 "nbformat": 4,
 "nbformat_minor": 5
}
