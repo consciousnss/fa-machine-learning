{
 "cells": [
  {
   "cell_type": "markdown",
   "metadata": {},
   "source": [
    "## Семинар 7\n",
    "\n",
    "# Тема: Полиномиальная регрессия"
   ]
  },
  {
   "cell_type": "markdown",
   "metadata": {},
   "source": [
    "Нелинейные зависимости в данных встречаются намного чаще линейных. Можно применять линейную модель для подгонки к нелинейным данным. Нужно добавить степени каждого признака в виде новых признаков и далее обучить линейную модель на этом расширенном наборе признаков. Такой прием и называется полиномиальной регрессией. \n",
    "\n",
    "1. Полином 2-ой степени $\\hat y = w_0 + w_1 {x} + w_2 {x^2}$ тоже самое, что линия регрессии для двух призаков $\\hat y = w_0 + w_1 {x}_{1} + w_2 {x}_{2}$, где $x_1 = x, x_2 = x^2$.\n",
    "\n",
    "2. Полином 2-ой степени для двух признаков $\\hat y = w_0 + w_1 {x_1} + w_2 {x_2} + w_3 {x_1}^2 + w_4 {x_1}{x_2}  + w_5 {x_2}^2$ тоже самое, что линейная регрессия для 5 призаков $\\hat y = w_0 + w_1 {x}_{1} + w_2 {x}_{2} + w_3 {x}_{3} + w_4 {x}_{4} + w_5 {x}_{5}$, где \n",
    "$x_1 = x_1, x_2 = x_2, x_3 = {x_1}^2, x_4 = x_1 x_2, x_5 = {x_2}^2$."
   ]
  },
  {
   "cell_type": "markdown",
   "metadata": {},
   "source": [
    "Импортируем необходимые библиотеки:"
   ]
  },
  {
   "cell_type": "code",
   "metadata": {
    "ExecuteTime": {
     "end_time": "2024-10-23T13:10:51.307185Z",
     "start_time": "2024-10-23T13:10:41.080407Z"
    }
   },
   "source": [
    "import numpy as np\n",
    "import pandas as pd\n",
    "import matplotlib.pyplot as plt\n",
    "from sklearn.datasets import make_regression, fetch_california_housing\n",
    "from sklearn.linear_model import LinearRegression\n",
    "from sklearn.metrics import r2_score, mean_absolute_error, mean_squared_error\n",
    "from sklearn.model_selection import train_test_split\n",
    "import time\n",
    "from sklearn.pipeline import Pipeline\n",
    "\n",
    "from sklearn.preprocessing import PolynomialFeatures"
   ],
   "outputs": [],
   "execution_count": 1
  },
  {
   "cell_type": "markdown",
   "metadata": {},
   "source": [
    "### **Задание**: Для обучающей и тестовой частей сгенерированных данных, имеющих два признака и сто наблюдений, получите полиномиальные данные 2 степени, используя PolynomialFeatures."
   ]
  },
  {
   "cell_type": "markdown",
   "metadata": {},
   "source": [
    "Генерируем данные, имеющие 2 признака и 100 наблюдений:"
   ]
  },
  {
   "cell_type": "code",
   "metadata": {
    "ExecuteTime": {
     "end_time": "2024-10-23T13:10:54.545637Z",
     "start_time": "2024-10-23T13:10:54.512474Z"
    }
   },
   "source": [
    "X, y = make_regression(n_samples=100, n_features=2, random_state=42)"
   ],
   "outputs": [],
   "execution_count": 2
  },
  {
   "cell_type": "markdown",
   "metadata": {},
   "source": [
    "Разделяем их на обучающую и тестовую части:"
   ]
  },
  {
   "cell_type": "code",
   "metadata": {
    "ExecuteTime": {
     "end_time": "2024-10-23T13:11:01.188372Z",
     "start_time": "2024-10-23T13:11:01.176712Z"
    }
   },
   "source": "X_train, X_test, y_train, y_test = train_test_split(X, y, test_size=0.25, random_state=0)",
   "outputs": [],
   "execution_count": 3
  },
  {
   "cell_type": "markdown",
   "metadata": {},
   "source": [
    "Из обучающих данных получим полиномиальные данные 2 степени, т.е. к имеющимся признакам добавим столбцы признаков степени 2. Тестовые данные преобразуем аналогичным образом."
   ]
  },
  {
   "cell_type": "code",
   "metadata": {
    "ExecuteTime": {
     "end_time": "2024-10-23T13:11:16.423730Z",
     "start_time": "2024-10-23T13:11:16.411275Z"
    }
   },
   "source": [
    "poly = PolynomialFeatures(degree=2, include_bias=False)\n",
    "X_poly_train = poly.fit_transform(X_train)\n",
    "X_poly_test = poly.transform(X_test)"
   ],
   "outputs": [],
   "execution_count": 4
  },
  {
   "cell_type": "markdown",
   "metadata": {},
   "source": [
    "Запишем, полученные полиномиальные обучающие данные в датафрейм:"
   ]
  },
  {
   "cell_type": "code",
   "metadata": {
    "ExecuteTime": {
     "end_time": "2024-10-23T13:14:41.700750Z",
     "start_time": "2024-10-23T13:14:41.637752Z"
    }
   },
   "source": "pd.DataFrame(X_poly_train, columns=['$x_1$', '$x_2$', '$x_1^2$', '$x_1 x_2$', '$x_2^2$']).head()",
   "outputs": [
    {
     "data": {
      "text/plain": [
       "      $x_1$     $x_2$   $x_1^2$  $x_1 x_2$   $x_2^2$\n",
       "0 -0.783253 -0.322062  0.613486   0.252256  0.103724\n",
       "1  0.963376  0.412781  0.928094   0.397663  0.170388\n",
       "2  0.812526  1.356240  0.660198   1.101980  1.839387\n",
       "3 -1.328186  0.196861  1.764078  -0.261468  0.038754\n",
       "4 -0.600639 -0.291694  0.360767   0.175203  0.085085"
      ],
      "text/html": [
       "<div>\n",
       "<style scoped>\n",
       "    .dataframe tbody tr th:only-of-type {\n",
       "        vertical-align: middle;\n",
       "    }\n",
       "\n",
       "    .dataframe tbody tr th {\n",
       "        vertical-align: top;\n",
       "    }\n",
       "\n",
       "    .dataframe thead th {\n",
       "        text-align: right;\n",
       "    }\n",
       "</style>\n",
       "<table border=\"1\" class=\"dataframe\">\n",
       "  <thead>\n",
       "    <tr style=\"text-align: right;\">\n",
       "      <th></th>\n",
       "      <th>$x_1$</th>\n",
       "      <th>$x_2$</th>\n",
       "      <th>$x_1^2$</th>\n",
       "      <th>$x_1 x_2$</th>\n",
       "      <th>$x_2^2$</th>\n",
       "    </tr>\n",
       "  </thead>\n",
       "  <tbody>\n",
       "    <tr>\n",
       "      <th>0</th>\n",
       "      <td>-0.783253</td>\n",
       "      <td>-0.322062</td>\n",
       "      <td>0.613486</td>\n",
       "      <td>0.252256</td>\n",
       "      <td>0.103724</td>\n",
       "    </tr>\n",
       "    <tr>\n",
       "      <th>1</th>\n",
       "      <td>0.963376</td>\n",
       "      <td>0.412781</td>\n",
       "      <td>0.928094</td>\n",
       "      <td>0.397663</td>\n",
       "      <td>0.170388</td>\n",
       "    </tr>\n",
       "    <tr>\n",
       "      <th>2</th>\n",
       "      <td>0.812526</td>\n",
       "      <td>1.356240</td>\n",
       "      <td>0.660198</td>\n",
       "      <td>1.101980</td>\n",
       "      <td>1.839387</td>\n",
       "    </tr>\n",
       "    <tr>\n",
       "      <th>3</th>\n",
       "      <td>-1.328186</td>\n",
       "      <td>0.196861</td>\n",
       "      <td>1.764078</td>\n",
       "      <td>-0.261468</td>\n",
       "      <td>0.038754</td>\n",
       "    </tr>\n",
       "    <tr>\n",
       "      <th>4</th>\n",
       "      <td>-0.600639</td>\n",
       "      <td>-0.291694</td>\n",
       "      <td>0.360767</td>\n",
       "      <td>0.175203</td>\n",
       "      <td>0.085085</td>\n",
       "    </tr>\n",
       "  </tbody>\n",
       "</table>\n",
       "</div>"
      ]
     },
     "execution_count": 5,
     "metadata": {},
     "output_type": "execute_result"
    }
   ],
   "execution_count": 5
  },
  {
   "cell_type": "markdown",
   "metadata": {},
   "source": [
    "# Задания для выполнения:"
   ]
  },
  {
   "cell_type": "markdown",
   "metadata": {},
   "source": [
    "### 1. Сгенерируйте данные и значения целевой переменной для задачи регрессии с 1 признаком и 100 наблюдениями, как шум квадратичной функции $y = (x - 3)^2$ на промежутке от 0 до 7. Визуализируйте сгенерироавнные данные на диаграмме рассеивания."
   ]
  },
  {
   "cell_type": "raw",
   "metadata": {},
   "source": [
    "Указание: np.random.seed(42)\n",
    "        m = 100\n",
    "        X = 7*np.random.rand(m, 1)\n",
    "        y = (X[:,0] - 3)**2 + np.random.randn(m)"
   ]
  },
  {
   "cell_type": "code",
   "metadata": {
    "ExecuteTime": {
     "end_time": "2024-10-23T13:18:20.851109Z",
     "start_time": "2024-10-23T13:18:20.816402Z"
    }
   },
   "source": [
    "np.random.seed(42)\n",
    "m = 100\n",
    "X = 7 * np.random.rand(m, 1)\n",
    "y = (X[:, 0] - 3) ** 2 + np.random.randn(m)"
   ],
   "outputs": [],
   "execution_count": 6
  },
  {
   "metadata": {
    "ExecuteTime": {
     "end_time": "2024-10-23T13:21:17.943790Z",
     "start_time": "2024-10-23T13:21:17.230186Z"
    }
   },
   "cell_type": "code",
   "source": [
    "plt.scatter(X, y)\n",
    "plt.title('диаграмма рассеивания')\n",
    "plt.xlabel('X')\n",
    "plt.ylabel('y')\n",
    "\n",
    "plt.show()"
   ],
   "outputs": [
    {
     "data": {
      "text/plain": [
       "<Figure size 640x480 with 1 Axes>"
      ],
      "image/png": "[encoded data removed]"
     },
     "metadata": {},
     "output_type": "display_data"
    }
   ],
   "execution_count": 7
  },
  {
   "cell_type": "markdown",
   "metadata": {},
   "source": [
    "### 2. Разделите данные на обучающую и тестовую части в соотношении 3:1, зафиксировав random_state=0. Выведите их размеры. Визуализируйте данные на диаграмме рассеивания, подкрасив обучающую и тестовую части разным цветом."
   ]
  },
  {
   "cell_type": "code",
   "metadata": {
    "ExecuteTime": {
     "end_time": "2024-10-23T13:23:08.615041Z",
     "start_time": "2024-10-23T13:23:08.593215Z"
    }
   },
   "source": "X_train, X_test, y_train, y_test = train_test_split(X, y, test_size=0.25, random_state=0)",
   "outputs": [],
   "execution_count": 8
  },
  {
   "metadata": {
    "ExecuteTime": {
     "end_time": "2024-10-23T13:24:55.719306Z",
     "start_time": "2024-10-23T13:24:55.697908Z"
    }
   },
   "cell_type": "code",
   "source": "X_train.shape[0]",
   "outputs": [
    {
     "data": {
      "text/plain": [
       "75"
      ]
     },
     "execution_count": 9,
     "metadata": {},
     "output_type": "execute_result"
    }
   ],
   "execution_count": 9
  },
  {
   "metadata": {
    "ExecuteTime": {
     "end_time": "2024-10-23T13:25:14.077787Z",
     "start_time": "2024-10-23T13:25:14.063899Z"
    }
   },
   "cell_type": "code",
   "source": "X_test.shape[0]",
   "outputs": [
    {
     "data": {
      "text/plain": [
       "25"
      ]
     },
     "execution_count": 10,
     "metadata": {},
     "output_type": "execute_result"
    }
   ],
   "execution_count": 10
  },
  {
   "metadata": {
    "ExecuteTime": {
     "end_time": "2024-10-23T13:27:20.388894Z",
     "start_time": "2024-10-23T13:27:20.133793Z"
    }
   },
   "cell_type": "code",
   "source": [
    "plt.scatter(X_train, y_train, color='blue')\n",
    "plt.scatter(X_test, y_test, color='green')\n",
    "plt.title('диаграмма рассеивания')\n",
    "plt.xlabel('X')\n",
    "plt.ylabel('y')\n",
    "\n",
    "plt.show()"
   ],
   "outputs": [
    {
     "data": {
      "text/plain": [
       "<Figure size 640x480 with 1 Axes>"
      ],
      "image/png": "[encoded data removed]"
     },
     "metadata": {},
     "output_type": "display_data"
    }
   ],
   "execution_count": 11
  },
  {
   "cell_type": "markdown",
   "metadata": {},
   "source": [
    "### 3. Реализуйте модель линейной регрессии LinеarRegression на sklearn. Для этого создайте соответствующий экземпляр класса и обучите на обучающих данных. Выведите коэффициенты линии регрессии."
   ]
  },
  {
   "cell_type": "code",
   "execution_count": null,
   "metadata": {},
   "outputs": [],
   "source": []
  },
  {
   "cell_type": "markdown",
   "metadata": {},
   "source": [
    "### 4. Визуализируйте получившуюся линию регрессии на одном графике с диаграммой рассеивания тестовых данных. Сделайте вывод о качестве построенной модели."
   ]
  },
  {
   "cell_type": "code",
   "execution_count": null,
   "metadata": {},
   "outputs": [],
   "source": []
  },
  {
   "cell_type": "markdown",
   "metadata": {},
   "source": [
    "### 5. Сделайте предсказание на тестовых данных. Оцените качество работы построенной модели по метрикам: коэффициент детерминации и RMSE."
   ]
  },
  {
   "cell_type": "code",
   "execution_count": null,
   "metadata": {},
   "outputs": [],
   "source": []
  },
  {
   "cell_type": "markdown",
   "metadata": {},
   "source": [
    "### 6. Из обучающих данных X_train, получите полиномиальные данные 2 степени. Запишите, полученные полиномиальные обучающие данные в датафрейм с названиями колонок $x$ и $x^2$. Из тестовых данных X_test, получите полиномиальные тестовые данные аналогичным образом."
   ]
  },
  {
   "cell_type": "code",
   "execution_count": null,
   "metadata": {},
   "outputs": [],
   "source": []
  },
  {
   "cell_type": "markdown",
   "metadata": {},
   "source": [
    "### 7. Постойте полиномиальную модель регрессии, т.е. обучите модель линейной регрессии на полиномиальных данных. Выведите коэффициенты линии регрессии. "
   ]
  },
  {
   "cell_type": "code",
   "execution_count": null,
   "metadata": {},
   "outputs": [],
   "source": []
  },
  {
   "cell_type": "markdown",
   "metadata": {},
   "source": [
    "### 8. Визуализируйте совместно найденную гиперплоскость регрессии и пространственную диаграмму рассеивания тестовых данных. Поверните пространственный график на нужный угол так, чтобы было видно, что почти все точки \"укладываются\" на плоскость."
   ]
  },
  {
   "cell_type": "code",
   "execution_count": null,
   "metadata": {},
   "outputs": [],
   "source": []
  },
  {
   "cell_type": "markdown",
   "metadata": {},
   "source": [
    "### 9. Визуализируйте получившуюся квадратичную линию регрессии на одном графике с диаграммой рассеивания тестовых данных."
   ]
  },
  {
   "cell_type": "code",
   "execution_count": null,
   "metadata": {},
   "outputs": [],
   "source": []
  },
  {
   "cell_type": "markdown",
   "metadata": {},
   "source": [
    "### 10. Сделайте предсказание на тестовых данных для полиномиальной модели. Оцените качество по метрикам. Сравните с метриками, полученными для линейной модели."
   ]
  },
  {
   "cell_type": "code",
   "execution_count": null,
   "metadata": {},
   "outputs": [],
   "source": []
  },
  {
   "cell_type": "markdown",
   "metadata": {},
   "source": [
    "### 11. Сгенерируйте новые данные и значения целевой переменной для задачи регрессии с 2 признаками и 100 наблюдениями, как шум функции двух переменных $y = {x_1}^2 + {x_2}^2$ на квадрате $[-10;10]\\times[-10;10]$. Визуализируйте сгенерироавнные данные на пространственной диаграмме рассеивания."
   ]
  },
  {
   "cell_type": "raw",
   "metadata": {},
   "source": [
    "Указание: np.random.seed(42)\n",
    "          m = 100\n",
    "          X = np.hstack([20*np.random.rand(m, 1) - 10, -20*np.random.rand(m, 1) + 10])\n",
    "          y = X[:, 0]**2 +  X[:, 1]**2 + np.random.randn(m)"
   ]
  },
  {
   "cell_type": "code",
   "execution_count": null,
   "metadata": {},
   "outputs": [],
   "source": []
  },
  {
   "cell_type": "markdown",
   "metadata": {},
   "source": [
    "### 12. Разделите данные на обучающую и тестовую части в соотношении 3:1, зафиксировав, random_state=0. Выведите их размеры. Визуализируйте данные на пространственной диаграмме рассеивания, подкрасив обучающую и тестовую части разным цветом."
   ]
  },
  {
   "cell_type": "code",
   "execution_count": null,
   "metadata": {},
   "outputs": [],
   "source": []
  },
  {
   "cell_type": "markdown",
   "metadata": {},
   "source": [
    "### 13.  Из щбучающих данных X_train, получите полиномиальные данные 2 степени. Запишите, полученные полиномиальные обучающие данные в датафрейм с названиями колонок $x_1$, $x_2$, ${x_1}^2$, $x_1 x_2$ и ${x_2}^2$. Из тестовых данных X_test, получите полиномиальные тестовые данные аналогичным образом."
   ]
  },
  {
   "cell_type": "code",
   "execution_count": null,
   "metadata": {},
   "outputs": [],
   "source": []
  },
  {
   "cell_type": "markdown",
   "metadata": {},
   "source": [
    "### 14. Постойте полиномиальную модель регрессии, т.е. обучите модель линейной регрессии на полиномиальных данных. Выведите коэффициенты линии регрессии. "
   ]
  },
  {
   "cell_type": "code",
   "execution_count": null,
   "metadata": {},
   "outputs": [],
   "source": []
  },
  {
   "cell_type": "markdown",
   "metadata": {},
   "source": [
    "### 15.Визуализируйте на пространственном графике получившуюся поверхность регрессии на одном графике с диаграммой рассеивания тестовых данных."
   ]
  },
  {
   "cell_type": "code",
   "execution_count": null,
   "metadata": {},
   "outputs": [],
   "source": []
  },
  {
   "cell_type": "markdown",
   "metadata": {},
   "source": [
    "### 16. Сделайте предсказание на тестовых данных для полиномиальной модели. Оцените качество по метрикам."
   ]
  },
  {
   "cell_type": "code",
   "execution_count": null,
   "metadata": {},
   "outputs": [],
   "source": []
  },
  {
   "cell_type": "markdown",
   "metadata": {},
   "source": [
    "### 17. Постойте полиномиальную модель линейной регрессии второй степени, используя конвейер. Найдите коэффициенты поверхности регрессии.  "
   ]
  },
  {
   "cell_type": "code",
   "execution_count": null,
   "metadata": {},
   "outputs": [],
   "source": []
  },
  {
   "cell_type": "markdown",
   "metadata": {},
   "source": [
    "### 18. Оцените качество работы полиномиальной модели с использованием конвейера по метрикам. Убедитесь, что результаты полностью совпадают с теми, когда конвейер не применялся."
   ]
  },
  {
   "cell_type": "code",
   "execution_count": null,
   "metadata": {},
   "outputs": [],
   "source": []
  }
 ],
 "metadata": {
  "kernelspec": {
   "display_name": "Python 3 (ipykernel)",
   "language": "python",
   "name": "python3"
  },
  "language_info": {
   "codemirror_mode": {
    "name": "ipython",
    "version": 3
   },
   "file_extension": ".py",
   "mimetype": "text/x-python",
   "name": "python",
   "nbconvert_exporter": "python",
   "pygments_lexer": "ipython3",
   "version": "3.12.4"
  }
 },
 "nbformat": 4,
 "nbformat_minor": 4
}
